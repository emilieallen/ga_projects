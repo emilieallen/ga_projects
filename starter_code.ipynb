{
 "cells": [
  {
   "cell_type": "markdown",
   "metadata": {
    "focus": false,
    "id": "69b9a648-bcc7-490d-9f9b-ea244d156bd6"
   },
   "source": [
    "<img src=\"http://imgur.com/1ZcRyrc.png\" style=\"float: left; margin: 15px; height: 80px\">\n",
    "\n",
    "\n",
    "# Web Scraping for Indeed.com and Predicting Salaries"
   ]
  },
  {
   "cell_type": "markdown",
   "metadata": {},
   "source": [
    "### Business Case Overview\n",
    "\n",
    "You're working as a data scientist for a contracting firm that's rapidly expanding. Now that they have their most valuable employee (you!), they need to leverage data to win more contracts. Your firm offers technology and scientific solutions and wants to be competitive in the hiring market. Your principal wants you to\n",
    "\n",
    "   - determine the industry factors that are most important in predicting the salary amounts for these data.\n",
    "\n",
    "To limit the scope, your principal has suggested that you *focus on data-related job postings*, e.g. data scientist, data analyst, research scientist, business intelligence, and any others you might think of. You may also want to decrease the scope by *limiting your search to a single region.*\n",
    "\n",
    "Hint: Aggregators like [Indeed.com](https://www.indeed.com) regularly pool job postings from a variety of markets and industries.\n",
    "\n",
    "**Goal:** Scrape your own data from a job aggregation tool like Indeed.com in order to collect the data to best answer this question.\n",
    "\n",
    "---\n",
    "\n",
    "### Directions\n",
    "\n",
    "In this project you will be leveraging a variety of skills. The first will be to use the web-scraping and/or API techniques you've learned to collect data on data jobs from Indeed.com or another aggregator. Once you have collected and cleaned the data, you will use it to address the question above."
   ]
  },
  {
   "cell_type": "markdown",
   "metadata": {},
   "source": [
    "### Factors that impact salary\n",
    "\n",
    "To predict salary the most appropriate approach would be a regression model.\n",
    "Here instead we just want to estimate which factors (like location, job title, job level, industry sector) lead to high or low salary and work with a classification model. To do so, split the salary into two groups of high and low salary, for example by choosing the median salary as a threshold (in principle you could choose any single or multiple splitting points).\n",
    "\n",
    "Use all the skills you have learned so far to build a predictive model.\n",
    "Whatever you decide to use, the most important thing is to justify your choices and interpret your results. *Communication of your process is key.* Note that most listings **DO NOT** come with salary information. You'll need to be able to extrapolate or predict the expected salaries for these listings."
   ]
  },
  {
   "cell_type": "markdown",
   "metadata": {
    "focus": false,
    "id": "a948d79c-5527-4c0d-ab23-f5d43ce72056"
   },
   "source": [
    "### Scraping job listings from Indeed.com"
   ]
  },
  {
   "cell_type": "markdown",
   "metadata": {
    "focus": true,
    "id": "7203e0c9-e437-4802-a6ad-7dc464f94436"
   },
   "source": [
    "We will be scraping job listings from Indeed.com using BeautifulSoup. Luckily, Indeed.com is a simple text page where we can easily find relevant entries.\n",
    "\n",
    "First, look at the source of an Indeed.com page: (http://www.indeed.com/jobs?q=data+scientist+%2420%2C000&l=New+York&start=10\").\n",
    "\n",
    "Notice, each job listing is underneath a `div` tag with a class name of `result`. We can use BeautifulSoup to extract those. "
   ]
  },
  {
   "cell_type": "markdown",
   "metadata": {
    "focus": false,
    "id": "9732c901-ae26-4160-8376-42e22dd327df"
   },
   "source": [
    "#### Setup a request (using `requests`) to the URL below. Use BeautifulSoup to parse the page and extract all results (HINT: Look for div tags with class name result)\n",
    "\n",
    "The URL here has many query parameters:\n",
    "\n",
    "- `q` for the job search\n",
    "- This is followed by \"+20,000\" to return results with salaries (or expected salaries >$20,000)\n",
    "- `l` for a location \n",
    "- `start` for what result number to start on"
   ]
  },
  {
   "cell_type": "code",
   "execution_count": 551,
   "metadata": {
    "focus": false,
    "id": "e915023e-6b0d-4982-af2a-b1e0355f4927"
   },
   "outputs": [],
   "source": [
    "# URL for US and UK \n",
    "\n",
    "URL = 'http://www.indeed.com/jobs'\n",
    "URL_UK = 'http://www.indeed.co.uk/jobs'"
   ]
  },
  {
   "cell_type": "code",
   "execution_count": 3,
   "metadata": {
    "focus": false,
    "id": "2efefc73-064a-482d-b3b5-ddf5508cb4ec"
   },
   "outputs": [],
   "source": [
    "import requests\n",
    "import bs4\n",
    "from bs4 import BeautifulSoup\n",
    "from tqdm import tqdm_notebook\n",
    "import pandas as pd\n",
    "import numpy as np\n",
    "from bs4 import SoupStrainer\n",
    "import re\n",
    "import matplotlib.pyplot as plt"
   ]
  },
  {
   "cell_type": "code",
   "execution_count": null,
   "metadata": {
    "focus": false,
    "id": "2c6752c4-7704-4c94-8bc0-6f13d2d0d570"
   },
   "outputs": [],
   "source": [
    "## Setting the filters and param\n",
    "# Running a request and returning results through beautiful soup\n",
    "\n",
    "filters = SoupStrainer('div', class_='jobsearch-SerpJobCard unifiedRow row result')\n",
    "param = {'q':'data scientist $20,000', 'l':'New York', 'start':'10'}\n",
    "r = requests.get(url = URL, params = param)\n",
    "result = BeautifulSoup(r.text, 'html.parser', parse_only=filters)\n",
    "print(result.prettify())"
   ]
  },
  {
   "cell_type": "markdown",
   "metadata": {
    "focus": false,
    "id": "bb0b866a-26a7-45e9-8084-5a0f90eb4b3e"
   },
   "source": [
    "Let's look at one result more closely. A single `result` looks like\n",
    "\n",
    "```\n",
    "<div class=\" row result\" data-jk=\"2480d203f7e97210\" data-tn-component=\"organicJob\" id=\"p_2480d203f7e97210\" itemscope=\"\" itemtype=\"http://schema.org/JobPosting\">\n",
    "<h2 class=\"jobtitle\" id=\"jl_2480d203f7e97210\">\n",
    "<a class=\"turnstileLink\" data-tn-element=\"jobTitle\" onmousedown=\"return rclk(this,jobmap[0],1);\" rel=\"nofollow\" target=\"_blank\" title=\"AVP/Quantitative Analyst\">AVP/Quantitative Analyst</a>\n",
    "</h2>\n",
    "<span class=\"company\" itemprop=\"hiringOrganization\" itemtype=\"http://schema.org/Organization\">\n",
    "<span itemprop=\"name\">\n",
    "<a href=\"/cmp/Alliancebernstein?from=SERP&amp;campaignid=serp-linkcompanyname&amp;fromjk=2480d203f7e97210&amp;jcid=b374f2a780e04789\" target=\"_blank\">\n",
    "    AllianceBernstein</a></span>\n",
    "</span>\n",
    "<tr>\n",
    "<td class=\"snip\">\n",
    "<nobr>$117,500 - $127,500 a year</nobr>\n",
    "<div>\n",
    "<span class=\"summary\" itemprop=\"description\">\n",
    "C onduct quantitative and statistical research as well as portfolio management for various investment portfolios. Collaborate with Quantitative Analysts and</span>\n",
    "</div>\n",
    "</div>\n",
    "</td>\n",
    "</tr>\n",
    "</table>\n",
    "</div>\n",
    "```\n",
    "\n",
    "While this has some more verbose elements removed, we can see that there is some structure to the above:\n",
    "- The salary is in a `span` with `class='salaryText'`.\n",
    "- The title of a job is in a link with class set to `jobtitle` and a `data-tn-element='jobTitle'`.  \n",
    "- The location is set in a `span` with `class='location'`. \n",
    "- The company is set in a `span` with `class='company'`. \n",
    "- Decide which other components could be relevant, for example the region or the summary of the job advert."
   ]
  },
  {
   "cell_type": "code",
   "execution_count": null,
   "metadata": {},
   "outputs": [],
   "source": [
    "location = result.find('span', attrs={'class':'location'}).text\n",
    "title = result.find('a', attrs={'data-tn-element':'jobTitle'}).text\n",
    "salary = result.find('span', attrs={'class':'salaryText'})\n",
    "company = result.find('span', attrs={'class':'company'}).text\n",
    "description = result.find('div', attrs={'class':'summary'}).text"
   ]
  },
  {
   "cell_type": "markdown",
   "metadata": {
    "focus": false,
    "id": "f1eddb90-4ba8-483c-a229-77e93aa53119"
   },
   "source": [
    "### Write 4 functions to extract each item: location, company, job, and salary.\n",
    "\n",
    "Example: \n",
    "```python\n",
    "def extract_location_from_result(result):\n",
    "    return result.find ...\n",
    "```\n",
    "\n",
    "\n",
    "- **Make sure these functions are robust and can handle cases where the data/field may not be available.**\n",
    "    - Remember to check if a field is empty or `None` for attempting to call methods on it.\n",
    "    - Remember to use `try/except` if you anticipate errors.\n",
    "- **Test** the functions on the results above and simple examples."
   ]
  },
  {
   "cell_type": "code",
   "execution_count": 553,
   "metadata": {},
   "outputs": [],
   "source": [
    "def extract_location(result):\n",
    "    try:\n",
    "        j_location = result.find(class_=\"location\").text\n",
    "    except:\n",
    "        j_location = np.nan\n",
    "    return j_location\n",
    "\n",
    "def extract_title(result):\n",
    "    try:\n",
    "        j_title=result.find('a', attrs={'data-tn-element':'jobTitle'}).text.strip()\n",
    "    except:\n",
    "        j_title = np.nan\n",
    "    return j_title\n",
    "\n",
    "def extract_company(result):\n",
    "    try:\n",
    "        j_company=result.find('span', attrs={'class':'company'}).text\n",
    "    except:\n",
    "        j_company=np.nan\n",
    "    return j_company\n",
    "\n",
    "\n",
    "def extract_salary(result):\n",
    "    try:\n",
    "        j_salary=result.find('span', attrs={'class':'salaryText'}).text\n",
    "    except:\n",
    "        j_salary=np.nan\n",
    "    return j_salary\n",
    "\n",
    "def extract_summary(result):\n",
    "    try:\n",
    "        j_summary=result.find('div', attrs={'class':'summary'}).text\n",
    "    except:\n",
    "        j_summary=np.nan\n",
    "    return j_summary"
   ]
  },
  {
   "cell_type": "code",
   "execution_count": 554,
   "metadata": {},
   "outputs": [],
   "source": [
    "def scrap_field(x):\n",
    "    j_location = []\n",
    "    j_salary = []\n",
    "    j_title =[]\n",
    "    j_company=[]\n",
    "    j_summary=[]\n",
    "    \n",
    "    for job in x:\n",
    "        j_location.append(extract_location(job))\n",
    "        j_title.append(extract_title(job))\n",
    "        j_company.append(extract_company(job))\n",
    "        j_salary.append(extract_salary(job))\n",
    "        j_summary.append(extract_summary(job))\n",
    "    \n",
    "\n",
    "    jobs = pd.DataFrame({'Location': j_location,\n",
    "                     'Title': j_title,\n",
    "                     'Price': j_salary,\n",
    "                     'Company':j_company,\n",
    "                      'Summary':j_summary})\n",
    " \n",
    "    return jobs"
   ]
  },
  {
   "cell_type": "markdown",
   "metadata": {
    "focus": false,
    "id": "34070e89-9521-4b45-90c8-57a6599aac68"
   },
   "source": [
    "Now, to scale up our scraping, we need to accumulate more results. We can do this by examining the URL above.\n",
    "\n",
    "- \"http://www.indeed.com/jobs?q=data+scientist+%2420%2C000&l=New+York&start=10\"\n",
    "\n",
    "There are two query parameters here we can alter to collect more results, the `l=New+York` and the `start=10`. The first controls the location of the results (so we can try a different city). The second controls where in the results to start and gives 10 results (thus, we can keep incrementing by 10 to go further in the list)."
   ]
  },
  {
   "cell_type": "markdown",
   "metadata": {
    "focus": false,
    "id": "e8beed7c-3e42-40c0-810f-5f67f8f885a0"
   },
   "source": [
    "### Complete the following code to collect results from multiple cities and starting points. \n",
    "- Enter your city below to add it to the search.\n",
    "- Remember to convert your salary to U.S. Dollars to match the other cities if the currency is different."
   ]
  },
  {
   "cell_type": "code",
   "execution_count": 557,
   "metadata": {},
   "outputs": [
    {
     "data": {
      "application/vnd.jupyter.widget-view+json": {
       "model_id": "102cfd87eb5141e5bf1e35ac08ceb122",
       "version_major": 2,
       "version_minor": 0
      },
      "text/plain": [
       "HBox(children=(IntProgress(value=0), HTML(value='')))"
      ]
     },
     "metadata": {},
     "output_type": "display_data"
    },
    {
     "data": {
      "application/vnd.jupyter.widget-view+json": {
       "model_id": "345f325f960e4a218ea9541a48f66d3c",
       "version_major": 2,
       "version_minor": 0
      },
      "text/plain": [
       "HBox(children=(IntProgress(value=0), HTML(value='')))"
      ]
     },
     "metadata": {},
     "output_type": "display_data"
    },
    {
     "data": {
      "application/vnd.jupyter.widget-view+json": {
       "model_id": "b2b6f9b1880e432f80e3ae58785ab49d",
       "version_major": 2,
       "version_minor": 0
      },
      "text/plain": [
       "HBox(children=(IntProgress(value=0), HTML(value='')))"
      ]
     },
     "metadata": {},
     "output_type": "display_data"
    },
    {
     "data": {
      "application/vnd.jupyter.widget-view+json": {
       "model_id": "b47ea89d698644139d2e0c21038aaff1",
       "version_major": 2,
       "version_minor": 0
      },
      "text/plain": [
       "HBox(children=(IntProgress(value=0), HTML(value='')))"
      ]
     },
     "metadata": {},
     "output_type": "display_data"
    },
    {
     "data": {
      "application/vnd.jupyter.widget-view+json": {
       "model_id": "0092f6fc1da64dcfb710ebd0db48feff",
       "version_major": 2,
       "version_minor": 0
      },
      "text/plain": [
       "HBox(children=(IntProgress(value=0), HTML(value='')))"
      ]
     },
     "metadata": {},
     "output_type": "display_data"
    },
    {
     "data": {
      "application/vnd.jupyter.widget-view+json": {
       "model_id": "4fcb443c422840e4b8f2bdb1bacedd79",
       "version_major": 2,
       "version_minor": 0
      },
      "text/plain": [
       "HBox(children=(IntProgress(value=0), HTML(value='')))"
      ]
     },
     "metadata": {},
     "output_type": "display_data"
    },
    {
     "data": {
      "application/vnd.jupyter.widget-view+json": {
       "model_id": "c26a3eb0a0a747daaf08e0d1d0e2d72b",
       "version_major": 2,
       "version_minor": 0
      },
      "text/plain": [
       "HBox(children=(IntProgress(value=0), HTML(value='')))"
      ]
     },
     "metadata": {},
     "output_type": "display_data"
    },
    {
     "data": {
      "application/vnd.jupyter.widget-view+json": {
       "model_id": "a957f53bcb5a4e4fb97b7751c80bfbbc",
       "version_major": 2,
       "version_minor": 0
      },
      "text/plain": [
       "HBox(children=(IntProgress(value=0, max=500), HTML(value='')))"
      ]
     },
     "metadata": {},
     "output_type": "display_data"
    },
    {
     "data": {
      "application/vnd.jupyter.widget-view+json": {
       "model_id": "b6ee82a142b4457a99e2044434e5d449",
       "version_major": 2,
       "version_minor": 0
      },
      "text/plain": [
       "HBox(children=(IntProgress(value=0), HTML(value='')))"
      ]
     },
     "metadata": {},
     "output_type": "display_data"
    },
    {
     "data": {
      "application/vnd.jupyter.widget-view+json": {
       "model_id": "435772ed6d5041a4898cf3e253a19f14",
       "version_major": 2,
       "version_minor": 0
      },
      "text/plain": [
       "HBox(children=(IntProgress(value=0), HTML(value='')))"
      ]
     },
     "metadata": {},
     "output_type": "display_data"
    },
    {
     "data": {
      "application/vnd.jupyter.widget-view+json": {
       "model_id": "b62f22a15c28485b8e0603fb88785a5a",
       "version_major": 2,
       "version_minor": 0
      },
      "text/plain": [
       "HBox(children=(IntProgress(value=0), HTML(value='')))"
      ]
     },
     "metadata": {},
     "output_type": "display_data"
    },
    {
     "data": {
      "application/vnd.jupyter.widget-view+json": {
       "model_id": "34e60da8769741e79e56a319e0f296fd",
       "version_major": 2,
       "version_minor": 0
      },
      "text/plain": [
       "HBox(children=(IntProgress(value=0), HTML(value='')))"
      ]
     },
     "metadata": {},
     "output_type": "display_data"
    },
    {
     "data": {
      "application/vnd.jupyter.widget-view+json": {
       "model_id": "5d50fee98dd8477692d997b72221d1c2",
       "version_major": 2,
       "version_minor": 0
      },
      "text/plain": [
       "HBox(children=(IntProgress(value=0), HTML(value='')))"
      ]
     },
     "metadata": {},
     "output_type": "display_data"
    },
    {
     "data": {
      "application/vnd.jupyter.widget-view+json": {
       "model_id": "c693aa4758bc4e91bcef19407d3e7c89",
       "version_major": 2,
       "version_minor": 0
      },
      "text/plain": [
       "HBox(children=(IntProgress(value=0), HTML(value='')))"
      ]
     },
     "metadata": {},
     "output_type": "display_data"
    },
    {
     "data": {
      "application/vnd.jupyter.widget-view+json": {
       "model_id": "a7b2e76d4e1d4450afa5b31cf2e3722a",
       "version_major": 2,
       "version_minor": 0
      },
      "text/plain": [
       "HBox(children=(IntProgress(value=0), HTML(value='')))"
      ]
     },
     "metadata": {},
     "output_type": "display_data"
    },
    {
     "data": {
      "application/vnd.jupyter.widget-view+json": {
       "model_id": "7e07d566a8cc420a9ac7ce0f99b62a76",
       "version_major": 2,
       "version_minor": 0
      },
      "text/plain": [
       "HBox(children=(IntProgress(value=0), HTML(value='')))"
      ]
     },
     "metadata": {},
     "output_type": "display_data"
    },
    {
     "data": {
      "application/vnd.jupyter.widget-view+json": {
       "model_id": "dfea80b2e65c43a8bcb6e5158b0f32ae",
       "version_major": 2,
       "version_minor": 0
      },
      "text/plain": [
       "HBox(children=(IntProgress(value=0), HTML(value='')))"
      ]
     },
     "metadata": {},
     "output_type": "display_data"
    },
    {
     "data": {
      "application/vnd.jupyter.widget-view+json": {
       "model_id": "117e906fdc5d42f1aec07f2864004af1",
       "version_major": 2,
       "version_minor": 0
      },
      "text/plain": [
       "HBox(children=(IntProgress(value=0), HTML(value='')))"
      ]
     },
     "metadata": {},
     "output_type": "display_data"
    },
    {
     "data": {
      "application/vnd.jupyter.widget-view+json": {
       "model_id": "6dbde2f823bb4e068f6f5344fe8aacc3",
       "version_major": 2,
       "version_minor": 0
      },
      "text/plain": [
       "HBox(children=(IntProgress(value=0), HTML(value='')))"
      ]
     },
     "metadata": {},
     "output_type": "display_data"
    },
    {
     "data": {
      "application/vnd.jupyter.widget-view+json": {
       "model_id": "b00b7d4ebb8340a3bce8f25e4289102c",
       "version_major": 2,
       "version_minor": 0
      },
      "text/plain": [
       "HBox(children=(IntProgress(value=0), HTML(value='')))"
      ]
     },
     "metadata": {},
     "output_type": "display_data"
    },
    {
     "data": {
      "application/vnd.jupyter.widget-view+json": {
       "model_id": "3599cb05c30c4946ac61d1657c85820e",
       "version_major": 2,
       "version_minor": 0
      },
      "text/plain": [
       "HBox(children=(IntProgress(value=0), HTML(value='')))"
      ]
     },
     "metadata": {},
     "output_type": "display_data"
    },
    {
     "data": {
      "application/vnd.jupyter.widget-view+json": {
       "model_id": "7008326a257f42de9347cebd0f77cc30",
       "version_major": 2,
       "version_minor": 0
      },
      "text/plain": [
       "HBox(children=(IntProgress(value=0), HTML(value='')))"
      ]
     },
     "metadata": {},
     "output_type": "display_data"
    },
    {
     "data": {
      "application/vnd.jupyter.widget-view+json": {
       "model_id": "cc3fe433e51245d7aa3b2105473a459a",
       "version_major": 2,
       "version_minor": 0
      },
      "text/plain": [
       "HBox(children=(IntProgress(value=0), HTML(value='')))"
      ]
     },
     "metadata": {},
     "output_type": "display_data"
    },
    {
     "data": {
      "application/vnd.jupyter.widget-view+json": {
       "model_id": "f539354d571e4d39a8a3226ff264b4b8",
       "version_major": 2,
       "version_minor": 0
      },
      "text/plain": [
       "HBox(children=(IntProgress(value=0), HTML(value='')))"
      ]
     },
     "metadata": {},
     "output_type": "display_data"
    },
    {
     "data": {
      "application/vnd.jupyter.widget-view+json": {
       "model_id": "0729129d11da420bae871fac4ce548e5",
       "version_major": 2,
       "version_minor": 0
      },
      "text/plain": [
       "HBox(children=(IntProgress(value=0), HTML(value='')))"
      ]
     },
     "metadata": {},
     "output_type": "display_data"
    },
    {
     "data": {
      "application/vnd.jupyter.widget-view+json": {
       "model_id": "36e0101e85e04565bfa86c2d2f7d8e75",
       "version_major": 2,
       "version_minor": 0
      },
      "text/plain": [
       "HBox(children=(IntProgress(value=0), HTML(value='')))"
      ]
     },
     "metadata": {},
     "output_type": "display_data"
    },
    {
     "data": {
      "application/vnd.jupyter.widget-view+json": {
       "model_id": "2dc35b8a7e8b4e7f86b477308f5e5a61",
       "version_major": 2,
       "version_minor": 0
      },
      "text/plain": [
       "HBox(children=(IntProgress(value=0, max=500), HTML(value='')))"
      ]
     },
     "metadata": {},
     "output_type": "display_data"
    },
    {
     "data": {
      "application/vnd.jupyter.widget-view+json": {
       "model_id": "4f43d226236d4dae8bb8f091de1c8d3d",
       "version_major": 2,
       "version_minor": 0
      },
      "text/plain": [
       "HBox(children=(IntProgress(value=0), HTML(value='')))"
      ]
     },
     "metadata": {},
     "output_type": "display_data"
    },
    {
     "data": {
      "application/vnd.jupyter.widget-view+json": {
       "model_id": "c391b724dbe1439fb5354f9044f62d04",
       "version_major": 2,
       "version_minor": 0
      },
      "text/plain": [
       "HBox(children=(IntProgress(value=0), HTML(value='')))"
      ]
     },
     "metadata": {},
     "output_type": "display_data"
    },
    {
     "data": {
      "application/vnd.jupyter.widget-view+json": {
       "model_id": "fb98ca9d83354711a564da8c06a0fce4",
       "version_major": 2,
       "version_minor": 0
      },
      "text/plain": [
       "HBox(children=(IntProgress(value=0), HTML(value='')))"
      ]
     },
     "metadata": {},
     "output_type": "display_data"
    },
    {
     "data": {
      "application/vnd.jupyter.widget-view+json": {
       "model_id": "c0330edc109c4bee859ea74e20ac6bba",
       "version_major": 2,
       "version_minor": 0
      },
      "text/plain": [
       "HBox(children=(IntProgress(value=0), HTML(value='')))"
      ]
     },
     "metadata": {},
     "output_type": "display_data"
    },
    {
     "data": {
      "application/vnd.jupyter.widget-view+json": {
       "model_id": "13ca220f1796489ea93409d2f180e1f7",
       "version_major": 2,
       "version_minor": 0
      },
      "text/plain": [
       "HBox(children=(IntProgress(value=0), HTML(value='')))"
      ]
     },
     "metadata": {},
     "output_type": "display_data"
    },
    {
     "data": {
      "application/vnd.jupyter.widget-view+json": {
       "model_id": "f9cfc2b546f24258a97ec80617038aae",
       "version_major": 2,
       "version_minor": 0
      },
      "text/plain": [
       "HBox(children=(IntProgress(value=0), HTML(value='')))"
      ]
     },
     "metadata": {},
     "output_type": "display_data"
    },
    {
     "data": {
      "application/vnd.jupyter.widget-view+json": {
       "model_id": "a90154a156834c8d94c5119a630c9813",
       "version_major": 2,
       "version_minor": 0
      },
      "text/plain": [
       "HBox(children=(IntProgress(value=0), HTML(value='')))"
      ]
     },
     "metadata": {},
     "output_type": "display_data"
    },
    {
     "data": {
      "application/vnd.jupyter.widget-view+json": {
       "model_id": "6afab6d9b7c14ca28c919e6593a0a4eb",
       "version_major": 2,
       "version_minor": 0
      },
      "text/plain": [
       "HBox(children=(IntProgress(value=0), HTML(value='')))"
      ]
     },
     "metadata": {},
     "output_type": "display_data"
    },
    {
     "data": {
      "application/vnd.jupyter.widget-view+json": {
       "model_id": "bfd258fc8ca440bbaa104c7320d4cde3",
       "version_major": 2,
       "version_minor": 0
      },
      "text/plain": [
       "HBox(children=(IntProgress(value=0), HTML(value='')))"
      ]
     },
     "metadata": {},
     "output_type": "display_data"
    },
    {
     "data": {
      "application/vnd.jupyter.widget-view+json": {
       "model_id": "65de7e5871554dad98bbc84720e5c7f9",
       "version_major": 2,
       "version_minor": 0
      },
      "text/plain": [
       "HBox(children=(IntProgress(value=0), HTML(value='')))"
      ]
     },
     "metadata": {},
     "output_type": "display_data"
    },
    {
     "data": {
      "application/vnd.jupyter.widget-view+json": {
       "model_id": "4c49e653225f4855931a56e8bafc70c1",
       "version_major": 2,
       "version_minor": 0
      },
      "text/plain": [
       "HBox(children=(IntProgress(value=0), HTML(value='')))"
      ]
     },
     "metadata": {},
     "output_type": "display_data"
    },
    {
     "data": {
      "application/vnd.jupyter.widget-view+json": {
       "model_id": "cd8a6907e027449c95fa8a9b1bc0bf04",
       "version_major": 2,
       "version_minor": 0
      },
      "text/plain": [
       "HBox(children=(IntProgress(value=0), HTML(value='')))"
      ]
     },
     "metadata": {},
     "output_type": "display_data"
    },
    {
     "data": {
      "application/vnd.jupyter.widget-view+json": {
       "model_id": "a1e23e98625c4a168aebeb488dcb0cf2",
       "version_major": 2,
       "version_minor": 0
      },
      "text/plain": [
       "HBox(children=(IntProgress(value=0), HTML(value='')))"
      ]
     },
     "metadata": {},
     "output_type": "display_data"
    },
    {
     "data": {
      "application/vnd.jupyter.widget-view+json": {
       "model_id": "ccf690f78c224ac8ade9f9bf57f64368",
       "version_major": 2,
       "version_minor": 0
      },
      "text/plain": [
       "HBox(children=(IntProgress(value=0), HTML(value='')))"
      ]
     },
     "metadata": {},
     "output_type": "display_data"
    },
    {
     "data": {
      "application/vnd.jupyter.widget-view+json": {
       "model_id": "38cef2cfaaeb4689b0a3cd5fcceac7a5",
       "version_major": 2,
       "version_minor": 0
      },
      "text/plain": [
       "HBox(children=(IntProgress(value=0), HTML(value='')))"
      ]
     },
     "metadata": {},
     "output_type": "display_data"
    },
    {
     "data": {
      "application/vnd.jupyter.widget-view+json": {
       "model_id": "e84b9e37598f40aabd3b1de364451c7a",
       "version_major": 2,
       "version_minor": 0
      },
      "text/plain": [
       "HBox(children=(IntProgress(value=0), HTML(value='')))"
      ]
     },
     "metadata": {},
     "output_type": "display_data"
    },
    {
     "data": {
      "application/vnd.jupyter.widget-view+json": {
       "model_id": "1708b27487204ae9be25087d90323d92",
       "version_major": 2,
       "version_minor": 0
      },
      "text/plain": [
       "HBox(children=(IntProgress(value=0), HTML(value='')))"
      ]
     },
     "metadata": {},
     "output_type": "display_data"
    },
    {
     "data": {
      "application/vnd.jupyter.widget-view+json": {
       "model_id": "e67d127102184664b01325312d32ab19",
       "version_major": 2,
       "version_minor": 0
      },
      "text/plain": [
       "HBox(children=(IntProgress(value=0), HTML(value='')))"
      ]
     },
     "metadata": {},
     "output_type": "display_data"
    },
    {
     "data": {
      "application/vnd.jupyter.widget-view+json": {
       "model_id": "7e7fd20ffd4248a09a7818f54507fb85",
       "version_major": 2,
       "version_minor": 0
      },
      "text/plain": [
       "HBox(children=(IntProgress(value=0), HTML(value='')))"
      ]
     },
     "metadata": {},
     "output_type": "display_data"
    },
    {
     "data": {
      "application/vnd.jupyter.widget-view+json": {
       "model_id": "c8ea64fbd0374f1dac32bec9a0988f88",
       "version_major": 2,
       "version_minor": 0
      },
      "text/plain": [
       "HBox(children=(IntProgress(value=0), HTML(value='')))"
      ]
     },
     "metadata": {},
     "output_type": "display_data"
    },
    {
     "data": {
      "application/vnd.jupyter.widget-view+json": {
       "model_id": "00ba4b534b5443f3a053e624dfac09af",
       "version_major": 2,
       "version_minor": 0
      },
      "text/plain": [
       "HBox(children=(IntProgress(value=0), HTML(value='')))"
      ]
     },
     "metadata": {},
     "output_type": "display_data"
    },
    {
     "data": {
      "application/vnd.jupyter.widget-view+json": {
       "model_id": "c39c63a1fad14e44937dbd7a7dcfef9c",
       "version_major": 2,
       "version_minor": 0
      },
      "text/plain": [
       "HBox(children=(IntProgress(value=0), HTML(value='')))"
      ]
     },
     "metadata": {},
     "output_type": "display_data"
    },
    {
     "data": {
      "application/vnd.jupyter.widget-view+json": {
       "model_id": "5a7f338ac48442cfb46a18584c0cc0cc",
       "version_major": 2,
       "version_minor": 0
      },
      "text/plain": [
       "HBox(children=(IntProgress(value=0), HTML(value='')))"
      ]
     },
     "metadata": {},
     "output_type": "display_data"
    }
   ],
   "source": [
    "max_results_per_state = 1000 # Set this to a high-value (5000) to generate more results. \n",
    "# Crawling more results, will also take much longer. First test your code on a small number of results and then expand.\n",
    "\n",
    "import re \n",
    "state_results = pd.DataFrame()\n",
    "\n",
    "filters = SoupStrainer(\"div\", class_=\"jobsearch-SerpJobCard unifiedRow row result\")\n",
    "\n",
    "for state in set( ['Alabama','Alaska','Arizona','Arkansas','California','Colorado','Connecticut','Delaware','Florida','Georgia','Hawaii',\n",
    "  'Idaho','Illinois','Indiana','Iowa','Kansas','Kentucky','Louisiana','Maine','Maryland','Massachusetts','Michigan',\n",
    "  'Minnesota','Mississippi','Missouri','Montana','Nebraska','Nevada','New Hampshire','New Jersey','New Mexico','New York'\n",
    "  ,'North Carolina','North Dakota','Ohio','Oklahoma','Oregon','Pennsylvania','Rhode Island','South Carolina','South Dakota'\n",
    "  ,'Tennessee','Texas','Utah','Vermont','Virginia','Washington','West Virginia','Wisconsin','Wyoming']):\n",
    "    if state == 'California' or state == 'New York':\n",
    "        for start in tqdm_notebook(range(0, 5000, 10)):\n",
    "            # Grab the results from the request (as above)\n",
    "            param = {'q':'data scientist', 'l':state, 'start':start}\n",
    "            r = requests.get(url = URL, params = param)\n",
    "            result = BeautifulSoup(r.text, 'html.parser', parse_only=filters)\n",
    "            # Append to the full set of results\n",
    "            state_results = state_results.append(scrap_field(result))\n",
    "    else:\n",
    "        for start in tqdm_notebook(range(0, max_results_per_state, 10)):\n",
    "            # Grab the results from the request (as above)\n",
    "            param = {'q':'data scientist', 'l':state, 'start':start}\n",
    "            r = requests.get(url = URL, params = param)\n",
    "            result = BeautifulSoup(r.text, 'html.parser', parse_only=filters)\n",
    "            # Append to the full set of results\n",
    "            state_results = state_results.append(scrap_field(result))\n",
    "  "
   ]
  },
  {
   "cell_type": "code",
   "execution_count": 521,
   "metadata": {},
   "outputs": [
    {
     "data": {
      "application/vnd.jupyter.widget-view+json": {
       "model_id": "e54f681e211540ee85f4f90fcad93063",
       "version_major": 2,
       "version_minor": 0
      },
      "text/plain": [
       "HBox(children=(IntProgress(value=0, max=200), HTML(value='')))"
      ]
     },
     "metadata": {},
     "output_type": "display_data"
    },
    {
     "name": "stdout",
     "output_type": "stream",
     "text": [
      "\n"
     ]
    }
   ],
   "source": [
    "max_results_per_country = 2000 # Set this to a high-value (5000) to generate more results. \n",
    "# Crawling more results, will also take much longer. First test your code on a small number of results and then expand.\n",
    "\n",
    "country_results = pd.DataFrame()\n",
    "\n",
    "filters = SoupStrainer(\"div\", class_=\"jobsearch-SerpJobCard unifiedRow row result\")\n",
    "\n",
    "for start in tqdm_notebook(range(0, max_results_per_country, 10)):\n",
    "    # Grab the results from the request (as above)\n",
    "    param = {'q':'data scientist', 'l':'United Kingdom', 'start':start}\n",
    "    r = requests.get(url = URL_UK, params = param)\n",
    "    result = BeautifulSoup(r.text, 'html.parser', parse_only=filters)\n",
    "    # Append to the full set of results\n",
    "    country_results = country_results.append(scrap_field(result))"
   ]
  },
  {
   "cell_type": "code",
   "execution_count": 558,
   "metadata": {},
   "outputs": [],
   "source": [
    "# Returning rows with a salary (=Price) for the US states\n",
    "\n",
    "state = state_results[~state_results.Price.isnull()]"
   ]
  },
  {
   "cell_type": "code",
   "execution_count": 522,
   "metadata": {},
   "outputs": [],
   "source": [
    "# Returning rows with a salary (=Price) for the UK\n",
    "\n",
    "country = country_results[~country_results.Price.isnull()]\n"
   ]
  },
  {
   "cell_type": "code",
   "execution_count": 524,
   "metadata": {},
   "outputs": [],
   "source": [
    "# Saving df to csv\n",
    "\n",
    "country.to_csv(r'UK_salary.csv')"
   ]
  },
  {
   "cell_type": "code",
   "execution_count": 559,
   "metadata": {},
   "outputs": [],
   "source": [
    "state.to_csv(r'US_state_salary.csv')"
   ]
  },
  {
   "cell_type": "markdown",
   "metadata": {
    "focus": false,
    "id": "20339c09-5032-4e27-91be-286e9b46cd13"
   },
   "source": [
    "#### Use the functions you wrote above to parse out the 4 fields - location, title, company and salary. Create a dataframe from the results with those 4 columns."
   ]
  },
  {
   "cell_type": "markdown",
   "metadata": {
    "focus": false,
    "id": "ff98ce64-78a7-441f-a675-63464e32c834"
   },
   "source": [
    "Lastly, we need to clean up salary data. \n",
    "\n",
    "1. Only a small number of the scraped results have salary information - only these will be used for modeling.\n",
    "1. Some of the salaries are not yearly but hourly or weekly, these will not be useful to us for now.\n",
    "1. Some of the entries may be duplicated.\n",
    "1. The salaries are given as text and usually with ranges."
   ]
  },
  {
   "cell_type": "markdown",
   "metadata": {
    "focus": false,
    "id": "ff98ce64-78a7-441f-a675-63464e32c834"
   },
   "source": [
    "#### Find the entries with annual salary entries, by filtering the entries without salaries or salaries that are not yearly (filter those that refer to hour or week). Also, remove duplicate entries."
   ]
  },
  {
   "cell_type": "code",
   "execution_count": 19,
   "metadata": {
    "focus": false,
    "id": "58533e57-f86b-494a-b841-e7b59c6229c6"
   },
   "outputs": [
    {
     "data": {
      "text/html": [
       "<div>\n",
       "<style scoped>\n",
       "    .dataframe tbody tr th:only-of-type {\n",
       "        vertical-align: middle;\n",
       "    }\n",
       "\n",
       "    .dataframe tbody tr th {\n",
       "        vertical-align: top;\n",
       "    }\n",
       "\n",
       "    .dataframe thead th {\n",
       "        text-align: right;\n",
       "    }\n",
       "</style>\n",
       "<table border=\"1\" class=\"dataframe\">\n",
       "  <thead>\n",
       "    <tr style=\"text-align: right;\">\n",
       "      <th></th>\n",
       "      <th>Location</th>\n",
       "      <th>Title</th>\n",
       "      <th>Price</th>\n",
       "      <th>Company</th>\n",
       "      <th>Summary</th>\n",
       "    </tr>\n",
       "  </thead>\n",
       "  <tbody>\n",
       "    <tr>\n",
       "      <th>3</th>\n",
       "      <td>London</td>\n",
       "      <td>Data Scientist</td>\n",
       "      <td>33103</td>\n",
       "      <td>UK Government - National Crime Agency</td>\n",
       "      <td>Develop innovative solutions to data challenge...</td>\n",
       "    </tr>\n",
       "    <tr>\n",
       "      <th>4</th>\n",
       "      <td>London NW9</td>\n",
       "      <td>919-AP-11862797-EXT - Assistant Healthcare Sci...</td>\n",
       "      <td>23327</td>\n",
       "      <td>Public Health England</td>\n",
       "      <td>Data from clinical vaccine trials help to gene...</td>\n",
       "    </tr>\n",
       "    <tr>\n",
       "      <th>5</th>\n",
       "      <td>United Kingdom</td>\n",
       "      <td>Data and Technology Graduate Scheme 2020</td>\n",
       "      <td>27500</td>\n",
       "      <td>EDF Energy Limited</td>\n",
       "      <td>Ingesting data, preparing data, wrangling data...</td>\n",
       "    </tr>\n",
       "    <tr>\n",
       "      <th>14</th>\n",
       "      <td>London</td>\n",
       "      <td>Data Scientist</td>\n",
       "      <td>47500</td>\n",
       "      <td>Chaser Technologies Limited</td>\n",
       "      <td>As our first data scientist, you’ll be instru...</td>\n",
       "    </tr>\n",
       "    <tr>\n",
       "      <th>19</th>\n",
       "      <td>United Kingdom</td>\n",
       "      <td>Water Quality Distribution Scientist</td>\n",
       "      <td>35000</td>\n",
       "      <td>South East Water</td>\n",
       "      <td>Excellent analytical and interpretation skills...</td>\n",
       "    </tr>\n",
       "  </tbody>\n",
       "</table>\n",
       "</div>"
      ],
      "text/plain": [
       "          Location                                              Title  Price  \\\n",
       "3           London                                     Data Scientist  33103   \n",
       "4       London NW9  919-AP-11862797-EXT - Assistant Healthcare Sci...  23327   \n",
       "5   United Kingdom           Data and Technology Graduate Scheme 2020  27500   \n",
       "14          London                                     Data Scientist  47500   \n",
       "19  United Kingdom               Water Quality Distribution Scientist  35000   \n",
       "\n",
       "                                  Company  \\\n",
       "3   UK Government - National Crime Agency   \n",
       "4                   Public Health England   \n",
       "5                      EDF Energy Limited   \n",
       "14            Chaser Technologies Limited   \n",
       "19                       South East Water   \n",
       "\n",
       "                                              Summary  \n",
       "3   Develop innovative solutions to data challenge...  \n",
       "4   Data from clinical vaccine trials help to gene...  \n",
       "5   Ingesting data, preparing data, wrangling data...  \n",
       "14   As our first data scientist, you’ll be instru...  \n",
       "19  Excellent analytical and interpretation skills...  "
      ]
     },
     "execution_count": 19,
     "metadata": {},
     "output_type": "execute_result"
    }
   ],
   "source": [
    "## DataCleaning for the UK dataset\n",
    "\n",
    "salary_UK = pd.read_csv('UK_salary.csv')\n",
    "salary_UK = salary_UK.drop(columns = 'Unnamed: 0')\n",
    "\n",
    "# Removing all non word characters except '-' and '\\n':\n",
    "\n",
    "salary_UK.Price.replace(to_replace=r'[^\\w-]', value='', regex=True,inplace=True)\n",
    "salary_UK.replace(to_replace=r'\\n', value='', regex=True,inplace=True)\n",
    "\n",
    "# Selecting yearly salary and removing annotation\n",
    "salary_UK.sort_values(by='Company')\n",
    "salary_UK = salary_UK[(salary_UK.Price.str.contains ('year'))]\n",
    "salary_UK.Price = salary_UK.Price.str.replace('ayear','')\n",
    "\n",
    "# Extracting numbers from range and returning average:\n",
    "\n",
    "salary_UK.Price = salary_UK.Price.apply(lambda y:(int(y[:6])+int(y[7:]))/2 if len(y) >= 13 else\n",
    "                (int(y[:5])+int(y[6:]))/2 if len(y) >= 11 else\n",
    "                np.nan if len(y) >= 7 else y)\n",
    "\n",
    "# Removing nan resulting from incorrect salary\n",
    "\n",
    "salary_UK = salary_UK[~salary_UK.Price.isnull()]\n",
    "\n",
    "# Converting salary columns to integer:\n",
    "\n",
    "def convert_col_type(df,col,t):\n",
    "    df[col] = df[col].astype(t)\n",
    "\n",
    "convert_col_type(salary_UK,['Price'],int)\n",
    "\n",
    "# Dropping duplicates\n",
    "\n",
    "salary_UK.drop_duplicates(inplace = True, keep = 'last')\n",
    "\n",
    "salary_UK.head()"
   ]
  },
  {
   "cell_type": "code",
   "execution_count": null,
   "metadata": {},
   "outputs": [],
   "source": [
    "# Saving df to csv\n",
    "salary_UK.to_csv('UK_salary_clean',index=False)"
   ]
  },
  {
   "cell_type": "markdown",
   "metadata": {
    "focus": false,
    "id": "7d4bc860-b214-4f75-9cd0-b234830b1ec2"
   },
   "source": [
    "#### Write a function that takes a salary string and converts it to a number, averaging a salary range if necessary."
   ]
  },
  {
   "cell_type": "code",
   "execution_count": 20,
   "metadata": {},
   "outputs": [
    {
     "data": {
      "text/html": [
       "<div>\n",
       "<style scoped>\n",
       "    .dataframe tbody tr th:only-of-type {\n",
       "        vertical-align: middle;\n",
       "    }\n",
       "\n",
       "    .dataframe tbody tr th {\n",
       "        vertical-align: top;\n",
       "    }\n",
       "\n",
       "    .dataframe thead th {\n",
       "        text-align: right;\n",
       "    }\n",
       "</style>\n",
       "<table border=\"1\" class=\"dataframe\">\n",
       "  <thead>\n",
       "    <tr style=\"text-align: right;\">\n",
       "      <th></th>\n",
       "      <th>Location</th>\n",
       "      <th>Title</th>\n",
       "      <th>Price</th>\n",
       "      <th>Company</th>\n",
       "      <th>Summary</th>\n",
       "    </tr>\n",
       "  </thead>\n",
       "  <tbody>\n",
       "    <tr>\n",
       "      <th>0</th>\n",
       "      <td>Orlando, FL 32801 (Central Business District a...</td>\n",
       "      <td>Data Scientist (Database Administrator)</td>\n",
       "      <td>95160</td>\n",
       "      <td>Orange County Government, Florida</td>\n",
       "      <td>Posting Closes: October 30, 2019 (posting sub...</td>\n",
       "    </tr>\n",
       "    <tr>\n",
       "      <th>1</th>\n",
       "      <td>Sanford, FL</td>\n",
       "      <td>RESEARCH STATISTICIAN</td>\n",
       "      <td>49784</td>\n",
       "      <td>Seminole County Sheriff's Office</td>\n",
       "      <td>This position performs professional work apply...</td>\n",
       "    </tr>\n",
       "    <tr>\n",
       "      <th>2</th>\n",
       "      <td>Davie, FL</td>\n",
       "      <td>District Director, Research and Data Science</td>\n",
       "      <td>81535</td>\n",
       "      <td>Broward College</td>\n",
       "      <td>Expertise in Predictive Modeling, Applied Mac...</td>\n",
       "    </tr>\n",
       "    <tr>\n",
       "      <th>3</th>\n",
       "      <td>Tampa, FL</td>\n",
       "      <td>Python Architect / Data Scientist</td>\n",
       "      <td>130000</td>\n",
       "      <td>Aceolution Inc</td>\n",
       "      <td>Aceolution is placing the candidate for a top ...</td>\n",
       "    </tr>\n",
       "    <tr>\n",
       "      <th>69</th>\n",
       "      <td>Columbia, SC 29223</td>\n",
       "      <td>Statistician III</td>\n",
       "      <td>40759</td>\n",
       "      <td>State of South Carolina</td>\n",
       "      <td>Performs detailed statistical analysis and re...</td>\n",
       "    </tr>\n",
       "  </tbody>\n",
       "</table>\n",
       "</div>"
      ],
      "text/plain": [
       "                                             Location  \\\n",
       "0   Orlando, FL 32801 (Central Business District a...   \n",
       "1                                         Sanford, FL   \n",
       "2                                           Davie, FL   \n",
       "3                                           Tampa, FL   \n",
       "69                                 Columbia, SC 29223   \n",
       "\n",
       "                                           Title   Price  \\\n",
       "0        Data Scientist (Database Administrator)   95160   \n",
       "1                          RESEARCH STATISTICIAN   49784   \n",
       "2   District Director, Research and Data Science   81535   \n",
       "3              Python Architect / Data Scientist  130000   \n",
       "69                              Statistician III   40759   \n",
       "\n",
       "                              Company  \\\n",
       "0   Orange County Government, Florida   \n",
       "1    Seminole County Sheriff's Office   \n",
       "2                     Broward College   \n",
       "3                      Aceolution Inc   \n",
       "69            State of South Carolina   \n",
       "\n",
       "                                              Summary  \n",
       "0    Posting Closes: October 30, 2019 (posting sub...  \n",
       "1   This position performs professional work apply...  \n",
       "2    Expertise in Predictive Modeling, Applied Mac...  \n",
       "3   Aceolution is placing the candidate for a top ...  \n",
       "69   Performs detailed statistical analysis and re...  "
      ]
     },
     "execution_count": 20,
     "metadata": {},
     "output_type": "execute_result"
    }
   ],
   "source": [
    "salary_US = pd.read_csv('US_state_salary.csv')\n",
    "salary_US = salary_US.drop(columns = 'Unnamed: 0')\n",
    "\n",
    "# Removing all non word characters except '-' and '\\n':\n",
    "\n",
    "salary_US.Price.replace(to_replace=r'[^\\w-]', value='', regex=True,inplace=True)\n",
    "salary_US.replace(to_replace=r'\\n', value='', regex=True,inplace=True)\n",
    "\n",
    "# Selecting yearly salary and removing annotation\n",
    "salary_US.sort_values(by='Company')\n",
    "salary_US = salary_US[(salary_US.Price.str.contains ('year'))]\n",
    "salary_US.Price = salary_US.Price.str.replace('ayear','')\n",
    "\n",
    "# Extracting numbers from range and returning average:\n",
    "salary_US.Price = salary_US.Price.apply(lambda y:(int(y[:6])+int(y[7:]))/2 if len(y) >= 13 else\n",
    "                (int(y[:5])+int(y[6:]))/2 if len(y) >= 11 else\n",
    "                np.nan if len(y) >= 7 else y)\n",
    "\n",
    "# Removing nan resulting from incorrect salary\n",
    "salary_US = salary_US[~salary_US.Price.isnull()]\n",
    "\n",
    "# Converting salary columns to integer:\n",
    "convert_col_type(salary_US,['Price'],int)\n",
    "\n",
    "# Removing duplicates\n",
    "salary_US.drop_duplicates(inplace = True, keep = 'last')\n",
    "\n",
    "salary_US.head()"
   ]
  },
  {
   "cell_type": "code",
   "execution_count": 592,
   "metadata": {},
   "outputs": [],
   "source": [
    "salary_US.to_csv('US_state_salary_clean',index=False)"
   ]
  },
  {
   "cell_type": "markdown",
   "metadata": {
    "focus": false,
    "id": "243e949e-2742-40af-872e-fec475fd306c"
   },
   "source": [
    "### Load in the the data of scraped salaries"
   ]
  },
  {
   "cell_type": "code",
   "execution_count": 21,
   "metadata": {
    "focus": false,
    "id": "588f9845-6143-4bcc-bfd1-85d45b79303d"
   },
   "outputs": [
    {
     "data": {
      "text/html": [
       "<div>\n",
       "<style scoped>\n",
       "    .dataframe tbody tr th:only-of-type {\n",
       "        vertical-align: middle;\n",
       "    }\n",
       "\n",
       "    .dataframe tbody tr th {\n",
       "        vertical-align: top;\n",
       "    }\n",
       "\n",
       "    .dataframe thead th {\n",
       "        text-align: right;\n",
       "    }\n",
       "</style>\n",
       "<table border=\"1\" class=\"dataframe\">\n",
       "  <thead>\n",
       "    <tr style=\"text-align: right;\">\n",
       "      <th></th>\n",
       "      <th>Location</th>\n",
       "      <th>Title</th>\n",
       "      <th>Price</th>\n",
       "      <th>Company</th>\n",
       "      <th>Summary</th>\n",
       "    </tr>\n",
       "  </thead>\n",
       "  <tbody>\n",
       "    <tr>\n",
       "      <th>0</th>\n",
       "      <td>London</td>\n",
       "      <td>Data Scientist</td>\n",
       "      <td>33103</td>\n",
       "      <td>UK Government - National Crime Agency</td>\n",
       "      <td>Develop innovative solutions to data challenge...</td>\n",
       "    </tr>\n",
       "    <tr>\n",
       "      <th>1</th>\n",
       "      <td>London NW9</td>\n",
       "      <td>919-AP-11862797-EXT - Assistant Healthcare Sci...</td>\n",
       "      <td>23327</td>\n",
       "      <td>Public Health England</td>\n",
       "      <td>Data from clinical vaccine trials help to gene...</td>\n",
       "    </tr>\n",
       "    <tr>\n",
       "      <th>2</th>\n",
       "      <td>United Kingdom</td>\n",
       "      <td>Data and Technology Graduate Scheme 2020</td>\n",
       "      <td>27500</td>\n",
       "      <td>EDF Energy Limited</td>\n",
       "      <td>Ingesting data, preparing data, wrangling data...</td>\n",
       "    </tr>\n",
       "    <tr>\n",
       "      <th>3</th>\n",
       "      <td>London</td>\n",
       "      <td>Data Scientist</td>\n",
       "      <td>47500</td>\n",
       "      <td>Chaser Technologies Limited</td>\n",
       "      <td>As our first data scientist, you’ll be instru...</td>\n",
       "    </tr>\n",
       "    <tr>\n",
       "      <th>4</th>\n",
       "      <td>United Kingdom</td>\n",
       "      <td>Water Quality Distribution Scientist</td>\n",
       "      <td>35000</td>\n",
       "      <td>South East Water</td>\n",
       "      <td>Excellent analytical and interpretation skills...</td>\n",
       "    </tr>\n",
       "  </tbody>\n",
       "</table>\n",
       "</div>"
      ],
      "text/plain": [
       "         Location                                              Title  Price  \\\n",
       "0          London                                     Data Scientist  33103   \n",
       "1      London NW9  919-AP-11862797-EXT - Assistant Healthcare Sci...  23327   \n",
       "2  United Kingdom           Data and Technology Graduate Scheme 2020  27500   \n",
       "3          London                                     Data Scientist  47500   \n",
       "4  United Kingdom               Water Quality Distribution Scientist  35000   \n",
       "\n",
       "                                 Company  \\\n",
       "0  UK Government - National Crime Agency   \n",
       "1                  Public Health England   \n",
       "2                     EDF Energy Limited   \n",
       "3            Chaser Technologies Limited   \n",
       "4                       South East Water   \n",
       "\n",
       "                                             Summary  \n",
       "0  Develop innovative solutions to data challenge...  \n",
       "1  Data from clinical vaccine trials help to gene...  \n",
       "2  Ingesting data, preparing data, wrangling data...  \n",
       "3   As our first data scientist, you’ll be instru...  \n",
       "4  Excellent analytical and interpretation skills...  "
      ]
     },
     "execution_count": 21,
     "metadata": {},
     "output_type": "execute_result"
    }
   ],
   "source": [
    "## Loading UK dataset\n",
    "\n",
    "Uk_sal = pd.read_csv('UK_salary_clean')\n",
    "Uk_sal.head()"
   ]
  },
  {
   "cell_type": "code",
   "execution_count": 160,
   "metadata": {},
   "outputs": [],
   "source": [
    "# Get names of indexes for which column Location has value UK\n",
    "\n",
    "indexNames = Uk_sal[ Uk_sal['Location'] == 'United Kingdom' ].index\n",
    " \n",
    "# Delete these row indexes from dataFrame\n",
    "Uk_sal.drop(indexNames , inplace=True)"
   ]
  },
  {
   "cell_type": "code",
   "execution_count": 161,
   "metadata": {},
   "outputs": [],
   "source": [
    "# Convert GBP to USD @ 1.29\n",
    "\n",
    "Uk_sal['Price'] = Uk_sal['Price'] * 1.29"
   ]
  },
  {
   "cell_type": "code",
   "execution_count": 162,
   "metadata": {},
   "outputs": [
    {
     "data": {
      "text/html": [
       "<div>\n",
       "<style scoped>\n",
       "    .dataframe tbody tr th:only-of-type {\n",
       "        vertical-align: middle;\n",
       "    }\n",
       "\n",
       "    .dataframe tbody tr th {\n",
       "        vertical-align: top;\n",
       "    }\n",
       "\n",
       "    .dataframe thead th {\n",
       "        text-align: right;\n",
       "    }\n",
       "</style>\n",
       "<table border=\"1\" class=\"dataframe\">\n",
       "  <thead>\n",
       "    <tr style=\"text-align: right;\">\n",
       "      <th></th>\n",
       "      <th>Location</th>\n",
       "      <th>Title</th>\n",
       "      <th>Price</th>\n",
       "      <th>Company</th>\n",
       "      <th>Summary</th>\n",
       "    </tr>\n",
       "  </thead>\n",
       "  <tbody>\n",
       "    <tr>\n",
       "      <th>0</th>\n",
       "      <td>London</td>\n",
       "      <td>Data Scientist</td>\n",
       "      <td>42702.87</td>\n",
       "      <td>UK Government - National Crime Agency</td>\n",
       "      <td>Develop innovative solutions to data challenge...</td>\n",
       "    </tr>\n",
       "    <tr>\n",
       "      <th>1</th>\n",
       "      <td>London NW9</td>\n",
       "      <td>919-AP-11862797-EXT - Assistant Healthcare Sci...</td>\n",
       "      <td>30091.83</td>\n",
       "      <td>Public Health England</td>\n",
       "      <td>Data from clinical vaccine trials help to gene...</td>\n",
       "    </tr>\n",
       "    <tr>\n",
       "      <th>3</th>\n",
       "      <td>London</td>\n",
       "      <td>Data Scientist</td>\n",
       "      <td>61275.00</td>\n",
       "      <td>Chaser Technologies Limited</td>\n",
       "      <td>As our first data scientist, you’ll be instru...</td>\n",
       "    </tr>\n",
       "    <tr>\n",
       "      <th>5</th>\n",
       "      <td>London</td>\n",
       "      <td>Assistant Healthcare Scientist</td>\n",
       "      <td>30091.83</td>\n",
       "      <td>Public Health England</td>\n",
       "      <td>Public Health England (PHE) is an executive ag...</td>\n",
       "    </tr>\n",
       "    <tr>\n",
       "      <th>6</th>\n",
       "      <td>London</td>\n",
       "      <td>Data Scientist</td>\n",
       "      <td>61275.00</td>\n",
       "      <td>Virgin Media</td>\n",
       "      <td>Advanced data preparation and munging skills w...</td>\n",
       "    </tr>\n",
       "  </tbody>\n",
       "</table>\n",
       "</div>"
      ],
      "text/plain": [
       "     Location                                              Title     Price  \\\n",
       "0      London                                     Data Scientist  42702.87   \n",
       "1  London NW9  919-AP-11862797-EXT - Assistant Healthcare Sci...  30091.83   \n",
       "3      London                                     Data Scientist  61275.00   \n",
       "5      London                     Assistant Healthcare Scientist  30091.83   \n",
       "6      London                                     Data Scientist  61275.00   \n",
       "\n",
       "                                 Company  \\\n",
       "0  UK Government - National Crime Agency   \n",
       "1                  Public Health England   \n",
       "3            Chaser Technologies Limited   \n",
       "5                  Public Health England   \n",
       "6                           Virgin Media   \n",
       "\n",
       "                                             Summary  \n",
       "0  Develop innovative solutions to data challenge...  \n",
       "1  Data from clinical vaccine trials help to gene...  \n",
       "3   As our first data scientist, you’ll be instru...  \n",
       "5  Public Health England (PHE) is an executive ag...  \n",
       "6  Advanced data preparation and munging skills w...  "
      ]
     },
     "execution_count": 162,
     "metadata": {},
     "output_type": "execute_result"
    }
   ],
   "source": [
    "Uk_sal.head()"
   ]
  },
  {
   "cell_type": "code",
   "execution_count": 23,
   "metadata": {},
   "outputs": [
    {
     "data": {
      "text/html": [
       "<div>\n",
       "<style scoped>\n",
       "    .dataframe tbody tr th:only-of-type {\n",
       "        vertical-align: middle;\n",
       "    }\n",
       "\n",
       "    .dataframe tbody tr th {\n",
       "        vertical-align: top;\n",
       "    }\n",
       "\n",
       "    .dataframe thead th {\n",
       "        text-align: right;\n",
       "    }\n",
       "</style>\n",
       "<table border=\"1\" class=\"dataframe\">\n",
       "  <thead>\n",
       "    <tr style=\"text-align: right;\">\n",
       "      <th></th>\n",
       "      <th>Location</th>\n",
       "      <th>Title</th>\n",
       "      <th>Price</th>\n",
       "      <th>Company</th>\n",
       "      <th>Summary</th>\n",
       "    </tr>\n",
       "  </thead>\n",
       "  <tbody>\n",
       "    <tr>\n",
       "      <th>0</th>\n",
       "      <td>Orlando, FL 32801 (Central Business District a...</td>\n",
       "      <td>Data Scientist (Database Administrator)</td>\n",
       "      <td>95160</td>\n",
       "      <td>Orange County Government, Florida</td>\n",
       "      <td>Posting Closes: October 30, 2019 (posting sub...</td>\n",
       "    </tr>\n",
       "    <tr>\n",
       "      <th>1</th>\n",
       "      <td>Sanford, FL</td>\n",
       "      <td>RESEARCH STATISTICIAN</td>\n",
       "      <td>49784</td>\n",
       "      <td>Seminole County Sheriff's Office</td>\n",
       "      <td>This position performs professional work apply...</td>\n",
       "    </tr>\n",
       "    <tr>\n",
       "      <th>2</th>\n",
       "      <td>Davie, FL</td>\n",
       "      <td>District Director, Research and Data Science</td>\n",
       "      <td>81535</td>\n",
       "      <td>Broward College</td>\n",
       "      <td>Expertise in Predictive Modeling, Applied Mac...</td>\n",
       "    </tr>\n",
       "    <tr>\n",
       "      <th>3</th>\n",
       "      <td>Tampa, FL</td>\n",
       "      <td>Python Architect / Data Scientist</td>\n",
       "      <td>130000</td>\n",
       "      <td>Aceolution Inc</td>\n",
       "      <td>Aceolution is placing the candidate for a top ...</td>\n",
       "    </tr>\n",
       "    <tr>\n",
       "      <th>4</th>\n",
       "      <td>Columbia, SC 29223</td>\n",
       "      <td>Statistician III</td>\n",
       "      <td>40759</td>\n",
       "      <td>State of South Carolina</td>\n",
       "      <td>Performs detailed statistical analysis and re...</td>\n",
       "    </tr>\n",
       "  </tbody>\n",
       "</table>\n",
       "</div>"
      ],
      "text/plain": [
       "                                            Location  \\\n",
       "0  Orlando, FL 32801 (Central Business District a...   \n",
       "1                                        Sanford, FL   \n",
       "2                                          Davie, FL   \n",
       "3                                          Tampa, FL   \n",
       "4                                 Columbia, SC 29223   \n",
       "\n",
       "                                          Title   Price  \\\n",
       "0       Data Scientist (Database Administrator)   95160   \n",
       "1                         RESEARCH STATISTICIAN   49784   \n",
       "2  District Director, Research and Data Science   81535   \n",
       "3             Python Architect / Data Scientist  130000   \n",
       "4                              Statistician III   40759   \n",
       "\n",
       "                             Company  \\\n",
       "0  Orange County Government, Florida   \n",
       "1   Seminole County Sheriff's Office   \n",
       "2                    Broward College   \n",
       "3                     Aceolution Inc   \n",
       "4            State of South Carolina   \n",
       "\n",
       "                                             Summary  \n",
       "0   Posting Closes: October 30, 2019 (posting sub...  \n",
       "1  This position performs professional work apply...  \n",
       "2   Expertise in Predictive Modeling, Applied Mac...  \n",
       "3  Aceolution is placing the candidate for a top ...  \n",
       "4   Performs detailed statistical analysis and re...  "
      ]
     },
     "execution_count": 23,
     "metadata": {},
     "output_type": "execute_result"
    }
   ],
   "source": [
    "# Loading US dataset\n",
    "\n",
    "US_sal  = pd.read_csv('US_state_salary_clean')\n",
    "US_sal.head()"
   ]
  },
  {
   "cell_type": "code",
   "execution_count": 24,
   "metadata": {},
   "outputs": [],
   "source": [
    "# Appending UK df to US DF\n",
    "\n",
    "US_sal = US_sal.append(Uk_sal,ignore_index=True)"
   ]
  },
  {
   "cell_type": "code",
   "execution_count": 25,
   "metadata": {},
   "outputs": [
    {
     "data": {
      "text/html": [
       "<div>\n",
       "<style scoped>\n",
       "    .dataframe tbody tr th:only-of-type {\n",
       "        vertical-align: middle;\n",
       "    }\n",
       "\n",
       "    .dataframe tbody tr th {\n",
       "        vertical-align: top;\n",
       "    }\n",
       "\n",
       "    .dataframe thead th {\n",
       "        text-align: right;\n",
       "    }\n",
       "</style>\n",
       "<table border=\"1\" class=\"dataframe\">\n",
       "  <thead>\n",
       "    <tr style=\"text-align: right;\">\n",
       "      <th></th>\n",
       "      <th>Location</th>\n",
       "      <th>Title</th>\n",
       "      <th>Price</th>\n",
       "      <th>Company</th>\n",
       "      <th>Summary</th>\n",
       "    </tr>\n",
       "  </thead>\n",
       "  <tbody>\n",
       "    <tr>\n",
       "      <th>0</th>\n",
       "      <td>Orlando, FL 32801 (Central Business District a...</td>\n",
       "      <td>Data Scientist (Database Administrator)</td>\n",
       "      <td>95160</td>\n",
       "      <td>Orange County Government, Florida</td>\n",
       "      <td>Posting Closes: October 30, 2019 (posting sub...</td>\n",
       "    </tr>\n",
       "    <tr>\n",
       "      <th>1</th>\n",
       "      <td>Sanford, FL</td>\n",
       "      <td>RESEARCH STATISTICIAN</td>\n",
       "      <td>49784</td>\n",
       "      <td>Seminole County Sheriff's Office</td>\n",
       "      <td>This position performs professional work apply...</td>\n",
       "    </tr>\n",
       "    <tr>\n",
       "      <th>2</th>\n",
       "      <td>Davie, FL</td>\n",
       "      <td>District Director, Research and Data Science</td>\n",
       "      <td>81535</td>\n",
       "      <td>Broward College</td>\n",
       "      <td>Expertise in Predictive Modeling, Applied Mac...</td>\n",
       "    </tr>\n",
       "    <tr>\n",
       "      <th>3</th>\n",
       "      <td>Tampa, FL</td>\n",
       "      <td>Python Architect / Data Scientist</td>\n",
       "      <td>130000</td>\n",
       "      <td>Aceolution Inc</td>\n",
       "      <td>Aceolution is placing the candidate for a top ...</td>\n",
       "    </tr>\n",
       "    <tr>\n",
       "      <th>4</th>\n",
       "      <td>Columbia, SC 29223</td>\n",
       "      <td>Statistician III</td>\n",
       "      <td>40759</td>\n",
       "      <td>State of South Carolina</td>\n",
       "      <td>Performs detailed statistical analysis and re...</td>\n",
       "    </tr>\n",
       "  </tbody>\n",
       "</table>\n",
       "</div>"
      ],
      "text/plain": [
       "                                            Location  \\\n",
       "0  Orlando, FL 32801 (Central Business District a...   \n",
       "1                                        Sanford, FL   \n",
       "2                                          Davie, FL   \n",
       "3                                          Tampa, FL   \n",
       "4                                 Columbia, SC 29223   \n",
       "\n",
       "                                          Title   Price  \\\n",
       "0       Data Scientist (Database Administrator)   95160   \n",
       "1                         RESEARCH STATISTICIAN   49784   \n",
       "2  District Director, Research and Data Science   81535   \n",
       "3             Python Architect / Data Scientist  130000   \n",
       "4                              Statistician III   40759   \n",
       "\n",
       "                             Company  \\\n",
       "0  Orange County Government, Florida   \n",
       "1   Seminole County Sheriff's Office   \n",
       "2                    Broward College   \n",
       "3                     Aceolution Inc   \n",
       "4            State of South Carolina   \n",
       "\n",
       "                                             Summary  \n",
       "0   Posting Closes: October 30, 2019 (posting sub...  \n",
       "1  This position performs professional work apply...  \n",
       "2   Expertise in Predictive Modeling, Applied Mac...  \n",
       "3  Aceolution is placing the candidate for a top ...  \n",
       "4   Performs detailed statistical analysis and re...  "
      ]
     },
     "execution_count": 25,
     "metadata": {},
     "output_type": "execute_result"
    }
   ],
   "source": [
    "US_sal.head()"
   ]
  },
  {
   "cell_type": "markdown",
   "metadata": {
    "focus": false,
    "id": "c7631f51-07f2-4c79-a093-3e9bc7849a48"
   },
   "source": [
    "### We want to predict a binary variable - whether the salary was low or high. Compute the median salary and create a new binary variable that is true when the salary is high (above the median).\n",
    "\n",
    "We could also perform Linear Regression (or any regression) to predict the salary value here. Instead, we are going to convert this into a _binary_ classification problem, by predicting two classes, HIGH vs LOW salary.\n",
    "\n",
    "While performing regression may be better, performing classification may help remove some of the noise of the extreme salaries. We don't have to choose the `median` as the splitting point - we could also split on the 75th percentile or any other reasonable breaking point.\n",
    "\n",
    "In fact, the ideal scenario may be to predict many levels of salaries."
   ]
  },
  {
   "cell_type": "code",
   "execution_count": 26,
   "metadata": {
    "focus": false,
    "id": "c20d2498-151c-44c3-a453-3a333c79a0ac"
   },
   "outputs": [
    {
     "data": {
      "text/html": [
       "<div>\n",
       "<style scoped>\n",
       "    .dataframe tbody tr th:only-of-type {\n",
       "        vertical-align: middle;\n",
       "    }\n",
       "\n",
       "    .dataframe tbody tr th {\n",
       "        vertical-align: top;\n",
       "    }\n",
       "\n",
       "    .dataframe thead th {\n",
       "        text-align: right;\n",
       "    }\n",
       "</style>\n",
       "<table border=\"1\" class=\"dataframe\">\n",
       "  <thead>\n",
       "    <tr style=\"text-align: right;\">\n",
       "      <th></th>\n",
       "      <th>Price</th>\n",
       "    </tr>\n",
       "  </thead>\n",
       "  <tbody>\n",
       "    <tr>\n",
       "      <th>count</th>\n",
       "      <td>583.000000</td>\n",
       "    </tr>\n",
       "    <tr>\n",
       "      <th>mean</th>\n",
       "      <td>74423.259005</td>\n",
       "    </tr>\n",
       "    <tr>\n",
       "      <th>std</th>\n",
       "      <td>36318.603430</td>\n",
       "    </tr>\n",
       "    <tr>\n",
       "      <th>min</th>\n",
       "      <td>16500.000000</td>\n",
       "    </tr>\n",
       "    <tr>\n",
       "      <th>25%</th>\n",
       "      <td>45000.000000</td>\n",
       "    </tr>\n",
       "    <tr>\n",
       "      <th>50%</th>\n",
       "      <td>72500.000000</td>\n",
       "    </tr>\n",
       "    <tr>\n",
       "      <th>75%</th>\n",
       "      <td>100000.000000</td>\n",
       "    </tr>\n",
       "    <tr>\n",
       "      <th>max</th>\n",
       "      <td>275000.000000</td>\n",
       "    </tr>\n",
       "  </tbody>\n",
       "</table>\n",
       "</div>"
      ],
      "text/plain": [
       "               Price\n",
       "count     583.000000\n",
       "mean    74423.259005\n",
       "std     36318.603430\n",
       "min     16500.000000\n",
       "25%     45000.000000\n",
       "50%     72500.000000\n",
       "75%    100000.000000\n",
       "max    275000.000000"
      ]
     },
     "execution_count": 26,
     "metadata": {},
     "output_type": "execute_result"
    }
   ],
   "source": [
    "# Describe Salary \n",
    "\n",
    "US_sal.describe()"
   ]
  },
  {
   "cell_type": "code",
   "execution_count": 167,
   "metadata": {},
   "outputs": [
    {
     "data": {
      "text/plain": [
       "(55000, 85000]      145\n",
       "(21930, 55000]      145\n",
       "(85000, 105000]     141\n",
       "(105000, 250000]    139\n",
       "Name: Price, dtype: int64"
      ]
     },
     "execution_count": 167,
     "metadata": {},
     "output_type": "execute_result"
    }
   ],
   "source": [
    "# Creating salary bins\n",
    "\n",
    "bins=[21930,55000,85000,105000,250000]\n",
    "US_sal_bins = pd.cut(US_sal['Price'], bins=bins).value_counts()\n",
    "\n",
    "US_sal_bins"
   ]
  },
  {
   "cell_type": "code",
   "execution_count": 27,
   "metadata": {},
   "outputs": [
    {
     "data": {
      "text/html": [
       "<div>\n",
       "<style scoped>\n",
       "    .dataframe tbody tr th:only-of-type {\n",
       "        vertical-align: middle;\n",
       "    }\n",
       "\n",
       "    .dataframe tbody tr th {\n",
       "        vertical-align: top;\n",
       "    }\n",
       "\n",
       "    .dataframe thead th {\n",
       "        text-align: right;\n",
       "    }\n",
       "</style>\n",
       "<table border=\"1\" class=\"dataframe\">\n",
       "  <thead>\n",
       "    <tr style=\"text-align: right;\">\n",
       "      <th></th>\n",
       "      <th>Location</th>\n",
       "      <th>Title</th>\n",
       "      <th>Price</th>\n",
       "      <th>Company</th>\n",
       "      <th>Summary</th>\n",
       "      <th>Salary_category</th>\n",
       "    </tr>\n",
       "  </thead>\n",
       "  <tbody>\n",
       "    <tr>\n",
       "      <th>0</th>\n",
       "      <td>Orlando, FL 32801 (Central Business District a...</td>\n",
       "      <td>Data Scientist (Database Administrator)</td>\n",
       "      <td>95160</td>\n",
       "      <td>Orange County Government, Florida</td>\n",
       "      <td>Posting Closes: October 30, 2019 (posting sub...</td>\n",
       "      <td>HighMid</td>\n",
       "    </tr>\n",
       "    <tr>\n",
       "      <th>1</th>\n",
       "      <td>Sanford, FL</td>\n",
       "      <td>RESEARCH STATISTICIAN</td>\n",
       "      <td>49784</td>\n",
       "      <td>Seminole County Sheriff's Office</td>\n",
       "      <td>This position performs professional work apply...</td>\n",
       "      <td>Low</td>\n",
       "    </tr>\n",
       "    <tr>\n",
       "      <th>2</th>\n",
       "      <td>Davie, FL</td>\n",
       "      <td>District Director, Research and Data Science</td>\n",
       "      <td>81535</td>\n",
       "      <td>Broward College</td>\n",
       "      <td>Expertise in Predictive Modeling, Applied Mac...</td>\n",
       "      <td>LowMid</td>\n",
       "    </tr>\n",
       "    <tr>\n",
       "      <th>3</th>\n",
       "      <td>Tampa, FL</td>\n",
       "      <td>Python Architect / Data Scientist</td>\n",
       "      <td>130000</td>\n",
       "      <td>Aceolution Inc</td>\n",
       "      <td>Aceolution is placing the candidate for a top ...</td>\n",
       "      <td>High</td>\n",
       "    </tr>\n",
       "    <tr>\n",
       "      <th>4</th>\n",
       "      <td>Columbia, SC 29223</td>\n",
       "      <td>Statistician III</td>\n",
       "      <td>40759</td>\n",
       "      <td>State of South Carolina</td>\n",
       "      <td>Performs detailed statistical analysis and re...</td>\n",
       "      <td>Low</td>\n",
       "    </tr>\n",
       "    <tr>\n",
       "      <th>5</th>\n",
       "      <td>Columbia, SC 29208</td>\n",
       "      <td>Geospatial Data Scientist</td>\n",
       "      <td>55000</td>\n",
       "      <td>University of South Carolina</td>\n",
       "      <td>Master’s degree in public health, health servi...</td>\n",
       "      <td>Low</td>\n",
       "    </tr>\n",
       "    <tr>\n",
       "      <th>6</th>\n",
       "      <td>Aiken County, SC</td>\n",
       "      <td>Statistician III (3IER19)</td>\n",
       "      <td>40759</td>\n",
       "      <td>State of South Carolina</td>\n",
       "      <td>Applying appropriate statistical analysis for ...</td>\n",
       "      <td>Low</td>\n",
       "    </tr>\n",
       "    <tr>\n",
       "      <th>7</th>\n",
       "      <td>Columbia, SC 29208</td>\n",
       "      <td>Geospatial Data Scientist</td>\n",
       "      <td>55000</td>\n",
       "      <td>University of South Carolina</td>\n",
       "      <td>With more than 20 years of uninterrupted fundi...</td>\n",
       "      <td>Low</td>\n",
       "    </tr>\n",
       "    <tr>\n",
       "      <th>8</th>\n",
       "      <td>Columbia, SC 29208</td>\n",
       "      <td>Geospatial Data Scientist</td>\n",
       "      <td>55000</td>\n",
       "      <td>University of South Carolina</td>\n",
       "      <td>With more than 20 years of uninterrupted fund...</td>\n",
       "      <td>Low</td>\n",
       "    </tr>\n",
       "    <tr>\n",
       "      <th>9</th>\n",
       "      <td>Columbia, SC 29208</td>\n",
       "      <td>Geospatial Data Scientist</td>\n",
       "      <td>55000</td>\n",
       "      <td>University of South Carolina</td>\n",
       "      <td>Master’s degree in public health, health serv...</td>\n",
       "      <td>Low</td>\n",
       "    </tr>\n",
       "    <tr>\n",
       "      <th>10</th>\n",
       "      <td>Aiken County, SC</td>\n",
       "      <td>Statistician III (3IER19)</td>\n",
       "      <td>40759</td>\n",
       "      <td>State of South Carolina</td>\n",
       "      <td>Applying appropriate statistical analysis for...</td>\n",
       "      <td>Low</td>\n",
       "    </tr>\n",
       "    <tr>\n",
       "      <th>11</th>\n",
       "      <td>Columbia, SC 29223</td>\n",
       "      <td>Statistician III</td>\n",
       "      <td>40759</td>\n",
       "      <td>State of South Carolina</td>\n",
       "      <td>A bachelor's degree in mathematics or statist...</td>\n",
       "      <td>Low</td>\n",
       "    </tr>\n",
       "    <tr>\n",
       "      <th>12</th>\n",
       "      <td>Columbia, SC 29223</td>\n",
       "      <td>Statistician III</td>\n",
       "      <td>40759</td>\n",
       "      <td>State of South Carolina</td>\n",
       "      <td>A bachelor's degree in mathematics or statisti...</td>\n",
       "      <td>Low</td>\n",
       "    </tr>\n",
       "    <tr>\n",
       "      <th>13</th>\n",
       "      <td>Pittsburgh, PA</td>\n",
       "      <td>Statistical Data Analyst</td>\n",
       "      <td>61542</td>\n",
       "      <td>The University of Pittsburgh</td>\n",
       "      <td>A combination of relevant experience, includi...</td>\n",
       "      <td>LowMid</td>\n",
       "    </tr>\n",
       "    <tr>\n",
       "      <th>14</th>\n",
       "      <td>Pittsburgh, PA</td>\n",
       "      <td>Data Science Programmer</td>\n",
       "      <td>61542</td>\n",
       "      <td>The University of Pittsburgh</td>\n",
       "      <td>The Osmanbeyoglu lab is looking for a Data Sc...</td>\n",
       "      <td>LowMid</td>\n",
       "    </tr>\n",
       "    <tr>\n",
       "      <th>15</th>\n",
       "      <td>Plymouth Meeting, PA</td>\n",
       "      <td>Chief Data Officer</td>\n",
       "      <td>225000</td>\n",
       "      <td>Pplumm</td>\n",
       "      <td>Creating value through data exploitation, pro...</td>\n",
       "      <td>High</td>\n",
       "    </tr>\n",
       "    <tr>\n",
       "      <th>16</th>\n",
       "      <td>Philadelphia, PA 19102 (City Center West area)</td>\n",
       "      <td>Senior Data Scientist</td>\n",
       "      <td>150000</td>\n",
       "      <td>Catalyst</td>\n",
       "      <td>Our marque client is seeking a talented data ...</td>\n",
       "      <td>High</td>\n",
       "    </tr>\n",
       "    <tr>\n",
       "      <th>17</th>\n",
       "      <td>Philadelphia, PA</td>\n",
       "      <td>Sales Engineer - Data Privacy</td>\n",
       "      <td>85000</td>\n",
       "      <td>Clarip</td>\n",
       "      <td>Competitive salary, based on the experience.L...</td>\n",
       "      <td>LowMid</td>\n",
       "    </tr>\n",
       "    <tr>\n",
       "      <th>18</th>\n",
       "      <td>Philadelphia, PA</td>\n",
       "      <td>Sales Engineer - Data Privacy</td>\n",
       "      <td>85000</td>\n",
       "      <td>Clarip</td>\n",
       "      <td>Competitive salary, based on the experience.5...</td>\n",
       "      <td>LowMid</td>\n",
       "    </tr>\n",
       "    <tr>\n",
       "      <th>19</th>\n",
       "      <td>Philadelphia, PA</td>\n",
       "      <td>Sales Engineer - Data Privacy</td>\n",
       "      <td>85000</td>\n",
       "      <td>Clarip</td>\n",
       "      <td>Competitive salary, based on the experience. 5...</td>\n",
       "      <td>LowMid</td>\n",
       "    </tr>\n",
       "    <tr>\n",
       "      <th>20</th>\n",
       "      <td>Philadelphia, PA</td>\n",
       "      <td>Sales Engineer - Data Privacy</td>\n",
       "      <td>85000</td>\n",
       "      <td>Clarip</td>\n",
       "      <td>Competitive salary, based on the experience.5...</td>\n",
       "      <td>LowMid</td>\n",
       "    </tr>\n",
       "    <tr>\n",
       "      <th>21</th>\n",
       "      <td>Philadelphia, PA</td>\n",
       "      <td>Sales Engineer - Data Privacy</td>\n",
       "      <td>85000</td>\n",
       "      <td>Clarip</td>\n",
       "      <td>Competitive salary, based on the experience.5...</td>\n",
       "      <td>LowMid</td>\n",
       "    </tr>\n",
       "    <tr>\n",
       "      <th>22</th>\n",
       "      <td>Philadelphia, PA</td>\n",
       "      <td>Sales Engineer - Data Privacy</td>\n",
       "      <td>85000</td>\n",
       "      <td>Clarip</td>\n",
       "      <td>Competitive salary, based on the experience. 5...</td>\n",
       "      <td>LowMid</td>\n",
       "    </tr>\n",
       "    <tr>\n",
       "      <th>23</th>\n",
       "      <td>Tempe, AZ</td>\n",
       "      <td>Data Analyst Sr</td>\n",
       "      <td>55448</td>\n",
       "      <td>Arizona State University</td>\n",
       "      <td>Experience preparing and executing project pl...</td>\n",
       "      <td>LowMid</td>\n",
       "    </tr>\n",
       "    <tr>\n",
       "      <th>24</th>\n",
       "      <td>Tempe, AZ</td>\n",
       "      <td>Data Architect</td>\n",
       "      <td>150000</td>\n",
       "      <td>Arizona State University</td>\n",
       "      <td>Develops an analytics data ecosystem in an im...</td>\n",
       "      <td>High</td>\n",
       "    </tr>\n",
       "    <tr>\n",
       "      <th>25</th>\n",
       "      <td>Tempe, AZ</td>\n",
       "      <td>Data Architect</td>\n",
       "      <td>150000</td>\n",
       "      <td>Arizona State University</td>\n",
       "      <td>Develops an analytics data ecosystem in an imm...</td>\n",
       "      <td>High</td>\n",
       "    </tr>\n",
       "    <tr>\n",
       "      <th>26</th>\n",
       "      <td>Maricopa County, AZ</td>\n",
       "      <td>HRIS Data Analyst Senior</td>\n",
       "      <td>88847</td>\n",
       "      <td>Maricopa Community Colleges</td>\n",
       "      <td>Performs data mining in the system to find tre...</td>\n",
       "      <td>HighMid</td>\n",
       "    </tr>\n",
       "    <tr>\n",
       "      <th>27</th>\n",
       "      <td>Phoenix, AZ</td>\n",
       "      <td>Supervisory Operations Research Analyst (Data ...</td>\n",
       "      <td>124642</td>\n",
       "      <td>US Department of the Army</td>\n",
       "      <td>Appointment may be subject to a suitability o...</td>\n",
       "      <td>High</td>\n",
       "    </tr>\n",
       "    <tr>\n",
       "      <th>28</th>\n",
       "      <td>Tempe, AZ 85282 (Cyprus Southwest area)</td>\n",
       "      <td>Ph.D. Level Mathematician (M/F)</td>\n",
       "      <td>80000</td>\n",
       "      <td>AWD Industries</td>\n",
       "      <td>Very long-term employment in highly advanced ...</td>\n",
       "      <td>LowMid</td>\n",
       "    </tr>\n",
       "    <tr>\n",
       "      <th>29</th>\n",
       "      <td>Tempe, AZ 85282 (Cyprus Southwest area)</td>\n",
       "      <td>Ph.D. Level Mathematician (M/F)</td>\n",
       "      <td>80000</td>\n",
       "      <td>AWD Industries</td>\n",
       "      <td>Must already have experience in advanced mathe...</td>\n",
       "      <td>LowMid</td>\n",
       "    </tr>\n",
       "    <tr>\n",
       "      <th>...</th>\n",
       "      <td>...</td>\n",
       "      <td>...</td>\n",
       "      <td>...</td>\n",
       "      <td>...</td>\n",
       "      <td>...</td>\n",
       "      <td>...</td>\n",
       "    </tr>\n",
       "    <tr>\n",
       "      <th>553</th>\n",
       "      <td>London W6</td>\n",
       "      <td>Data Scientist</td>\n",
       "      <td>62500</td>\n",
       "      <td>causaLens</td>\n",
       "      <td>This is an exciting role for a smart, creative...</td>\n",
       "      <td>LowMid</td>\n",
       "    </tr>\n",
       "    <tr>\n",
       "      <th>554</th>\n",
       "      <td>London</td>\n",
       "      <td>Senior Data Scientist - London</td>\n",
       "      <td>75000</td>\n",
       "      <td>Smartlytics Consultancy Limited</td>\n",
       "      <td>Smartlytics Consultancy a small analytics cons...</td>\n",
       "      <td>LowMid</td>\n",
       "    </tr>\n",
       "    <tr>\n",
       "      <th>555</th>\n",
       "      <td>London</td>\n",
       "      <td>Senior Data Scientist - modelling</td>\n",
       "      <td>75000</td>\n",
       "      <td>Harnham</td>\n",
       "      <td>A well-known global retailer is drastically bu...</td>\n",
       "      <td>LowMid</td>\n",
       "    </tr>\n",
       "    <tr>\n",
       "      <th>556</th>\n",
       "      <td>Falmer</td>\n",
       "      <td>Admin Assistant</td>\n",
       "      <td>21927</td>\n",
       "      <td>Southern Water</td>\n",
       "      <td>Our engineers, scientists, technicians, custom...</td>\n",
       "      <td>Low</td>\n",
       "    </tr>\n",
       "    <tr>\n",
       "      <th>557</th>\n",
       "      <td>London</td>\n",
       "      <td>Data Scientist - NLP</td>\n",
       "      <td>67500</td>\n",
       "      <td>Harnham</td>\n",
       "      <td>Making sense of complex unstructured data sets...</td>\n",
       "      <td>LowMid</td>\n",
       "    </tr>\n",
       "    <tr>\n",
       "      <th>558</th>\n",
       "      <td>Yorkshire</td>\n",
       "      <td>Graduate Data Scientist</td>\n",
       "      <td>25000</td>\n",
       "      <td>kdr Recruitment</td>\n",
       "      <td>£24,000 - £26,000 per annum. Are you just fini...</td>\n",
       "      <td>Low</td>\n",
       "    </tr>\n",
       "    <tr>\n",
       "      <th>559</th>\n",
       "      <td>London</td>\n",
       "      <td>Lead Data Scientist - Executing Strategy</td>\n",
       "      <td>115000</td>\n",
       "      <td>Harnham</td>\n",
       "      <td>Lead Data Scientist - Executing Strategy.As a...</td>\n",
       "      <td>High</td>\n",
       "    </tr>\n",
       "    <tr>\n",
       "      <th>560</th>\n",
       "      <td>London</td>\n",
       "      <td>Senior Data Scientist - Experimentation</td>\n",
       "      <td>75000</td>\n",
       "      <td>Harnham</td>\n",
       "      <td>The successful Senior Data Scientist will hav...</td>\n",
       "      <td>LowMid</td>\n",
       "    </tr>\n",
       "    <tr>\n",
       "      <th>561</th>\n",
       "      <td>London</td>\n",
       "      <td>Senior Data Scientist - AI/ML Healthcare Analy...</td>\n",
       "      <td>67500</td>\n",
       "      <td>Lawrence Harvey</td>\n",
       "      <td>Proven successful experience in a similar rol...</td>\n",
       "      <td>LowMid</td>\n",
       "    </tr>\n",
       "    <tr>\n",
       "      <th>562</th>\n",
       "      <td>Leeds</td>\n",
       "      <td>Research Assistant</td>\n",
       "      <td>27993</td>\n",
       "      <td>Leeds Beckett University</td>\n",
       "      <td>You will also be familiar with handling large...</td>\n",
       "      <td>Low</td>\n",
       "    </tr>\n",
       "    <tr>\n",
       "      <th>563</th>\n",
       "      <td>London</td>\n",
       "      <td>Private Equity Data Scientist</td>\n",
       "      <td>45000</td>\n",
       "      <td>Capricorn Capital Partners UK</td>\n",
       "      <td>We are looking to add a data scientist with ex...</td>\n",
       "      <td>Low</td>\n",
       "    </tr>\n",
       "    <tr>\n",
       "      <th>564</th>\n",
       "      <td>London W6</td>\n",
       "      <td>Data Scientist</td>\n",
       "      <td>62500</td>\n",
       "      <td>causaLens</td>\n",
       "      <td>We are looking for a motivated and high-achiev...</td>\n",
       "      <td>LowMid</td>\n",
       "    </tr>\n",
       "    <tr>\n",
       "      <th>565</th>\n",
       "      <td>London</td>\n",
       "      <td>Senior Data Scientist / Machine Learning Engineer</td>\n",
       "      <td>50000</td>\n",
       "      <td>decisionLab Ltd</td>\n",
       "      <td>We are seeking to expand our talented and dyna...</td>\n",
       "      <td>Low</td>\n",
       "    </tr>\n",
       "    <tr>\n",
       "      <th>566</th>\n",
       "      <td>London</td>\n",
       "      <td>Senior Data Scientist - London</td>\n",
       "      <td>75000</td>\n",
       "      <td>Smartlytics Consultancy Limited</td>\n",
       "      <td>Smartlytics Consultancy a small analytics cons...</td>\n",
       "      <td>LowMid</td>\n",
       "    </tr>\n",
       "    <tr>\n",
       "      <th>567</th>\n",
       "      <td>Oxford OX3</td>\n",
       "      <td>Research Assistant / Senior Research Assistant</td>\n",
       "      <td>31000</td>\n",
       "      <td>Nucleome Therapeutics Ltd</td>\n",
       "      <td>We are building a passionate, creative and ded...</td>\n",
       "      <td>Low</td>\n",
       "    </tr>\n",
       "    <tr>\n",
       "      <th>568</th>\n",
       "      <td>Liverpool</td>\n",
       "      <td>Research Assistant</td>\n",
       "      <td>31486</td>\n",
       "      <td>Liverpool School of Tropical Medicine</td>\n",
       "      <td>The successful individual must also be able to...</td>\n",
       "      <td>Low</td>\n",
       "    </tr>\n",
       "    <tr>\n",
       "      <th>569</th>\n",
       "      <td>Oxford OX3</td>\n",
       "      <td>Research Assistant / Senior Research Assistant</td>\n",
       "      <td>31000</td>\n",
       "      <td>Nucleome Therapeutics Ltd</td>\n",
       "      <td>We are building a passionate, creative and de...</td>\n",
       "      <td>Low</td>\n",
       "    </tr>\n",
       "    <tr>\n",
       "      <th>570</th>\n",
       "      <td>Liverpool</td>\n",
       "      <td>Research Assistant</td>\n",
       "      <td>31486</td>\n",
       "      <td>Liverpool School of Tropical Medicine</td>\n",
       "      <td>The successful individual must also be able t...</td>\n",
       "      <td>Low</td>\n",
       "    </tr>\n",
       "    <tr>\n",
       "      <th>571</th>\n",
       "      <td>London W6</td>\n",
       "      <td>Data Scientist</td>\n",
       "      <td>62500</td>\n",
       "      <td>causaLens</td>\n",
       "      <td>This is an exciting role for a smart, creativ...</td>\n",
       "      <td>LowMid</td>\n",
       "    </tr>\n",
       "    <tr>\n",
       "      <th>572</th>\n",
       "      <td>London</td>\n",
       "      <td>Senior Data Scientist - London</td>\n",
       "      <td>75000</td>\n",
       "      <td>Smartlytics Consultancy Limited</td>\n",
       "      <td>Smartlytics Consultancy a small analytics con...</td>\n",
       "      <td>LowMid</td>\n",
       "    </tr>\n",
       "    <tr>\n",
       "      <th>573</th>\n",
       "      <td>London</td>\n",
       "      <td>Lead Data Scientist - Executing Strategy</td>\n",
       "      <td>115000</td>\n",
       "      <td>Harnham</td>\n",
       "      <td>As a Lead Data Scientist, you will be analysi...</td>\n",
       "      <td>High</td>\n",
       "    </tr>\n",
       "    <tr>\n",
       "      <th>574</th>\n",
       "      <td>London</td>\n",
       "      <td>Junior Quantitative Analyst</td>\n",
       "      <td>47500</td>\n",
       "      <td>Bettor Believe</td>\n",
       "      <td>The research team manage and model sports bet...</td>\n",
       "      <td>Low</td>\n",
       "    </tr>\n",
       "    <tr>\n",
       "      <th>575</th>\n",
       "      <td>London</td>\n",
       "      <td>Private Equity Data Scientist</td>\n",
       "      <td>45000</td>\n",
       "      <td>Capricorn Capital Partners UK</td>\n",
       "      <td>We are looking to add a data scientist with e...</td>\n",
       "      <td>Low</td>\n",
       "    </tr>\n",
       "    <tr>\n",
       "      <th>576</th>\n",
       "      <td>London W6</td>\n",
       "      <td>Data Scientist</td>\n",
       "      <td>62500</td>\n",
       "      <td>causaLens</td>\n",
       "      <td>We are looking for a motivated and high-achie...</td>\n",
       "      <td>LowMid</td>\n",
       "    </tr>\n",
       "    <tr>\n",
       "      <th>577</th>\n",
       "      <td>London</td>\n",
       "      <td>Senior Data Scientist / Machine Learning Engineer</td>\n",
       "      <td>50000</td>\n",
       "      <td>decisionLab Ltd</td>\n",
       "      <td>We are seeking to expand our talented and dyn...</td>\n",
       "      <td>Low</td>\n",
       "    </tr>\n",
       "    <tr>\n",
       "      <th>578</th>\n",
       "      <td>London</td>\n",
       "      <td>Senior Data Scientist - London</td>\n",
       "      <td>75000</td>\n",
       "      <td>Smartlytics Consultancy Limited</td>\n",
       "      <td>Smartlytics Consultancy a small analytics con...</td>\n",
       "      <td>LowMid</td>\n",
       "    </tr>\n",
       "    <tr>\n",
       "      <th>579</th>\n",
       "      <td>London</td>\n",
       "      <td>Senior Data Scientist - modelling</td>\n",
       "      <td>75000</td>\n",
       "      <td>Harnham</td>\n",
       "      <td>The successful Senior Data Scientist will hav...</td>\n",
       "      <td>LowMid</td>\n",
       "    </tr>\n",
       "    <tr>\n",
       "      <th>580</th>\n",
       "      <td>Falmer</td>\n",
       "      <td>Admin Assistant</td>\n",
       "      <td>21927</td>\n",
       "      <td>Southern Water</td>\n",
       "      <td>Analysing and interpreting financial statisti...</td>\n",
       "      <td>Low</td>\n",
       "    </tr>\n",
       "    <tr>\n",
       "      <th>581</th>\n",
       "      <td>London</td>\n",
       "      <td>Data Scientist - NLP</td>\n",
       "      <td>67500</td>\n",
       "      <td>Harnham</td>\n",
       "      <td>As a Data Scientist you will be:Helping the b...</td>\n",
       "      <td>LowMid</td>\n",
       "    </tr>\n",
       "    <tr>\n",
       "      <th>582</th>\n",
       "      <td>Yorkshire</td>\n",
       "      <td>Graduate Data Scientist</td>\n",
       "      <td>25000</td>\n",
       "      <td>kdr Recruitment</td>\n",
       "      <td>What you’ll be doing as a Data Scientist:If s...</td>\n",
       "      <td>Low</td>\n",
       "    </tr>\n",
       "  </tbody>\n",
       "</table>\n",
       "<p>583 rows × 6 columns</p>\n",
       "</div>"
      ],
      "text/plain": [
       "                                              Location  \\\n",
       "0    Orlando, FL 32801 (Central Business District a...   \n",
       "1                                          Sanford, FL   \n",
       "2                                            Davie, FL   \n",
       "3                                            Tampa, FL   \n",
       "4                                   Columbia, SC 29223   \n",
       "5                                   Columbia, SC 29208   \n",
       "6                                     Aiken County, SC   \n",
       "7                                   Columbia, SC 29208   \n",
       "8                                   Columbia, SC 29208   \n",
       "9                                   Columbia, SC 29208   \n",
       "10                                    Aiken County, SC   \n",
       "11                                  Columbia, SC 29223   \n",
       "12                                  Columbia, SC 29223   \n",
       "13                                      Pittsburgh, PA   \n",
       "14                                      Pittsburgh, PA   \n",
       "15                                Plymouth Meeting, PA   \n",
       "16      Philadelphia, PA 19102 (City Center West area)   \n",
       "17                                    Philadelphia, PA   \n",
       "18                                    Philadelphia, PA   \n",
       "19                                    Philadelphia, PA   \n",
       "20                                    Philadelphia, PA   \n",
       "21                                    Philadelphia, PA   \n",
       "22                                    Philadelphia, PA   \n",
       "23                                           Tempe, AZ   \n",
       "24                                           Tempe, AZ   \n",
       "25                                           Tempe, AZ   \n",
       "26                                 Maricopa County, AZ   \n",
       "27                                         Phoenix, AZ   \n",
       "28             Tempe, AZ 85282 (Cyprus Southwest area)   \n",
       "29             Tempe, AZ 85282 (Cyprus Southwest area)   \n",
       "..                                                 ...   \n",
       "553                                          London W6   \n",
       "554                                             London   \n",
       "555                                             London   \n",
       "556                                             Falmer   \n",
       "557                                             London   \n",
       "558                                          Yorkshire   \n",
       "559                                             London   \n",
       "560                                             London   \n",
       "561                                             London   \n",
       "562                                              Leeds   \n",
       "563                                             London   \n",
       "564                                          London W6   \n",
       "565                                             London   \n",
       "566                                             London   \n",
       "567                                         Oxford OX3   \n",
       "568                                          Liverpool   \n",
       "569                                         Oxford OX3   \n",
       "570                                          Liverpool   \n",
       "571                                          London W6   \n",
       "572                                             London   \n",
       "573                                             London   \n",
       "574                                             London   \n",
       "575                                             London   \n",
       "576                                          London W6   \n",
       "577                                             London   \n",
       "578                                             London   \n",
       "579                                             London   \n",
       "580                                             Falmer   \n",
       "581                                             London   \n",
       "582                                          Yorkshire   \n",
       "\n",
       "                                                 Title   Price  \\\n",
       "0              Data Scientist (Database Administrator)   95160   \n",
       "1                                RESEARCH STATISTICIAN   49784   \n",
       "2         District Director, Research and Data Science   81535   \n",
       "3                    Python Architect / Data Scientist  130000   \n",
       "4                                     Statistician III   40759   \n",
       "5                            Geospatial Data Scientist   55000   \n",
       "6                            Statistician III (3IER19)   40759   \n",
       "7                            Geospatial Data Scientist   55000   \n",
       "8                            Geospatial Data Scientist   55000   \n",
       "9                            Geospatial Data Scientist   55000   \n",
       "10                           Statistician III (3IER19)   40759   \n",
       "11                                    Statistician III   40759   \n",
       "12                                    Statistician III   40759   \n",
       "13                            Statistical Data Analyst   61542   \n",
       "14                             Data Science Programmer   61542   \n",
       "15                                  Chief Data Officer  225000   \n",
       "16                               Senior Data Scientist  150000   \n",
       "17                       Sales Engineer - Data Privacy   85000   \n",
       "18                       Sales Engineer - Data Privacy   85000   \n",
       "19                       Sales Engineer - Data Privacy   85000   \n",
       "20                       Sales Engineer - Data Privacy   85000   \n",
       "21                       Sales Engineer - Data Privacy   85000   \n",
       "22                       Sales Engineer - Data Privacy   85000   \n",
       "23                                     Data Analyst Sr   55448   \n",
       "24                                      Data Architect  150000   \n",
       "25                                      Data Architect  150000   \n",
       "26                            HRIS Data Analyst Senior   88847   \n",
       "27   Supervisory Operations Research Analyst (Data ...  124642   \n",
       "28                     Ph.D. Level Mathematician (M/F)   80000   \n",
       "29                     Ph.D. Level Mathematician (M/F)   80000   \n",
       "..                                                 ...     ...   \n",
       "553                                     Data Scientist   62500   \n",
       "554                     Senior Data Scientist - London   75000   \n",
       "555                  Senior Data Scientist - modelling   75000   \n",
       "556                                    Admin Assistant   21927   \n",
       "557                               Data Scientist - NLP   67500   \n",
       "558                            Graduate Data Scientist   25000   \n",
       "559           Lead Data Scientist - Executing Strategy  115000   \n",
       "560            Senior Data Scientist - Experimentation   75000   \n",
       "561  Senior Data Scientist - AI/ML Healthcare Analy...   67500   \n",
       "562                                 Research Assistant   27993   \n",
       "563                      Private Equity Data Scientist   45000   \n",
       "564                                     Data Scientist   62500   \n",
       "565  Senior Data Scientist / Machine Learning Engineer   50000   \n",
       "566                     Senior Data Scientist - London   75000   \n",
       "567     Research Assistant / Senior Research Assistant   31000   \n",
       "568                                 Research Assistant   31486   \n",
       "569     Research Assistant / Senior Research Assistant   31000   \n",
       "570                                 Research Assistant   31486   \n",
       "571                                     Data Scientist   62500   \n",
       "572                     Senior Data Scientist - London   75000   \n",
       "573           Lead Data Scientist - Executing Strategy  115000   \n",
       "574                        Junior Quantitative Analyst   47500   \n",
       "575                      Private Equity Data Scientist   45000   \n",
       "576                                     Data Scientist   62500   \n",
       "577  Senior Data Scientist / Machine Learning Engineer   50000   \n",
       "578                     Senior Data Scientist - London   75000   \n",
       "579                  Senior Data Scientist - modelling   75000   \n",
       "580                                    Admin Assistant   21927   \n",
       "581                               Data Scientist - NLP   67500   \n",
       "582                            Graduate Data Scientist   25000   \n",
       "\n",
       "                                   Company  \\\n",
       "0        Orange County Government, Florida   \n",
       "1         Seminole County Sheriff's Office   \n",
       "2                          Broward College   \n",
       "3                           Aceolution Inc   \n",
       "4                  State of South Carolina   \n",
       "5             University of South Carolina   \n",
       "6                  State of South Carolina   \n",
       "7             University of South Carolina   \n",
       "8             University of South Carolina   \n",
       "9             University of South Carolina   \n",
       "10                 State of South Carolina   \n",
       "11                 State of South Carolina   \n",
       "12                 State of South Carolina   \n",
       "13            The University of Pittsburgh   \n",
       "14            The University of Pittsburgh   \n",
       "15                                  Pplumm   \n",
       "16                                Catalyst   \n",
       "17                                  Clarip   \n",
       "18                                  Clarip   \n",
       "19                                  Clarip   \n",
       "20                                  Clarip   \n",
       "21                                  Clarip   \n",
       "22                                  Clarip   \n",
       "23                Arizona State University   \n",
       "24                Arizona State University   \n",
       "25                Arizona State University   \n",
       "26             Maricopa Community Colleges   \n",
       "27               US Department of the Army   \n",
       "28                          AWD Industries   \n",
       "29                          AWD Industries   \n",
       "..                                     ...   \n",
       "553                              causaLens   \n",
       "554        Smartlytics Consultancy Limited   \n",
       "555                                Harnham   \n",
       "556                         Southern Water   \n",
       "557                                Harnham   \n",
       "558                        kdr Recruitment   \n",
       "559                                Harnham   \n",
       "560                                Harnham   \n",
       "561                        Lawrence Harvey   \n",
       "562               Leeds Beckett University   \n",
       "563          Capricorn Capital Partners UK   \n",
       "564                              causaLens   \n",
       "565                        decisionLab Ltd   \n",
       "566        Smartlytics Consultancy Limited   \n",
       "567              Nucleome Therapeutics Ltd   \n",
       "568  Liverpool School of Tropical Medicine   \n",
       "569              Nucleome Therapeutics Ltd   \n",
       "570  Liverpool School of Tropical Medicine   \n",
       "571                              causaLens   \n",
       "572        Smartlytics Consultancy Limited   \n",
       "573                                Harnham   \n",
       "574                         Bettor Believe   \n",
       "575          Capricorn Capital Partners UK   \n",
       "576                              causaLens   \n",
       "577                        decisionLab Ltd   \n",
       "578        Smartlytics Consultancy Limited   \n",
       "579                                Harnham   \n",
       "580                         Southern Water   \n",
       "581                                Harnham   \n",
       "582                        kdr Recruitment   \n",
       "\n",
       "                                               Summary Salary_category  \n",
       "0     Posting Closes: October 30, 2019 (posting sub...         HighMid  \n",
       "1    This position performs professional work apply...             Low  \n",
       "2     Expertise in Predictive Modeling, Applied Mac...          LowMid  \n",
       "3    Aceolution is placing the candidate for a top ...            High  \n",
       "4     Performs detailed statistical analysis and re...             Low  \n",
       "5    Master’s degree in public health, health servi...             Low  \n",
       "6    Applying appropriate statistical analysis for ...             Low  \n",
       "7    With more than 20 years of uninterrupted fundi...             Low  \n",
       "8     With more than 20 years of uninterrupted fund...             Low  \n",
       "9     Master’s degree in public health, health serv...             Low  \n",
       "10    Applying appropriate statistical analysis for...             Low  \n",
       "11    A bachelor's degree in mathematics or statist...             Low  \n",
       "12   A bachelor's degree in mathematics or statisti...             Low  \n",
       "13    A combination of relevant experience, includi...          LowMid  \n",
       "14    The Osmanbeyoglu lab is looking for a Data Sc...          LowMid  \n",
       "15    Creating value through data exploitation, pro...            High  \n",
       "16    Our marque client is seeking a talented data ...            High  \n",
       "17    Competitive salary, based on the experience.L...          LowMid  \n",
       "18    Competitive salary, based on the experience.5...          LowMid  \n",
       "19   Competitive salary, based on the experience. 5...          LowMid  \n",
       "20    Competitive salary, based on the experience.5...          LowMid  \n",
       "21    Competitive salary, based on the experience.5...          LowMid  \n",
       "22   Competitive salary, based on the experience. 5...          LowMid  \n",
       "23    Experience preparing and executing project pl...          LowMid  \n",
       "24    Develops an analytics data ecosystem in an im...            High  \n",
       "25   Develops an analytics data ecosystem in an imm...            High  \n",
       "26   Performs data mining in the system to find tre...         HighMid  \n",
       "27    Appointment may be subject to a suitability o...            High  \n",
       "28    Very long-term employment in highly advanced ...          LowMid  \n",
       "29   Must already have experience in advanced mathe...          LowMid  \n",
       "..                                                 ...             ...  \n",
       "553  This is an exciting role for a smart, creative...          LowMid  \n",
       "554  Smartlytics Consultancy a small analytics cons...          LowMid  \n",
       "555  A well-known global retailer is drastically bu...          LowMid  \n",
       "556  Our engineers, scientists, technicians, custom...             Low  \n",
       "557  Making sense of complex unstructured data sets...          LowMid  \n",
       "558  £24,000 - £26,000 per annum. Are you just fini...             Low  \n",
       "559   Lead Data Scientist - Executing Strategy.As a...            High  \n",
       "560   The successful Senior Data Scientist will hav...          LowMid  \n",
       "561   Proven successful experience in a similar rol...          LowMid  \n",
       "562   You will also be familiar with handling large...             Low  \n",
       "563  We are looking to add a data scientist with ex...             Low  \n",
       "564  We are looking for a motivated and high-achiev...          LowMid  \n",
       "565  We are seeking to expand our talented and dyna...             Low  \n",
       "566  Smartlytics Consultancy a small analytics cons...          LowMid  \n",
       "567  We are building a passionate, creative and ded...             Low  \n",
       "568  The successful individual must also be able to...             Low  \n",
       "569   We are building a passionate, creative and de...             Low  \n",
       "570   The successful individual must also be able t...             Low  \n",
       "571   This is an exciting role for a smart, creativ...          LowMid  \n",
       "572   Smartlytics Consultancy a small analytics con...          LowMid  \n",
       "573   As a Lead Data Scientist, you will be analysi...            High  \n",
       "574   The research team manage and model sports bet...             Low  \n",
       "575   We are looking to add a data scientist with e...             Low  \n",
       "576   We are looking for a motivated and high-achie...          LowMid  \n",
       "577   We are seeking to expand our talented and dyn...             Low  \n",
       "578   Smartlytics Consultancy a small analytics con...          LowMid  \n",
       "579   The successful Senior Data Scientist will hav...          LowMid  \n",
       "580   Analysing and interpreting financial statisti...             Low  \n",
       "581   As a Data Scientist you will be:Helping the b...          LowMid  \n",
       "582   What you’ll be doing as a Data Scientist:If s...             Low  \n",
       "\n",
       "[583 rows x 6 columns]"
      ]
     },
     "execution_count": 27,
     "metadata": {},
     "output_type": "execute_result"
    }
   ],
   "source": [
    "# Using bins to split salart into 4 categories 'High','HighMid', 'LowMid' & 'Low'\n",
    "\n",
    "US_sal['Salary_category'] = US_sal.Price.apply(lambda x: 'Low' if x <= 55000 else 'LowMid' if x <= 85000 \n",
    "                                            else 'HighMid' if x <=105000 else 'High')\n",
    "US_sal"
   ]
  },
  {
   "cell_type": "code",
   "execution_count": 28,
   "metadata": {},
   "outputs": [
    {
     "data": {
      "text/plain": [
       "Low        214\n",
       "LowMid     171\n",
       "High       107\n",
       "HighMid     91\n",
       "Name: Salary_category, dtype: int64"
      ]
     },
     "execution_count": 28,
     "metadata": {},
     "output_type": "execute_result"
    }
   ],
   "source": [
    "US_sal.Salary_category.value_counts()"
   ]
  },
  {
   "cell_type": "code",
   "execution_count": 29,
   "metadata": {},
   "outputs": [],
   "source": [
    "US_sal.to_csv('Final.csv')"
   ]
  },
  {
   "cell_type": "markdown",
   "metadata": {
    "focus": false,
    "id": "a7afb2c0-d41e-4779-8216-91cd8dd4473f"
   },
   "source": [
    "#### Thought experiment: What is the baseline accuracy for this model?"
   ]
  },
  {
   "cell_type": "code",
   "execution_count": 169,
   "metadata": {
    "focus": false,
    "id": "87a17d3d-b7f4-4747-9f75-f9af1d18a174"
   },
   "outputs": [
    {
     "data": {
      "text/plain": [
       "Low        0.255245\n",
       "LowMid     0.253497\n",
       "HighMid    0.246503\n",
       "High       0.244755\n",
       "Name: Salary_category, dtype: float64"
      ]
     },
     "execution_count": 169,
     "metadata": {},
     "output_type": "execute_result"
    }
   ],
   "source": [
    "## Normalising class value counts\n",
    "\n",
    "US_sal.Salary_category.value_counts(normalize=True)"
   ]
  },
  {
   "cell_type": "code",
   "execution_count": 170,
   "metadata": {},
   "outputs": [
    {
     "data": {
      "text/plain": [
       "0.25524475524475526"
      ]
     },
     "execution_count": 170,
     "metadata": {},
     "output_type": "execute_result"
    }
   ],
   "source": [
    "# Calculating baseline accuracy\n",
    "\n",
    "baseline_acc = US_sal.Salary_category.value_counts(normalize=True).max()\n",
    "baseline_acc"
   ]
  },
  {
   "cell_type": "code",
   "execution_count": 36,
   "metadata": {},
   "outputs": [
    {
     "data": {
      "text/html": [
       "<div>\n",
       "<style scoped>\n",
       "    .dataframe tbody tr th:only-of-type {\n",
       "        vertical-align: middle;\n",
       "    }\n",
       "\n",
       "    .dataframe tbody tr th {\n",
       "        vertical-align: top;\n",
       "    }\n",
       "\n",
       "    .dataframe thead th {\n",
       "        text-align: right;\n",
       "    }\n",
       "</style>\n",
       "<table border=\"1\" class=\"dataframe\">\n",
       "  <thead>\n",
       "    <tr style=\"text-align: right;\">\n",
       "      <th></th>\n",
       "      <th>Salary_category</th>\n",
       "      <th>Location</th>\n",
       "    </tr>\n",
       "  </thead>\n",
       "  <tbody>\n",
       "    <tr>\n",
       "      <th>0</th>\n",
       "      <td>HighMid</td>\n",
       "      <td>Orlando, FL 32801 (Central Business District a...</td>\n",
       "    </tr>\n",
       "    <tr>\n",
       "      <th>1</th>\n",
       "      <td>Low</td>\n",
       "      <td>Sanford, FL</td>\n",
       "    </tr>\n",
       "    <tr>\n",
       "      <th>2</th>\n",
       "      <td>LowMid</td>\n",
       "      <td>Davie, FL</td>\n",
       "    </tr>\n",
       "    <tr>\n",
       "      <th>3</th>\n",
       "      <td>High</td>\n",
       "      <td>Tampa, FL</td>\n",
       "    </tr>\n",
       "    <tr>\n",
       "      <th>4</th>\n",
       "      <td>Low</td>\n",
       "      <td>Columbia, SC 29223</td>\n",
       "    </tr>\n",
       "  </tbody>\n",
       "</table>\n",
       "</div>"
      ],
      "text/plain": [
       "  Salary_category                                           Location\n",
       "0         HighMid  Orlando, FL 32801 (Central Business District a...\n",
       "1             Low                                        Sanford, FL\n",
       "2          LowMid                                          Davie, FL\n",
       "3            High                                          Tampa, FL\n",
       "4             Low                                 Columbia, SC 29223"
      ]
     },
     "execution_count": 36,
     "metadata": {},
     "output_type": "execute_result"
    }
   ],
   "source": [
    "# Creating df with Salary_category (target) & location (feature)\n",
    "\n",
    "salary_vs_location = US_sal[['Salary_category','Location']]\n",
    "\n",
    "salary_vs_location.head()"
   ]
  },
  {
   "cell_type": "code",
   "execution_count": 37,
   "metadata": {},
   "outputs": [
    {
     "data": {
      "text/html": [
       "<div>\n",
       "<style scoped>\n",
       "    .dataframe tbody tr th:only-of-type {\n",
       "        vertical-align: middle;\n",
       "    }\n",
       "\n",
       "    .dataframe tbody tr th {\n",
       "        vertical-align: top;\n",
       "    }\n",
       "\n",
       "    .dataframe thead th {\n",
       "        text-align: right;\n",
       "    }\n",
       "</style>\n",
       "<table border=\"1\" class=\"dataframe\">\n",
       "  <thead>\n",
       "    <tr style=\"text-align: right;\">\n",
       "      <th></th>\n",
       "      <th>Salary_category</th>\n",
       "      <th>Location_Aiken County, SC</th>\n",
       "      <th>Location_Albuquerque, NM 87110 (Uptown area)</th>\n",
       "      <th>Location_Alexandria, VA</th>\n",
       "      <th>Location_Alexandria, VA 22314 (Southwest Quadrant area)</th>\n",
       "      <th>Location_Anchorage, AK</th>\n",
       "      <th>Location_Atlanta, GA</th>\n",
       "      <th>Location_Atlanta, GA 30303 (Five Points area)</th>\n",
       "      <th>Location_Atlanta, GA 30305 (Buckhead area)</th>\n",
       "      <th>Location_Atlanta, GA 30307</th>\n",
       "      <th>...</th>\n",
       "      <th>Location_United Kingdom</th>\n",
       "      <th>Location_Vienna, VA</th>\n",
       "      <th>Location_Wembley</th>\n",
       "      <th>Location_West London</th>\n",
       "      <th>Location_West Midlands</th>\n",
       "      <th>Location_Westminster</th>\n",
       "      <th>Location_White City</th>\n",
       "      <th>Location_Wimbledon</th>\n",
       "      <th>Location_Woodlawn, MD</th>\n",
       "      <th>Location_Yorkshire</th>\n",
       "    </tr>\n",
       "  </thead>\n",
       "  <tbody>\n",
       "    <tr>\n",
       "      <th>0</th>\n",
       "      <td>HighMid</td>\n",
       "      <td>0</td>\n",
       "      <td>0</td>\n",
       "      <td>0</td>\n",
       "      <td>0</td>\n",
       "      <td>0</td>\n",
       "      <td>0</td>\n",
       "      <td>0</td>\n",
       "      <td>0</td>\n",
       "      <td>0</td>\n",
       "      <td>...</td>\n",
       "      <td>0</td>\n",
       "      <td>0</td>\n",
       "      <td>0</td>\n",
       "      <td>0</td>\n",
       "      <td>0</td>\n",
       "      <td>0</td>\n",
       "      <td>0</td>\n",
       "      <td>0</td>\n",
       "      <td>0</td>\n",
       "      <td>0</td>\n",
       "    </tr>\n",
       "    <tr>\n",
       "      <th>1</th>\n",
       "      <td>Low</td>\n",
       "      <td>0</td>\n",
       "      <td>0</td>\n",
       "      <td>0</td>\n",
       "      <td>0</td>\n",
       "      <td>0</td>\n",
       "      <td>0</td>\n",
       "      <td>0</td>\n",
       "      <td>0</td>\n",
       "      <td>0</td>\n",
       "      <td>...</td>\n",
       "      <td>0</td>\n",
       "      <td>0</td>\n",
       "      <td>0</td>\n",
       "      <td>0</td>\n",
       "      <td>0</td>\n",
       "      <td>0</td>\n",
       "      <td>0</td>\n",
       "      <td>0</td>\n",
       "      <td>0</td>\n",
       "      <td>0</td>\n",
       "    </tr>\n",
       "    <tr>\n",
       "      <th>2</th>\n",
       "      <td>LowMid</td>\n",
       "      <td>0</td>\n",
       "      <td>0</td>\n",
       "      <td>0</td>\n",
       "      <td>0</td>\n",
       "      <td>0</td>\n",
       "      <td>0</td>\n",
       "      <td>0</td>\n",
       "      <td>0</td>\n",
       "      <td>0</td>\n",
       "      <td>...</td>\n",
       "      <td>0</td>\n",
       "      <td>0</td>\n",
       "      <td>0</td>\n",
       "      <td>0</td>\n",
       "      <td>0</td>\n",
       "      <td>0</td>\n",
       "      <td>0</td>\n",
       "      <td>0</td>\n",
       "      <td>0</td>\n",
       "      <td>0</td>\n",
       "    </tr>\n",
       "    <tr>\n",
       "      <th>3</th>\n",
       "      <td>High</td>\n",
       "      <td>0</td>\n",
       "      <td>0</td>\n",
       "      <td>0</td>\n",
       "      <td>0</td>\n",
       "      <td>0</td>\n",
       "      <td>0</td>\n",
       "      <td>0</td>\n",
       "      <td>0</td>\n",
       "      <td>0</td>\n",
       "      <td>...</td>\n",
       "      <td>0</td>\n",
       "      <td>0</td>\n",
       "      <td>0</td>\n",
       "      <td>0</td>\n",
       "      <td>0</td>\n",
       "      <td>0</td>\n",
       "      <td>0</td>\n",
       "      <td>0</td>\n",
       "      <td>0</td>\n",
       "      <td>0</td>\n",
       "    </tr>\n",
       "    <tr>\n",
       "      <th>4</th>\n",
       "      <td>Low</td>\n",
       "      <td>0</td>\n",
       "      <td>0</td>\n",
       "      <td>0</td>\n",
       "      <td>0</td>\n",
       "      <td>0</td>\n",
       "      <td>0</td>\n",
       "      <td>0</td>\n",
       "      <td>0</td>\n",
       "      <td>0</td>\n",
       "      <td>...</td>\n",
       "      <td>0</td>\n",
       "      <td>0</td>\n",
       "      <td>0</td>\n",
       "      <td>0</td>\n",
       "      <td>0</td>\n",
       "      <td>0</td>\n",
       "      <td>0</td>\n",
       "      <td>0</td>\n",
       "      <td>0</td>\n",
       "      <td>0</td>\n",
       "    </tr>\n",
       "  </tbody>\n",
       "</table>\n",
       "<p>5 rows × 170 columns</p>\n",
       "</div>"
      ],
      "text/plain": [
       "  Salary_category  Location_Aiken County, SC  \\\n",
       "0         HighMid                          0   \n",
       "1             Low                          0   \n",
       "2          LowMid                          0   \n",
       "3            High                          0   \n",
       "4             Low                          0   \n",
       "\n",
       "   Location_Albuquerque, NM 87110 (Uptown area)  Location_Alexandria, VA  \\\n",
       "0                                             0                        0   \n",
       "1                                             0                        0   \n",
       "2                                             0                        0   \n",
       "3                                             0                        0   \n",
       "4                                             0                        0   \n",
       "\n",
       "   Location_Alexandria, VA 22314 (Southwest Quadrant area)  \\\n",
       "0                                                  0         \n",
       "1                                                  0         \n",
       "2                                                  0         \n",
       "3                                                  0         \n",
       "4                                                  0         \n",
       "\n",
       "   Location_Anchorage, AK  Location_Atlanta, GA  \\\n",
       "0                       0                     0   \n",
       "1                       0                     0   \n",
       "2                       0                     0   \n",
       "3                       0                     0   \n",
       "4                       0                     0   \n",
       "\n",
       "   Location_Atlanta, GA 30303 (Five Points area)  \\\n",
       "0                                              0   \n",
       "1                                              0   \n",
       "2                                              0   \n",
       "3                                              0   \n",
       "4                                              0   \n",
       "\n",
       "   Location_Atlanta, GA 30305 (Buckhead area)  Location_Atlanta, GA 30307  \\\n",
       "0                                           0                           0   \n",
       "1                                           0                           0   \n",
       "2                                           0                           0   \n",
       "3                                           0                           0   \n",
       "4                                           0                           0   \n",
       "\n",
       "   ...  Location_United Kingdom  Location_Vienna, VA  Location_Wembley  \\\n",
       "0  ...                        0                    0                 0   \n",
       "1  ...                        0                    0                 0   \n",
       "2  ...                        0                    0                 0   \n",
       "3  ...                        0                    0                 0   \n",
       "4  ...                        0                    0                 0   \n",
       "\n",
       "   Location_West London  Location_West Midlands  Location_Westminster  \\\n",
       "0                     0                       0                     0   \n",
       "1                     0                       0                     0   \n",
       "2                     0                       0                     0   \n",
       "3                     0                       0                     0   \n",
       "4                     0                       0                     0   \n",
       "\n",
       "   Location_White City  Location_Wimbledon  Location_Woodlawn, MD  \\\n",
       "0                    0                   0                      0   \n",
       "1                    0                   0                      0   \n",
       "2                    0                   0                      0   \n",
       "3                    0                   0                      0   \n",
       "4                    0                   0                      0   \n",
       "\n",
       "   Location_Yorkshire  \n",
       "0                   0  \n",
       "1                   0  \n",
       "2                   0  \n",
       "3                   0  \n",
       "4                   0  \n",
       "\n",
       "[5 rows x 170 columns]"
      ]
     },
     "execution_count": 37,
     "metadata": {},
     "output_type": "execute_result"
    }
   ],
   "source": [
    "# Dummifying location\n",
    "\n",
    "salary_vs_location = pd.get_dummies(salary_vs_location,columns=['Location'],drop_first=True)\n",
    "salary_vs_location.head()"
   ]
  },
  {
   "cell_type": "markdown",
   "metadata": {
    "focus": false,
    "id": "4fb29de2-5b98-474c-a4ad-5170b72b9aea"
   },
   "source": [
    "### Create a classification model to predict High/Low salary. \n",
    "\n",
    "\n",
    "- Start by ONLY using the location as a feature.\n",
    "- Use at least two different classifiers you find suitable.\n",
    "- Remember that scaling your features might be necessary.\n",
    "- Display the coefficients/feature importances and write a short summary of what they mean.\n",
    "- Create a few new variables in your dataframe to represent interesting features of a job title (e.g. whether 'Senior' or 'Manager' is in the title).\n",
    "- Incorporate other text features from the title or summary that you believe will predict the salary.\n",
    "- Then build new classification models including also those features. Do they add any value?\n",
    "- Tune your models by testing parameter ranges, regularization strengths, etc. Discuss how that affects your models.\n",
    "- Discuss model coefficients or feature importances as applicable."
   ]
  },
  {
   "cell_type": "code",
   "execution_count": 32,
   "metadata": {},
   "outputs": [],
   "source": [
    "from sklearn import datasets, metrics\n",
    "from sklearn.preprocessing import StandardScaler\n",
    "from sklearn.linear_model import LogisticRegression, LogisticRegressionCV\n",
    "from sklearn.model_selection import train_test_split, cross_val_score, GridSearchCV"
   ]
  },
  {
   "cell_type": "code",
   "execution_count": 38,
   "metadata": {},
   "outputs": [],
   "source": [
    "# Declaring target and X matrix\n",
    "\n",
    "y = salary_vs_location.pop('Salary_category')\n",
    "X= salary_vs_location\n"
   ]
  },
  {
   "cell_type": "code",
   "execution_count": 39,
   "metadata": {},
   "outputs": [],
   "source": [
    "# Setting a train-test split \n",
    "\n",
    "X_train, X_test, y_train, y_test = train_test_split(\n",
    "    X, y, stratify=y, test_size=0.4, random_state=1)"
   ]
  },
  {
   "cell_type": "code",
   "execution_count": 40,
   "metadata": {},
   "outputs": [],
   "source": [
    "# Scaling features \n",
    "\n",
    "scaler = StandardScaler()\n",
    "X_train = pd.DataFrame(scaler.fit_transform(\n",
    "    X_train), columns=X_train.columns, index=X_train.index)\n",
    "X_test = pd.DataFrame(scaler.transform(\n",
    "    X_test), columns=X_test.columns, index=X_test.index)"
   ]
  },
  {
   "cell_type": "markdown",
   "metadata": {},
   "source": [
    "## Logistic regression"
   ]
  },
  {
   "cell_type": "code",
   "execution_count": 41,
   "metadata": {},
   "outputs": [
    {
     "name": "stderr",
     "output_type": "stream",
     "text": [
      "//anaconda3/lib/python3.7/site-packages/sklearn/svm/base.py:929: ConvergenceWarning: Liblinear failed to converge, increase the number of iterations.\n",
      "  \"the number of iterations.\", ConvergenceWarning)\n",
      "//anaconda3/lib/python3.7/site-packages/sklearn/svm/base.py:929: ConvergenceWarning: Liblinear failed to converge, increase the number of iterations.\n",
      "  \"the number of iterations.\", ConvergenceWarning)\n",
      "//anaconda3/lib/python3.7/site-packages/sklearn/svm/base.py:929: ConvergenceWarning: Liblinear failed to converge, increase the number of iterations.\n",
      "  \"the number of iterations.\", ConvergenceWarning)\n",
      "//anaconda3/lib/python3.7/site-packages/sklearn/svm/base.py:929: ConvergenceWarning: Liblinear failed to converge, increase the number of iterations.\n",
      "  \"the number of iterations.\", ConvergenceWarning)\n",
      "//anaconda3/lib/python3.7/site-packages/sklearn/svm/base.py:929: ConvergenceWarning: Liblinear failed to converge, increase the number of iterations.\n",
      "  \"the number of iterations.\", ConvergenceWarning)\n",
      "//anaconda3/lib/python3.7/site-packages/sklearn/svm/base.py:929: ConvergenceWarning: Liblinear failed to converge, increase the number of iterations.\n",
      "  \"the number of iterations.\", ConvergenceWarning)\n",
      "//anaconda3/lib/python3.7/site-packages/sklearn/svm/base.py:929: ConvergenceWarning: Liblinear failed to converge, increase the number of iterations.\n",
      "  \"the number of iterations.\", ConvergenceWarning)\n",
      "//anaconda3/lib/python3.7/site-packages/sklearn/svm/base.py:929: ConvergenceWarning: Liblinear failed to converge, increase the number of iterations.\n",
      "  \"the number of iterations.\", ConvergenceWarning)\n",
      "//anaconda3/lib/python3.7/site-packages/sklearn/svm/base.py:929: ConvergenceWarning: Liblinear failed to converge, increase the number of iterations.\n",
      "  \"the number of iterations.\", ConvergenceWarning)\n",
      "//anaconda3/lib/python3.7/site-packages/sklearn/svm/base.py:929: ConvergenceWarning: Liblinear failed to converge, increase the number of iterations.\n",
      "  \"the number of iterations.\", ConvergenceWarning)\n"
     ]
    },
    {
     "name": "stdout",
     "output_type": "stream",
     "text": [
      "Best Parameters:\n",
      "{'C': 0.3593813663804626, 'fit_intercept': False, 'penalty': 'l1'}\n",
      "Best estimator C:\n",
      "0.3593813663804626\n"
     ]
    },
    {
     "name": "stderr",
     "output_type": "stream",
     "text": [
      "//anaconda3/lib/python3.7/site-packages/sklearn/model_selection/_search.py:813: DeprecationWarning: The default of the `iid` parameter will change from True to False in version 0.22 and will be removed in 0.24. This will change numeric results when test-set sizes are unequal.\n",
      "  DeprecationWarning)\n"
     ]
    }
   ],
   "source": [
    "# Setting a grid search on a Logistic regression\n",
    "\n",
    "model_lr = LogisticRegression(solver='liblinear', multi_class='ovr')\n",
    "\n",
    "params = {'C': np.logspace(-4, 4, 10),\n",
    "          'penalty': ['l1', 'l2'],\n",
    "          'fit_intercept': [True, False]}\n",
    "\n",
    "gs_lr = GridSearchCV(estimator=model_lr,\n",
    "                  param_grid=params,\n",
    "                  cv=5,\n",
    "                  scoring='accuracy',\n",
    "                  return_train_score=True)\n",
    "\n",
    "gs_lr.fit(X_train, y_train)\n",
    "\n",
    "# extract the grid search results\n",
    "\n",
    "print('Best Parameters:')\n",
    "print(gs_lr.best_params_)\n",
    "print('Best estimator C:')\n",
    "print(gs_lr.best_estimator_.C)\n"
   ]
  },
  {
   "cell_type": "code",
   "execution_count": 43,
   "metadata": {},
   "outputs": [
    {
     "name": "stdout",
     "output_type": "stream",
     "text": [
      "Train score:  0.7736389684813754\n",
      "Train CV score:  0.6073528296805557\n",
      "Test score:  0.6196581196581197\n",
      "Test CV score:  0.5731427396737294\n"
     ]
    }
   ],
   "source": [
    "# Fitting a Logstic regression using best params\n",
    "\n",
    "model_lr = LogisticRegression(solver='liblinear', multi_class='ovr',C=0.3593813663804626,penalty='l1')\n",
    "model_lr.fit(X_train, y_train)\n",
    "\n",
    "print(\"Train score: \", model_lr.score(X_train, y_train))\n",
    "print(\"Train CV score: \", cross_val_score(model_lr, X_train, y_train, cv=5).mean())\n",
    "print(\"Test score: \", model_lr.score(X_test, y_test))\n",
    "print(\"Test CV score: \", cross_val_score(model_lr, X_test, y_test, cv=5).mean())"
   ]
  },
  {
   "cell_type": "markdown",
   "metadata": {},
   "source": [
    "### Decision Tree"
   ]
  },
  {
   "cell_type": "code",
   "execution_count": 46,
   "metadata": {},
   "outputs": [],
   "source": [
    "from sklearn.tree import DecisionTreeClassifier"
   ]
  },
  {
   "cell_type": "code",
   "execution_count": 45,
   "metadata": {},
   "outputs": [
    {
     "name": "stdout",
     "output_type": "stream",
     "text": [
      "Fitting 5 folds for each of 484 candidates, totalling 2420 fits\n"
     ]
    },
    {
     "name": "stderr",
     "output_type": "stream",
     "text": [
      "[Parallel(n_jobs=1)]: Using backend SequentialBackend with 1 concurrent workers.\n",
      "[Parallel(n_jobs=1)]: Done 2420 out of 2420 | elapsed:    5.9s finished\n"
     ]
    },
    {
     "data": {
      "text/plain": [
       "GridSearchCV(cv=5, error_score='raise-deprecating',\n",
       "             estimator=DecisionTreeClassifier(class_weight=None,\n",
       "                                              criterion='gini', max_depth=None,\n",
       "                                              max_features=None,\n",
       "                                              max_leaf_nodes=None,\n",
       "                                              min_impurity_decrease=0.0,\n",
       "                                              min_impurity_split=None,\n",
       "                                              min_samples_leaf=1,\n",
       "                                              min_samples_split=2,\n",
       "                                              min_weight_fraction_leaf=0.0,\n",
       "                                              presort=False, random_state=1,\n",
       "                                              splitter='best'),\n",
       "             iid=False, n_jobs=None,\n",
       "             param_grid={'max_depth': [1, 2, 3, 4, 5, 6, 7, 8, 9, 10, None],\n",
       "                         'max_features': [None, 1, 2, 3],\n",
       "                         'min_samples_split': [2, 3, 4, 5, 10, 15, 20, 25, 30,\n",
       "                                               40, 50]},\n",
       "             pre_dispatch='2*n_jobs', refit=True, return_train_score=False,\n",
       "             scoring=None, verbose=1)"
      ]
     },
     "execution_count": 45,
     "metadata": {},
     "output_type": "execute_result"
    }
   ],
   "source": [
    "# gridsearch params\n",
    "dtc_params = {\n",
    "    'max_depth': list(range(1, 11))+[None],\n",
    "    'max_features': [None, 1, 2, 3],\n",
    "    'min_samples_split': [2, 3, 4, 5, 10, 15, 20, 25, 30, 40, 50]\n",
    "}\n",
    "\n",
    "# set the gridsearch\n",
    "model = DecisionTreeClassifier(random_state=1)\n",
    "dtc_gs = GridSearchCV(model, dtc_params, cv=5, verbose=1, iid=False)\n",
    "\n",
    "# use the gridearch model to fit the data\n",
    "dtc_gs.fit(X_train, y_train)"
   ]
  },
  {
   "cell_type": "code",
   "execution_count": 47,
   "metadata": {},
   "outputs": [
    {
     "name": "stdout",
     "output_type": "stream",
     "text": [
      "{'max_depth': None, 'max_features': 3, 'min_samples_split': 10}\n",
      "0.6243785131933974\n"
     ]
    }
   ],
   "source": [
    "print(dtc_gs.best_params_)\n",
    "print(dtc_gs.best_score_)"
   ]
  },
  {
   "cell_type": "code",
   "execution_count": 48,
   "metadata": {},
   "outputs": [
    {
     "name": "stdout",
     "output_type": "stream",
     "text": [
      "Train score:  0.7621776504297995\n",
      "Train CV score:  0.6243785131933974\n",
      "Test score:  0.6239316239316239\n",
      "Test CV score:  0.5185881888987479\n"
     ]
    }
   ],
   "source": [
    "DTC = DecisionTreeClassifier(criterion='gini',\n",
    "                                    max_depth=None,\n",
    "                                    max_features=3,\n",
    "                                    min_samples_split=10,\n",
    "                                    random_state=1)\n",
    "DTC.fit(X_train, y_train)\n",
    "\n",
    "print(\"Train score: \", DTC.score(X_train, y_train))\n",
    "print(\"Train CV score: \", cross_val_score(DTC, X_train, y_train, cv=5).mean())\n",
    "print(\"Test score: \", DTC.score(X_test, y_test))\n",
    "print(\"Test CV score: \", cross_val_score(DTC, X_test, y_test, cv=5).mean())"
   ]
  },
  {
   "cell_type": "markdown",
   "metadata": {},
   "source": [
    "Random Forest, bagging, knn & adaboost models were dropped as they didn't have the highest scores.\n",
    "\n",
    "Logistic Regression has the best test score using only one feature (Location)."
   ]
  },
  {
   "cell_type": "markdown",
   "metadata": {},
   "source": [
    "### NLP on Title"
   ]
  },
  {
   "cell_type": "markdown",
   "metadata": {},
   "source": [
    "Summary had similar results to Title and has been removed to avoid duplicate entries."
   ]
  },
  {
   "cell_type": "code",
   "execution_count": 49,
   "metadata": {},
   "outputs": [],
   "source": [
    "import re\n",
    "import nltk\n",
    "from nltk.corpus import stopwords\n",
    "import pandas as pd\n",
    "stop_words = set(stopwords.words('english'))\n",
    "import string"
   ]
  },
  {
   "cell_type": "code",
   "execution_count": 50,
   "metadata": {},
   "outputs": [],
   "source": [
    "# Setting a stop words list\n",
    "\n",
    "numbers=[0,1,2,3,4,5,6,7,8,9]\n",
    "stop = stopwords.words('english') + list(string.punctuation) + list(numbers)\n"
   ]
  },
  {
   "cell_type": "code",
   "execution_count": 51,
   "metadata": {},
   "outputs": [
    {
     "data": {
      "text/plain": [
       "(583, 172)"
      ]
     },
     "execution_count": 51,
     "metadata": {},
     "output_type": "execute_result"
    }
   ],
   "source": [
    "# Creating a new df and dummifying Location\n",
    "\n",
    "df_text = US_sal[['Location','Salary_category','Title','Company']]\n",
    "df_text = pd.get_dummies(df_text,columns=['Location'],drop_first=True)\n",
    "\n",
    "df_text.shape"
   ]
  },
  {
   "cell_type": "code",
   "execution_count": 52,
   "metadata": {},
   "outputs": [],
   "source": [
    "# Getting a train split\n",
    "\n",
    "df = df_text\n",
    "df_train, df_test = train_test_split(df,test_size=0.4, random_state=1)\n",
    "\n",
    "# Declaring X matrix for NLP modeling \n",
    "\n",
    "Xtf = df_text.Title"
   ]
  },
  {
   "cell_type": "code",
   "execution_count": 409,
   "metadata": {},
   "outputs": [
    {
     "data": {
      "text/plain": [
       "(343, 171)"
      ]
     },
     "execution_count": 409,
     "metadata": {},
     "output_type": "execute_result"
    }
   ],
   "source": [
    "df_train.shape"
   ]
  },
  {
   "cell_type": "code",
   "execution_count": 53,
   "metadata": {},
   "outputs": [
    {
     "data": {
      "text/plain": [
       "40"
      ]
     },
     "execution_count": 53,
     "metadata": {},
     "output_type": "execute_result"
    }
   ],
   "source": [
    "from sklearn.feature_extraction.text import TfidfVectorizer\n",
    "\n",
    "# Fitting a TfidVectorizer model on the Title feature\n",
    "# Token pattern to exclude digits and max features set to 40 (best number)\n",
    "\n",
    "tvec = TfidfVectorizer(stop_words = stop,token_pattern=r'\\b[^\\d\\W]+\\b',max_features=40)\n",
    "tvec.fit(Xtf)\n",
    "len(tvec.get_feature_names())"
   ]
  },
  {
   "cell_type": "code",
   "execution_count": 59,
   "metadata": {},
   "outputs": [],
   "source": [
    "# Plotting the results in a dataframe \n",
    "\n",
    "df1 = pd.DataFrame(tvec.transform(Xtf).todense(),\n",
    "                  columns=tvec.get_feature_names(),\n",
    "                  index=Xtf)\n",
    "df1 = df1.reset_index()"
   ]
  },
  {
   "cell_type": "code",
   "execution_count": 60,
   "metadata": {},
   "outputs": [
    {
     "data": {
      "text/html": [
       "<div>\n",
       "<style scoped>\n",
       "    .dataframe tbody tr th:only-of-type {\n",
       "        vertical-align: middle;\n",
       "    }\n",
       "\n",
       "    .dataframe tbody tr th {\n",
       "        vertical-align: top;\n",
       "    }\n",
       "\n",
       "    .dataframe thead th {\n",
       "        text-align: right;\n",
       "    }\n",
       "</style>\n",
       "<table border=\"1\" class=\"dataframe\">\n",
       "  <thead>\n",
       "    <tr style=\"text-align: right;\">\n",
       "      <th></th>\n",
       "      <th>Title</th>\n",
       "      <th>ai</th>\n",
       "      <th>analyst</th>\n",
       "      <th>analytics</th>\n",
       "      <th>assistant</th>\n",
       "      <th>associate</th>\n",
       "      <th>aws</th>\n",
       "      <th>casino</th>\n",
       "      <th>computational</th>\n",
       "      <th>data</th>\n",
       "      <th>...</th>\n",
       "      <th>quality</th>\n",
       "      <th>quantitative</th>\n",
       "      <th>research</th>\n",
       "      <th>science</th>\n",
       "      <th>scientist</th>\n",
       "      <th>senior</th>\n",
       "      <th>software</th>\n",
       "      <th>sr</th>\n",
       "      <th>statistical</th>\n",
       "      <th>statistician</th>\n",
       "    </tr>\n",
       "  </thead>\n",
       "  <tbody>\n",
       "    <tr>\n",
       "      <th>0</th>\n",
       "      <td>Data Scientist (Database Administrator)</td>\n",
       "      <td>0.0</td>\n",
       "      <td>0.0</td>\n",
       "      <td>0.0</td>\n",
       "      <td>0.0</td>\n",
       "      <td>0.0</td>\n",
       "      <td>0.0</td>\n",
       "      <td>0.0</td>\n",
       "      <td>0.0</td>\n",
       "      <td>0.645333</td>\n",
       "      <td>...</td>\n",
       "      <td>0.0</td>\n",
       "      <td>0.0</td>\n",
       "      <td>0.000000</td>\n",
       "      <td>0.000000</td>\n",
       "      <td>0.763901</td>\n",
       "      <td>0.0</td>\n",
       "      <td>0.0</td>\n",
       "      <td>0.0</td>\n",
       "      <td>0.0</td>\n",
       "      <td>0.000000</td>\n",
       "    </tr>\n",
       "    <tr>\n",
       "      <th>1</th>\n",
       "      <td>RESEARCH STATISTICIAN</td>\n",
       "      <td>0.0</td>\n",
       "      <td>0.0</td>\n",
       "      <td>0.0</td>\n",
       "      <td>0.0</td>\n",
       "      <td>0.0</td>\n",
       "      <td>0.0</td>\n",
       "      <td>0.0</td>\n",
       "      <td>0.0</td>\n",
       "      <td>0.000000</td>\n",
       "      <td>...</td>\n",
       "      <td>0.0</td>\n",
       "      <td>0.0</td>\n",
       "      <td>0.736943</td>\n",
       "      <td>0.000000</td>\n",
       "      <td>0.000000</td>\n",
       "      <td>0.0</td>\n",
       "      <td>0.0</td>\n",
       "      <td>0.0</td>\n",
       "      <td>0.0</td>\n",
       "      <td>0.675955</td>\n",
       "    </tr>\n",
       "    <tr>\n",
       "      <th>2</th>\n",
       "      <td>District Director, Research and Data Science</td>\n",
       "      <td>0.0</td>\n",
       "      <td>0.0</td>\n",
       "      <td>0.0</td>\n",
       "      <td>0.0</td>\n",
       "      <td>0.0</td>\n",
       "      <td>0.0</td>\n",
       "      <td>0.0</td>\n",
       "      <td>0.0</td>\n",
       "      <td>0.184244</td>\n",
       "      <td>...</td>\n",
       "      <td>0.0</td>\n",
       "      <td>0.0</td>\n",
       "      <td>0.490022</td>\n",
       "      <td>0.508162</td>\n",
       "      <td>0.000000</td>\n",
       "      <td>0.0</td>\n",
       "      <td>0.0</td>\n",
       "      <td>0.0</td>\n",
       "      <td>0.0</td>\n",
       "      <td>0.000000</td>\n",
       "    </tr>\n",
       "    <tr>\n",
       "      <th>3</th>\n",
       "      <td>Python Architect / Data Scientist</td>\n",
       "      <td>0.0</td>\n",
       "      <td>0.0</td>\n",
       "      <td>0.0</td>\n",
       "      <td>0.0</td>\n",
       "      <td>0.0</td>\n",
       "      <td>0.0</td>\n",
       "      <td>0.0</td>\n",
       "      <td>0.0</td>\n",
       "      <td>0.283000</td>\n",
       "      <td>...</td>\n",
       "      <td>0.0</td>\n",
       "      <td>0.0</td>\n",
       "      <td>0.000000</td>\n",
       "      <td>0.000000</td>\n",
       "      <td>0.334996</td>\n",
       "      <td>0.0</td>\n",
       "      <td>0.0</td>\n",
       "      <td>0.0</td>\n",
       "      <td>0.0</td>\n",
       "      <td>0.000000</td>\n",
       "    </tr>\n",
       "    <tr>\n",
       "      <th>4</th>\n",
       "      <td>Statistician III</td>\n",
       "      <td>0.0</td>\n",
       "      <td>0.0</td>\n",
       "      <td>0.0</td>\n",
       "      <td>0.0</td>\n",
       "      <td>0.0</td>\n",
       "      <td>0.0</td>\n",
       "      <td>0.0</td>\n",
       "      <td>0.0</td>\n",
       "      <td>0.000000</td>\n",
       "      <td>...</td>\n",
       "      <td>0.0</td>\n",
       "      <td>0.0</td>\n",
       "      <td>0.000000</td>\n",
       "      <td>0.000000</td>\n",
       "      <td>0.000000</td>\n",
       "      <td>0.0</td>\n",
       "      <td>0.0</td>\n",
       "      <td>0.0</td>\n",
       "      <td>0.0</td>\n",
       "      <td>1.000000</td>\n",
       "    </tr>\n",
       "  </tbody>\n",
       "</table>\n",
       "<p>5 rows × 41 columns</p>\n",
       "</div>"
      ],
      "text/plain": [
       "                                          Title   ai  analyst  analytics  \\\n",
       "0       Data Scientist (Database Administrator)  0.0      0.0        0.0   \n",
       "1                         RESEARCH STATISTICIAN  0.0      0.0        0.0   \n",
       "2  District Director, Research and Data Science  0.0      0.0        0.0   \n",
       "3             Python Architect / Data Scientist  0.0      0.0        0.0   \n",
       "4                              Statistician III  0.0      0.0        0.0   \n",
       "\n",
       "   assistant  associate  aws  casino  computational      data  ...  quality  \\\n",
       "0        0.0        0.0  0.0     0.0            0.0  0.645333  ...      0.0   \n",
       "1        0.0        0.0  0.0     0.0            0.0  0.000000  ...      0.0   \n",
       "2        0.0        0.0  0.0     0.0            0.0  0.184244  ...      0.0   \n",
       "3        0.0        0.0  0.0     0.0            0.0  0.283000  ...      0.0   \n",
       "4        0.0        0.0  0.0     0.0            0.0  0.000000  ...      0.0   \n",
       "\n",
       "   quantitative  research   science  scientist  senior  software   sr  \\\n",
       "0           0.0  0.000000  0.000000   0.763901     0.0       0.0  0.0   \n",
       "1           0.0  0.736943  0.000000   0.000000     0.0       0.0  0.0   \n",
       "2           0.0  0.490022  0.508162   0.000000     0.0       0.0  0.0   \n",
       "3           0.0  0.000000  0.000000   0.334996     0.0       0.0  0.0   \n",
       "4           0.0  0.000000  0.000000   0.000000     0.0       0.0  0.0   \n",
       "\n",
       "   statistical  statistician  \n",
       "0          0.0      0.000000  \n",
       "1          0.0      0.675955  \n",
       "2          0.0      0.000000  \n",
       "3          0.0      0.000000  \n",
       "4          0.0      1.000000  \n",
       "\n",
       "[5 rows x 41 columns]"
      ]
     },
     "execution_count": 60,
     "metadata": {},
     "output_type": "execute_result"
    }
   ],
   "source": [
    "df1.head()"
   ]
  },
  {
   "cell_type": "code",
   "execution_count": 61,
   "metadata": {},
   "outputs": [],
   "source": [
    "# Adding tfid df to the original dataframe \n",
    "\n",
    "df_result = pd.concat([df1, df_text], axis=1, sort=False)"
   ]
  },
  {
   "cell_type": "code",
   "execution_count": 62,
   "metadata": {},
   "outputs": [
    {
     "data": {
      "text/html": [
       "<div>\n",
       "<style scoped>\n",
       "    .dataframe tbody tr th:only-of-type {\n",
       "        vertical-align: middle;\n",
       "    }\n",
       "\n",
       "    .dataframe tbody tr th {\n",
       "        vertical-align: top;\n",
       "    }\n",
       "\n",
       "    .dataframe thead th {\n",
       "        text-align: right;\n",
       "    }\n",
       "</style>\n",
       "<table border=\"1\" class=\"dataframe\">\n",
       "  <thead>\n",
       "    <tr style=\"text-align: right;\">\n",
       "      <th></th>\n",
       "      <th>Title</th>\n",
       "      <th>ai</th>\n",
       "      <th>analyst</th>\n",
       "      <th>analytics</th>\n",
       "      <th>assistant</th>\n",
       "      <th>associate</th>\n",
       "      <th>aws</th>\n",
       "      <th>casino</th>\n",
       "      <th>computational</th>\n",
       "      <th>data</th>\n",
       "      <th>...</th>\n",
       "      <th>Location_United Kingdom</th>\n",
       "      <th>Location_Vienna, VA</th>\n",
       "      <th>Location_Wembley</th>\n",
       "      <th>Location_West London</th>\n",
       "      <th>Location_West Midlands</th>\n",
       "      <th>Location_Westminster</th>\n",
       "      <th>Location_White City</th>\n",
       "      <th>Location_Wimbledon</th>\n",
       "      <th>Location_Woodlawn, MD</th>\n",
       "      <th>Location_Yorkshire</th>\n",
       "    </tr>\n",
       "  </thead>\n",
       "  <tbody>\n",
       "    <tr>\n",
       "      <th>0</th>\n",
       "      <td>Data Scientist (Database Administrator)</td>\n",
       "      <td>0.0</td>\n",
       "      <td>0.0</td>\n",
       "      <td>0.0</td>\n",
       "      <td>0.0</td>\n",
       "      <td>0.0</td>\n",
       "      <td>0.0</td>\n",
       "      <td>0.0</td>\n",
       "      <td>0.0</td>\n",
       "      <td>0.645333</td>\n",
       "      <td>...</td>\n",
       "      <td>0</td>\n",
       "      <td>0</td>\n",
       "      <td>0</td>\n",
       "      <td>0</td>\n",
       "      <td>0</td>\n",
       "      <td>0</td>\n",
       "      <td>0</td>\n",
       "      <td>0</td>\n",
       "      <td>0</td>\n",
       "      <td>0</td>\n",
       "    </tr>\n",
       "    <tr>\n",
       "      <th>1</th>\n",
       "      <td>RESEARCH STATISTICIAN</td>\n",
       "      <td>0.0</td>\n",
       "      <td>0.0</td>\n",
       "      <td>0.0</td>\n",
       "      <td>0.0</td>\n",
       "      <td>0.0</td>\n",
       "      <td>0.0</td>\n",
       "      <td>0.0</td>\n",
       "      <td>0.0</td>\n",
       "      <td>0.000000</td>\n",
       "      <td>...</td>\n",
       "      <td>0</td>\n",
       "      <td>0</td>\n",
       "      <td>0</td>\n",
       "      <td>0</td>\n",
       "      <td>0</td>\n",
       "      <td>0</td>\n",
       "      <td>0</td>\n",
       "      <td>0</td>\n",
       "      <td>0</td>\n",
       "      <td>0</td>\n",
       "    </tr>\n",
       "    <tr>\n",
       "      <th>2</th>\n",
       "      <td>District Director, Research and Data Science</td>\n",
       "      <td>0.0</td>\n",
       "      <td>0.0</td>\n",
       "      <td>0.0</td>\n",
       "      <td>0.0</td>\n",
       "      <td>0.0</td>\n",
       "      <td>0.0</td>\n",
       "      <td>0.0</td>\n",
       "      <td>0.0</td>\n",
       "      <td>0.184244</td>\n",
       "      <td>...</td>\n",
       "      <td>0</td>\n",
       "      <td>0</td>\n",
       "      <td>0</td>\n",
       "      <td>0</td>\n",
       "      <td>0</td>\n",
       "      <td>0</td>\n",
       "      <td>0</td>\n",
       "      <td>0</td>\n",
       "      <td>0</td>\n",
       "      <td>0</td>\n",
       "    </tr>\n",
       "    <tr>\n",
       "      <th>3</th>\n",
       "      <td>Python Architect / Data Scientist</td>\n",
       "      <td>0.0</td>\n",
       "      <td>0.0</td>\n",
       "      <td>0.0</td>\n",
       "      <td>0.0</td>\n",
       "      <td>0.0</td>\n",
       "      <td>0.0</td>\n",
       "      <td>0.0</td>\n",
       "      <td>0.0</td>\n",
       "      <td>0.283000</td>\n",
       "      <td>...</td>\n",
       "      <td>0</td>\n",
       "      <td>0</td>\n",
       "      <td>0</td>\n",
       "      <td>0</td>\n",
       "      <td>0</td>\n",
       "      <td>0</td>\n",
       "      <td>0</td>\n",
       "      <td>0</td>\n",
       "      <td>0</td>\n",
       "      <td>0</td>\n",
       "    </tr>\n",
       "    <tr>\n",
       "      <th>4</th>\n",
       "      <td>Statistician III</td>\n",
       "      <td>0.0</td>\n",
       "      <td>0.0</td>\n",
       "      <td>0.0</td>\n",
       "      <td>0.0</td>\n",
       "      <td>0.0</td>\n",
       "      <td>0.0</td>\n",
       "      <td>0.0</td>\n",
       "      <td>0.0</td>\n",
       "      <td>0.000000</td>\n",
       "      <td>...</td>\n",
       "      <td>0</td>\n",
       "      <td>0</td>\n",
       "      <td>0</td>\n",
       "      <td>0</td>\n",
       "      <td>0</td>\n",
       "      <td>0</td>\n",
       "      <td>0</td>\n",
       "      <td>0</td>\n",
       "      <td>0</td>\n",
       "      <td>0</td>\n",
       "    </tr>\n",
       "  </tbody>\n",
       "</table>\n",
       "<p>5 rows × 213 columns</p>\n",
       "</div>"
      ],
      "text/plain": [
       "                                          Title   ai  analyst  analytics  \\\n",
       "0       Data Scientist (Database Administrator)  0.0      0.0        0.0   \n",
       "1                         RESEARCH STATISTICIAN  0.0      0.0        0.0   \n",
       "2  District Director, Research and Data Science  0.0      0.0        0.0   \n",
       "3             Python Architect / Data Scientist  0.0      0.0        0.0   \n",
       "4                              Statistician III  0.0      0.0        0.0   \n",
       "\n",
       "   assistant  associate  aws  casino  computational      data  ...  \\\n",
       "0        0.0        0.0  0.0     0.0            0.0  0.645333  ...   \n",
       "1        0.0        0.0  0.0     0.0            0.0  0.000000  ...   \n",
       "2        0.0        0.0  0.0     0.0            0.0  0.184244  ...   \n",
       "3        0.0        0.0  0.0     0.0            0.0  0.283000  ...   \n",
       "4        0.0        0.0  0.0     0.0            0.0  0.000000  ...   \n",
       "\n",
       "   Location_United Kingdom  Location_Vienna, VA  Location_Wembley  \\\n",
       "0                        0                    0                 0   \n",
       "1                        0                    0                 0   \n",
       "2                        0                    0                 0   \n",
       "3                        0                    0                 0   \n",
       "4                        0                    0                 0   \n",
       "\n",
       "   Location_West London  Location_West Midlands  Location_Westminster  \\\n",
       "0                     0                       0                     0   \n",
       "1                     0                       0                     0   \n",
       "2                     0                       0                     0   \n",
       "3                     0                       0                     0   \n",
       "4                     0                       0                     0   \n",
       "\n",
       "   Location_White City  Location_Wimbledon  Location_Woodlawn, MD  \\\n",
       "0                    0                   0                      0   \n",
       "1                    0                   0                      0   \n",
       "2                    0                   0                      0   \n",
       "3                    0                   0                      0   \n",
       "4                    0                   0                      0   \n",
       "\n",
       "   Location_Yorkshire  \n",
       "0                   0  \n",
       "1                   0  \n",
       "2                   0  \n",
       "3                   0  \n",
       "4                   0  \n",
       "\n",
       "[5 rows x 213 columns]"
      ]
     },
     "execution_count": 62,
     "metadata": {},
     "output_type": "execute_result"
    }
   ],
   "source": [
    "df_result.head()"
   ]
  },
  {
   "cell_type": "markdown",
   "metadata": {},
   "source": [
    "## Adding top words feature"
   ]
  },
  {
   "cell_type": "code",
   "execution_count": 63,
   "metadata": {},
   "outputs": [],
   "source": [
    "# Declaring target and variables\n",
    "\n",
    "dfX = df_result.copy()\n",
    "y = dfX.pop('Salary_category')\n",
    "X = dfX\n",
    "X.drop(columns=['Title','Company'],inplace=True)"
   ]
  },
  {
   "cell_type": "code",
   "execution_count": 64,
   "metadata": {},
   "outputs": [],
   "source": [
    "# Getting a train-test split\n",
    "\n",
    "X_train, X_test, y_train, y_test = train_test_split(\n",
    "    X, y, stratify=y, test_size=0.4, random_state=1)"
   ]
  },
  {
   "cell_type": "code",
   "execution_count": 65,
   "metadata": {},
   "outputs": [],
   "source": [
    "# Scaling the features\n",
    "\n",
    "scaler = StandardScaler()\n",
    "X_train = pd.DataFrame(scaler.fit_transform(\n",
    "    X_train), columns=X_train.columns, index=X_train.index)\n",
    "X_test = pd.DataFrame(scaler.transform(\n",
    "    X_test), columns=X_test.columns, index=X_test.index)"
   ]
  },
  {
   "cell_type": "markdown",
   "metadata": {},
   "source": [
    "### Logistic Regression"
   ]
  },
  {
   "cell_type": "code",
   "execution_count": 66,
   "metadata": {},
   "outputs": [
    {
     "name": "stderr",
     "output_type": "stream",
     "text": [
      "//anaconda3/lib/python3.7/site-packages/sklearn/model_selection/_search.py:813: DeprecationWarning: The default of the `iid` parameter will change from True to False in version 0.22 and will be removed in 0.24. This will change numeric results when test-set sizes are unequal.\n",
      "  DeprecationWarning)\n"
     ]
    },
    {
     "data": {
      "text/plain": [
       "GridSearchCV(cv=5, error_score='raise-deprecating',\n",
       "             estimator=LogisticRegression(C=1.0, class_weight=None, dual=False,\n",
       "                                          fit_intercept=True,\n",
       "                                          intercept_scaling=1, l1_ratio=None,\n",
       "                                          max_iter=100, multi_class='ovr',\n",
       "                                          n_jobs=None, penalty='l2',\n",
       "                                          random_state=None, solver='liblinear',\n",
       "                                          tol=0.0001, verbose=0,\n",
       "                                          warm_start=False),\n",
       "             iid='warn', n_jobs=None,\n",
       "             param_grid={'C': array([1.00000000e-04, 7.74263683e-04, 5.99484250e-03, 4.64158883e-02,\n",
       "       3.59381366e-01, 2.78255940e+00, 2.15443469e+01, 1.66810054e+02,\n",
       "       1.29154967e+03, 1.00000000e+04]),\n",
       "                         'fit_intercept': [True, False],\n",
       "                         'penalty': ['l1', 'l2']},\n",
       "             pre_dispatch='2*n_jobs', refit=True, return_train_score=True,\n",
       "             scoring='accuracy', verbose=0)"
      ]
     },
     "execution_count": 66,
     "metadata": {},
     "output_type": "execute_result"
    }
   ],
   "source": [
    "# Setting the params\n",
    "\n",
    "params = {'C': np.logspace(-4, 4, 10),\n",
    "          'penalty': ['l1', 'l2'],\n",
    "          'fit_intercept': [True, False]}\n",
    "\n",
    "# Setting a gridsearch and fitting a model\n",
    "\n",
    "model = LogisticRegression(solver='liblinear', multi_class='ovr')\n",
    "gs_lr = GridSearchCV(estimator=model,\n",
    "                  param_grid=params,\n",
    "                  cv=5,\n",
    "                  scoring='accuracy',\n",
    "                  return_train_score=True)\n",
    "\n",
    "gs_lr.fit(X_train, y_train)\n",
    "\n",
    "# extract the grid search results\n"
   ]
  },
  {
   "cell_type": "code",
   "execution_count": 67,
   "metadata": {},
   "outputs": [
    {
     "name": "stdout",
     "output_type": "stream",
     "text": [
      "{'C': 166.81005372000558, 'fit_intercept': False, 'penalty': 'l1'}\n"
     ]
    }
   ],
   "source": [
    "print(gs_lr.best_params_)"
   ]
  },
  {
   "cell_type": "code",
   "execution_count": 69,
   "metadata": {},
   "outputs": [
    {
     "name": "stdout",
     "output_type": "stream",
     "text": [
      "Train score:  0.8911174785100286\n",
      "Train CV score:  0.655895783910625\n",
      "Test score:  0.6623931623931624\n",
      "Test CV score:  0.6024130256481255\n"
     ]
    }
   ],
   "source": [
    "# Fitting a Logistic regression model using best params\n",
    "\n",
    "lr = LogisticRegression(solver='liblinear', multi_class='ovr',C=166.81005372000558,fit_intercept=False,penalty='l1')\n",
    "lr.fit(X_train, y_train)\n",
    "\n",
    "print(\"Train score: \", lr.score(X_train, y_train))\n",
    "print(\"Train CV score: \", cross_val_score(lr, X_train, y_train, cv=5).mean())\n",
    "print(\"Test score: \", lr.score(X_test, y_test))\n",
    "print(\"Test CV score: \", cross_val_score(lr, X_test, y_test, cv=5).mean())"
   ]
  },
  {
   "cell_type": "markdown",
   "metadata": {},
   "source": [
    "### Decision Tree"
   ]
  },
  {
   "cell_type": "code",
   "execution_count": 70,
   "metadata": {},
   "outputs": [
    {
     "name": "stdout",
     "output_type": "stream",
     "text": [
      "Fitting 5 folds for each of 484 candidates, totalling 2420 fits\n"
     ]
    },
    {
     "name": "stderr",
     "output_type": "stream",
     "text": [
      "[Parallel(n_jobs=1)]: Using backend SequentialBackend with 1 concurrent workers.\n",
      "[Parallel(n_jobs=1)]: Done 2420 out of 2420 | elapsed:    5.8s finished\n"
     ]
    },
    {
     "data": {
      "text/plain": [
       "GridSearchCV(cv=5, error_score='raise-deprecating',\n",
       "             estimator=DecisionTreeClassifier(class_weight=None,\n",
       "                                              criterion='gini', max_depth=None,\n",
       "                                              max_features=None,\n",
       "                                              max_leaf_nodes=None,\n",
       "                                              min_impurity_decrease=0.0,\n",
       "                                              min_impurity_split=None,\n",
       "                                              min_samples_leaf=1,\n",
       "                                              min_samples_split=2,\n",
       "                                              min_weight_fraction_leaf=0.0,\n",
       "                                              presort=False, random_state=1,\n",
       "                                              splitter='best'),\n",
       "             iid=False, n_jobs=None,\n",
       "             param_grid={'max_depth': [1, 2, 3, 4, 5, 6, 7, 8, 9, 10, None],\n",
       "                         'max_features': [None, 1, 2, 3],\n",
       "                         'min_samples_split': [2, 3, 4, 5, 10, 15, 20, 25, 30,\n",
       "                                               40, 50]},\n",
       "             pre_dispatch='2*n_jobs', refit=True, return_train_score=False,\n",
       "             scoring=None, verbose=1)"
      ]
     },
     "execution_count": 70,
     "metadata": {},
     "output_type": "execute_result"
    }
   ],
   "source": [
    "# Setting the params\n",
    "\n",
    "dtc_params = {\n",
    "    'max_depth': list(range(1, 11))+[None],\n",
    "    'max_features': [None, 1, 2, 3],\n",
    "    'min_samples_split': [2, 3, 4, 5, 10, 15, 20, 25, 30, 40, 50]\n",
    "}\n",
    "\n",
    "# set the gridsearch\n",
    "model = DecisionTreeClassifier(random_state=1)\n",
    "dtc_gs = GridSearchCV(model, dtc_params, cv=5, verbose=1, iid=False)\n",
    "\n",
    "# use the gridearch model to fit the data\n",
    "dtc_gs.fit(X_train, y_train)"
   ]
  },
  {
   "cell_type": "code",
   "execution_count": 71,
   "metadata": {},
   "outputs": [
    {
     "name": "stdout",
     "output_type": "stream",
     "text": [
      "{'max_depth': None, 'max_features': None, 'min_samples_split': 2}\n"
     ]
    }
   ],
   "source": [
    "print(dtc_gs.best_params_)"
   ]
  },
  {
   "cell_type": "code",
   "execution_count": 72,
   "metadata": {},
   "outputs": [
    {
     "name": "stdout",
     "output_type": "stream",
     "text": [
      "Train score:  0.9398280802292264\n",
      "Train CV score:  0.6513449323391328\n",
      "Test score:  0.7094017094017094\n",
      "Test CV score:  0.5641654552662879\n"
     ]
    }
   ],
   "source": [
    "# Fitting a decision tree using best params\n",
    "\n",
    "DTC = DecisionTreeClassifier(criterion='gini',\n",
    "                                    max_depth=None,\n",
    "                                    max_features=None,\n",
    "                                    min_samples_split=2,\n",
    "                                    random_state=1)\n",
    "DTC.fit(X_train, y_train)\n",
    "\n",
    "print(\"Train score: \", DTC.score(X_train, y_train))\n",
    "print(\"Train CV score: \", cross_val_score(DTC, X_train, y_train, cv=5).mean())\n",
    "print(\"Test score: \", DTC.score(X_test, y_test))\n",
    "print(\"Test CV score: \", cross_val_score(DTC, X_test, y_test, cv=5).mean())"
   ]
  },
  {
   "cell_type": "markdown",
   "metadata": {},
   "source": [
    "## Adding the company feature"
   ]
  },
  {
   "cell_type": "code",
   "execution_count": 73,
   "metadata": {},
   "outputs": [],
   "source": [
    "# Creating new df adding company as a dummy variable\n",
    "\n",
    "df2_result = df_result.copy()\n",
    "\n",
    "df2_result = pd.get_dummies(df2_result,columns=['Company'],drop_first=True)\n",
    "\n",
    "df2_result.drop(columns=['Title'],inplace=True)"
   ]
  },
  {
   "cell_type": "code",
   "execution_count": 74,
   "metadata": {},
   "outputs": [
    {
     "data": {
      "text/html": [
       "<div>\n",
       "<style scoped>\n",
       "    .dataframe tbody tr th:only-of-type {\n",
       "        vertical-align: middle;\n",
       "    }\n",
       "\n",
       "    .dataframe tbody tr th {\n",
       "        vertical-align: top;\n",
       "    }\n",
       "\n",
       "    .dataframe thead th {\n",
       "        text-align: right;\n",
       "    }\n",
       "</style>\n",
       "<table border=\"1\" class=\"dataframe\">\n",
       "  <thead>\n",
       "    <tr style=\"text-align: right;\">\n",
       "      <th></th>\n",
       "      <th>ai</th>\n",
       "      <th>analyst</th>\n",
       "      <th>analytics</th>\n",
       "      <th>assistant</th>\n",
       "      <th>associate</th>\n",
       "      <th>aws</th>\n",
       "      <th>casino</th>\n",
       "      <th>computational</th>\n",
       "      <th>data</th>\n",
       "      <th>devops</th>\n",
       "      <th>...</th>\n",
       "      <th>Company_Xyken, LLC</th>\n",
       "      <th>Company_ZUNA</th>\n",
       "      <th>Company_Zarathustra Technologies Ltd.</th>\n",
       "      <th>Company_Zelus Analytics</th>\n",
       "      <th>Company_ZenShin Talent</th>\n",
       "      <th>Company_Zeneesha Limited</th>\n",
       "      <th>Company_causaLens</th>\n",
       "      <th>Company_decisionLab Ltd</th>\n",
       "      <th>Company_kdr Recruitment</th>\n",
       "      <th>Company_onezeero</th>\n",
       "    </tr>\n",
       "  </thead>\n",
       "  <tbody>\n",
       "    <tr>\n",
       "      <th>0</th>\n",
       "      <td>0.0</td>\n",
       "      <td>0.0</td>\n",
       "      <td>0.0</td>\n",
       "      <td>0.0</td>\n",
       "      <td>0.0</td>\n",
       "      <td>0.0</td>\n",
       "      <td>0.0</td>\n",
       "      <td>0.0</td>\n",
       "      <td>0.645333</td>\n",
       "      <td>0.0</td>\n",
       "      <td>...</td>\n",
       "      <td>0</td>\n",
       "      <td>0</td>\n",
       "      <td>0</td>\n",
       "      <td>0</td>\n",
       "      <td>0</td>\n",
       "      <td>0</td>\n",
       "      <td>0</td>\n",
       "      <td>0</td>\n",
       "      <td>0</td>\n",
       "      <td>0</td>\n",
       "    </tr>\n",
       "    <tr>\n",
       "      <th>1</th>\n",
       "      <td>0.0</td>\n",
       "      <td>0.0</td>\n",
       "      <td>0.0</td>\n",
       "      <td>0.0</td>\n",
       "      <td>0.0</td>\n",
       "      <td>0.0</td>\n",
       "      <td>0.0</td>\n",
       "      <td>0.0</td>\n",
       "      <td>0.000000</td>\n",
       "      <td>0.0</td>\n",
       "      <td>...</td>\n",
       "      <td>0</td>\n",
       "      <td>0</td>\n",
       "      <td>0</td>\n",
       "      <td>0</td>\n",
       "      <td>0</td>\n",
       "      <td>0</td>\n",
       "      <td>0</td>\n",
       "      <td>0</td>\n",
       "      <td>0</td>\n",
       "      <td>0</td>\n",
       "    </tr>\n",
       "    <tr>\n",
       "      <th>2</th>\n",
       "      <td>0.0</td>\n",
       "      <td>0.0</td>\n",
       "      <td>0.0</td>\n",
       "      <td>0.0</td>\n",
       "      <td>0.0</td>\n",
       "      <td>0.0</td>\n",
       "      <td>0.0</td>\n",
       "      <td>0.0</td>\n",
       "      <td>0.184244</td>\n",
       "      <td>0.0</td>\n",
       "      <td>...</td>\n",
       "      <td>0</td>\n",
       "      <td>0</td>\n",
       "      <td>0</td>\n",
       "      <td>0</td>\n",
       "      <td>0</td>\n",
       "      <td>0</td>\n",
       "      <td>0</td>\n",
       "      <td>0</td>\n",
       "      <td>0</td>\n",
       "      <td>0</td>\n",
       "    </tr>\n",
       "    <tr>\n",
       "      <th>3</th>\n",
       "      <td>0.0</td>\n",
       "      <td>0.0</td>\n",
       "      <td>0.0</td>\n",
       "      <td>0.0</td>\n",
       "      <td>0.0</td>\n",
       "      <td>0.0</td>\n",
       "      <td>0.0</td>\n",
       "      <td>0.0</td>\n",
       "      <td>0.283000</td>\n",
       "      <td>0.0</td>\n",
       "      <td>...</td>\n",
       "      <td>0</td>\n",
       "      <td>0</td>\n",
       "      <td>0</td>\n",
       "      <td>0</td>\n",
       "      <td>0</td>\n",
       "      <td>0</td>\n",
       "      <td>0</td>\n",
       "      <td>0</td>\n",
       "      <td>0</td>\n",
       "      <td>0</td>\n",
       "    </tr>\n",
       "    <tr>\n",
       "      <th>4</th>\n",
       "      <td>0.0</td>\n",
       "      <td>0.0</td>\n",
       "      <td>0.0</td>\n",
       "      <td>0.0</td>\n",
       "      <td>0.0</td>\n",
       "      <td>0.0</td>\n",
       "      <td>0.0</td>\n",
       "      <td>0.0</td>\n",
       "      <td>0.000000</td>\n",
       "      <td>0.0</td>\n",
       "      <td>...</td>\n",
       "      <td>0</td>\n",
       "      <td>0</td>\n",
       "      <td>0</td>\n",
       "      <td>0</td>\n",
       "      <td>0</td>\n",
       "      <td>0</td>\n",
       "      <td>0</td>\n",
       "      <td>0</td>\n",
       "      <td>0</td>\n",
       "      <td>0</td>\n",
       "    </tr>\n",
       "  </tbody>\n",
       "</table>\n",
       "<p>5 rows × 461 columns</p>\n",
       "</div>"
      ],
      "text/plain": [
       "    ai  analyst  analytics  assistant  associate  aws  casino  computational  \\\n",
       "0  0.0      0.0        0.0        0.0        0.0  0.0     0.0            0.0   \n",
       "1  0.0      0.0        0.0        0.0        0.0  0.0     0.0            0.0   \n",
       "2  0.0      0.0        0.0        0.0        0.0  0.0     0.0            0.0   \n",
       "3  0.0      0.0        0.0        0.0        0.0  0.0     0.0            0.0   \n",
       "4  0.0      0.0        0.0        0.0        0.0  0.0     0.0            0.0   \n",
       "\n",
       "       data  devops  ...  Company_Xyken, LLC  Company_ZUNA  \\\n",
       "0  0.645333     0.0  ...                   0             0   \n",
       "1  0.000000     0.0  ...                   0             0   \n",
       "2  0.184244     0.0  ...                   0             0   \n",
       "3  0.283000     0.0  ...                   0             0   \n",
       "4  0.000000     0.0  ...                   0             0   \n",
       "\n",
       "   Company_Zarathustra Technologies Ltd.  Company_Zelus Analytics  \\\n",
       "0                                      0                        0   \n",
       "1                                      0                        0   \n",
       "2                                      0                        0   \n",
       "3                                      0                        0   \n",
       "4                                      0                        0   \n",
       "\n",
       "   Company_ZenShin Talent  Company_Zeneesha Limited  Company_causaLens  \\\n",
       "0                       0                         0                  0   \n",
       "1                       0                         0                  0   \n",
       "2                       0                         0                  0   \n",
       "3                       0                         0                  0   \n",
       "4                       0                         0                  0   \n",
       "\n",
       "   Company_decisionLab Ltd  Company_kdr Recruitment  Company_onezeero  \n",
       "0                        0                        0                 0  \n",
       "1                        0                        0                 0  \n",
       "2                        0                        0                 0  \n",
       "3                        0                        0                 0  \n",
       "4                        0                        0                 0  \n",
       "\n",
       "[5 rows x 461 columns]"
      ]
     },
     "execution_count": 74,
     "metadata": {},
     "output_type": "execute_result"
    }
   ],
   "source": [
    "df2_result.head()"
   ]
  },
  {
   "cell_type": "code",
   "execution_count": 112,
   "metadata": {},
   "outputs": [],
   "source": [
    "# Declaring target and variables \n",
    "\n",
    "dfZ = df2_result.copy()\n",
    "y = dfZ.pop('Salary_category')\n",
    "X = dfZ"
   ]
  },
  {
   "cell_type": "code",
   "execution_count": 113,
   "metadata": {},
   "outputs": [],
   "source": [
    "# Getting a train-test split\n",
    "\n",
    "X_train, X_test, y_train, y_test = train_test_split(\n",
    "    X, y, stratify=y, test_size=0.4, random_state=1)"
   ]
  },
  {
   "cell_type": "code",
   "execution_count": 114,
   "metadata": {},
   "outputs": [],
   "source": [
    "# Scaling X features\n",
    "\n",
    "scaler = StandardScaler()\n",
    "X_train = pd.DataFrame(scaler.fit_transform(\n",
    "    X_train), columns=X_train.columns, index=X_train.index)\n",
    "X_test = pd.DataFrame(scaler.transform(\n",
    "    X_test), columns=X_test.columns, index=X_test.index)"
   ]
  },
  {
   "cell_type": "markdown",
   "metadata": {},
   "source": [
    "### Logistic Regression"
   ]
  },
  {
   "cell_type": "code",
   "execution_count": 78,
   "metadata": {},
   "outputs": [
    {
     "name": "stderr",
     "output_type": "stream",
     "text": [
      "//anaconda3/lib/python3.7/site-packages/sklearn/svm/base.py:929: ConvergenceWarning: Liblinear failed to converge, increase the number of iterations.\n",
      "  \"the number of iterations.\", ConvergenceWarning)\n",
      "//anaconda3/lib/python3.7/site-packages/sklearn/model_selection/_search.py:813: DeprecationWarning: The default of the `iid` parameter will change from True to False in version 0.22 and will be removed in 0.24. This will change numeric results when test-set sizes are unequal.\n",
      "  DeprecationWarning)\n"
     ]
    },
    {
     "name": "stdout",
     "output_type": "stream",
     "text": [
      "Best Parameters:\n",
      "{'C': 166.81005372000558, 'fit_intercept': True, 'penalty': 'l1'}\n",
      "Best estimator C:\n",
      "166.81005372000558\n"
     ]
    }
   ],
   "source": [
    "# Setting the parameters\n",
    "\n",
    "params = {'C': np.logspace(-4, 4, 10),\n",
    "          'penalty': ['l1', 'l2'],\n",
    "          'fit_intercept': [True, False]}\n",
    "\n",
    "# Setting the model\n",
    "\n",
    "lr = LogisticRegression(solver='liblinear', multi_class='ovr')\n",
    "\n",
    "\n",
    "# Running a grid search & fitting the model\n",
    "\n",
    "gs_lr = GridSearchCV(estimator=lr,\n",
    "                  param_grid=params,\n",
    "                  cv=5,\n",
    "                  scoring='accuracy',\n",
    "                  return_train_score=True)\n",
    "\n",
    "gs_lr.fit(X_train, y_train)\n",
    "\n",
    "# extract the grid search results\n",
    "\n",
    "print('Best Parameters:')\n",
    "print(gs_lr.best_params_)\n",
    "print('Best estimator C:')\n",
    "print(gs_lr.best_estimator_.C)"
   ]
  },
  {
   "cell_type": "code",
   "execution_count": 115,
   "metadata": {},
   "outputs": [
    {
     "name": "stdout",
     "output_type": "stream",
     "text": [
      "Train score:  0.9914040114613181\n",
      "Train CV score:  0.7047701554596119\n",
      "Test score:  0.7222222222222222\n",
      "Test CV score:  0.6338673983315188\n"
     ]
    }
   ],
   "source": [
    "# Fitting a logistic regression model using best params\n",
    "\n",
    "lr = LogisticRegression(solver='liblinear', multi_class='ovr',C=166.81005372000558,fit_intercept=True,penalty='l1')\n",
    "lr.fit(X_train, y_train)\n",
    "\n",
    "print(\"Train score: \", lr.score(X_train, y_train))\n",
    "print(\"Train CV score: \", cross_val_score(lr, X_train, y_train, cv=5).mean())\n",
    "print(\"Test score: \", lr.score(X_test, y_test))\n",
    "print(\"Test CV score: \", cross_val_score(lr, X_test, y_test, cv=5).mean())"
   ]
  },
  {
   "cell_type": "code",
   "execution_count": 116,
   "metadata": {},
   "outputs": [
    {
     "data": {
      "text/html": [
       "<div>\n",
       "<style scoped>\n",
       "    .dataframe tbody tr th:only-of-type {\n",
       "        vertical-align: middle;\n",
       "    }\n",
       "\n",
       "    .dataframe tbody tr th {\n",
       "        vertical-align: top;\n",
       "    }\n",
       "\n",
       "    .dataframe thead th {\n",
       "        text-align: right;\n",
       "    }\n",
       "</style>\n",
       "<table border=\"1\" class=\"dataframe\">\n",
       "  <thead>\n",
       "    <tr style=\"text-align: right;\">\n",
       "      <th></th>\n",
       "      <th>High</th>\n",
       "      <th>HighMid</th>\n",
       "      <th>Low</th>\n",
       "      <th>LowMid</th>\n",
       "      <th>importance</th>\n",
       "    </tr>\n",
       "  </thead>\n",
       "  <tbody>\n",
       "    <tr>\n",
       "      <th>Location_Omaha, NE</th>\n",
       "      <td>0.000000</td>\n",
       "      <td>3.865269</td>\n",
       "      <td>0.000000</td>\n",
       "      <td>0.000000</td>\n",
       "      <td>0.966317</td>\n",
       "    </tr>\n",
       "    <tr>\n",
       "      <th>Location_London</th>\n",
       "      <td>-0.160564</td>\n",
       "      <td>0.356001</td>\n",
       "      <td>0.000000</td>\n",
       "      <td>2.973272</td>\n",
       "      <td>0.792177</td>\n",
       "    </tr>\n",
       "    <tr>\n",
       "      <th>scientist</th>\n",
       "      <td>-0.055228</td>\n",
       "      <td>-0.669958</td>\n",
       "      <td>2.645015</td>\n",
       "      <td>1.232036</td>\n",
       "      <td>0.787966</td>\n",
       "    </tr>\n",
       "    <tr>\n",
       "      <th>Location_Atlanta, GA 30305 (Buckhead area)</th>\n",
       "      <td>0.807247</td>\n",
       "      <td>2.813149</td>\n",
       "      <td>-0.373402</td>\n",
       "      <td>-0.247632</td>\n",
       "      <td>0.749841</td>\n",
       "    </tr>\n",
       "    <tr>\n",
       "      <th>data</th>\n",
       "      <td>0.186681</td>\n",
       "      <td>3.188587</td>\n",
       "      <td>2.286416</td>\n",
       "      <td>-2.701512</td>\n",
       "      <td>0.740043</td>\n",
       "    </tr>\n",
       "    <tr>\n",
       "      <th>Location_St. Louis, MO 63130</th>\n",
       "      <td>0.000000</td>\n",
       "      <td>0.000000</td>\n",
       "      <td>0.000000</td>\n",
       "      <td>2.817514</td>\n",
       "      <td>0.704378</td>\n",
       "    </tr>\n",
       "    <tr>\n",
       "      <th>assistant</th>\n",
       "      <td>0.000000</td>\n",
       "      <td>0.000000</td>\n",
       "      <td>3.043337</td>\n",
       "      <td>-0.311054</td>\n",
       "      <td>0.683071</td>\n",
       "    </tr>\n",
       "    <tr>\n",
       "      <th>Company_Washington University in St. Louis</th>\n",
       "      <td>0.000000</td>\n",
       "      <td>0.000000</td>\n",
       "      <td>0.000000</td>\n",
       "      <td>2.730937</td>\n",
       "      <td>0.682734</td>\n",
       "    </tr>\n",
       "    <tr>\n",
       "      <th>Location_Pittsburgh, PA</th>\n",
       "      <td>0.000000</td>\n",
       "      <td>0.000000</td>\n",
       "      <td>-0.764693</td>\n",
       "      <td>3.409435</td>\n",
       "      <td>0.661186</td>\n",
       "    </tr>\n",
       "    <tr>\n",
       "      <th>Company_Blue Pelican</th>\n",
       "      <td>0.000000</td>\n",
       "      <td>-0.037498</td>\n",
       "      <td>-0.410168</td>\n",
       "      <td>3.078004</td>\n",
       "      <td>0.657585</td>\n",
       "    </tr>\n",
       "    <tr>\n",
       "      <th>Company_TKC holdings</th>\n",
       "      <td>3.268641</td>\n",
       "      <td>0.000000</td>\n",
       "      <td>0.000000</td>\n",
       "      <td>-1.026352</td>\n",
       "      <td>0.560572</td>\n",
       "    </tr>\n",
       "    <tr>\n",
       "      <th>Company_The University of Pittsburgh</th>\n",
       "      <td>0.000000</td>\n",
       "      <td>0.000000</td>\n",
       "      <td>-0.766764</td>\n",
       "      <td>2.990335</td>\n",
       "      <td>0.555893</td>\n",
       "    </tr>\n",
       "    <tr>\n",
       "      <th>graduate</th>\n",
       "      <td>0.000000</td>\n",
       "      <td>0.000000</td>\n",
       "      <td>2.375856</td>\n",
       "      <td>-0.236729</td>\n",
       "      <td>0.534782</td>\n",
       "    </tr>\n",
       "    <tr>\n",
       "      <th>Location_Bridgewater, NJ</th>\n",
       "      <td>0.000000</td>\n",
       "      <td>0.000000</td>\n",
       "      <td>-0.337227</td>\n",
       "      <td>2.426115</td>\n",
       "      <td>0.522222</td>\n",
       "    </tr>\n",
       "    <tr>\n",
       "      <th>Company_Dataplus Pharma Services</th>\n",
       "      <td>0.000000</td>\n",
       "      <td>0.000000</td>\n",
       "      <td>-0.249804</td>\n",
       "      <td>2.097171</td>\n",
       "      <td>0.461842</td>\n",
       "    </tr>\n",
       "    <tr>\n",
       "      <th>Location_United Kingdom</th>\n",
       "      <td>0.000000</td>\n",
       "      <td>0.000000</td>\n",
       "      <td>2.422427</td>\n",
       "      <td>-0.590533</td>\n",
       "      <td>0.457973</td>\n",
       "    </tr>\n",
       "    <tr>\n",
       "      <th>Company_US Department of Commerce</th>\n",
       "      <td>1.785034</td>\n",
       "      <td>0.000000</td>\n",
       "      <td>0.000000</td>\n",
       "      <td>0.000000</td>\n",
       "      <td>0.446258</td>\n",
       "    </tr>\n",
       "    <tr>\n",
       "      <th>sr</th>\n",
       "      <td>-2.049277</td>\n",
       "      <td>0.000000</td>\n",
       "      <td>-0.926402</td>\n",
       "      <td>4.703152</td>\n",
       "      <td>0.431868</td>\n",
       "    </tr>\n",
       "    <tr>\n",
       "      <th>Company_Bettor Believe</th>\n",
       "      <td>0.000000</td>\n",
       "      <td>0.000000</td>\n",
       "      <td>1.014037</td>\n",
       "      <td>0.642792</td>\n",
       "      <td>0.414207</td>\n",
       "    </tr>\n",
       "    <tr>\n",
       "      <th>Location_Atlanta, GA 30307</th>\n",
       "      <td>1.597724</td>\n",
       "      <td>0.000000</td>\n",
       "      <td>0.000000</td>\n",
       "      <td>0.000000</td>\n",
       "      <td>0.399431</td>\n",
       "    </tr>\n",
       "  </tbody>\n",
       "</table>\n",
       "</div>"
      ],
      "text/plain": [
       "                                                High   HighMid       Low  \\\n",
       "Location_Omaha, NE                          0.000000  3.865269  0.000000   \n",
       "Location_London                            -0.160564  0.356001  0.000000   \n",
       "scientist                                  -0.055228 -0.669958  2.645015   \n",
       "Location_Atlanta, GA 30305 (Buckhead area)  0.807247  2.813149 -0.373402   \n",
       "data                                        0.186681  3.188587  2.286416   \n",
       "Location_St. Louis, MO 63130                0.000000  0.000000  0.000000   \n",
       "assistant                                   0.000000  0.000000  3.043337   \n",
       "Company_Washington University in St. Louis  0.000000  0.000000  0.000000   \n",
       "Location_Pittsburgh, PA                     0.000000  0.000000 -0.764693   \n",
       "Company_Blue Pelican                        0.000000 -0.037498 -0.410168   \n",
       "Company_TKC holdings                        3.268641  0.000000  0.000000   \n",
       "Company_The University of Pittsburgh        0.000000  0.000000 -0.766764   \n",
       "graduate                                    0.000000  0.000000  2.375856   \n",
       "Location_Bridgewater, NJ                    0.000000  0.000000 -0.337227   \n",
       "Company_Dataplus Pharma Services            0.000000  0.000000 -0.249804   \n",
       "Location_United Kingdom                     0.000000  0.000000  2.422427   \n",
       "Company_US Department of Commerce           1.785034  0.000000  0.000000   \n",
       "sr                                         -2.049277  0.000000 -0.926402   \n",
       "Company_Bettor Believe                      0.000000  0.000000  1.014037   \n",
       "Location_Atlanta, GA 30307                  1.597724  0.000000  0.000000   \n",
       "\n",
       "                                              LowMid  importance  \n",
       "Location_Omaha, NE                          0.000000    0.966317  \n",
       "Location_London                             2.973272    0.792177  \n",
       "scientist                                   1.232036    0.787966  \n",
       "Location_Atlanta, GA 30305 (Buckhead area) -0.247632    0.749841  \n",
       "data                                       -2.701512    0.740043  \n",
       "Location_St. Louis, MO 63130                2.817514    0.704378  \n",
       "assistant                                  -0.311054    0.683071  \n",
       "Company_Washington University in St. Louis  2.730937    0.682734  \n",
       "Location_Pittsburgh, PA                     3.409435    0.661186  \n",
       "Company_Blue Pelican                        3.078004    0.657585  \n",
       "Company_TKC holdings                       -1.026352    0.560572  \n",
       "Company_The University of Pittsburgh        2.990335    0.555893  \n",
       "graduate                                   -0.236729    0.534782  \n",
       "Location_Bridgewater, NJ                    2.426115    0.522222  \n",
       "Company_Dataplus Pharma Services            2.097171    0.461842  \n",
       "Location_United Kingdom                    -0.590533    0.457973  \n",
       "Company_US Department of Commerce           0.000000    0.446258  \n",
       "sr                                          4.703152    0.431868  \n",
       "Company_Bettor Believe                      0.642792    0.414207  \n",
       "Location_Atlanta, GA 30307                  0.000000    0.399431  "
      ]
     },
     "execution_count": 116,
     "metadata": {},
     "output_type": "execute_result"
    }
   ],
   "source": [
    "# Displaying coef importance of the logistic regression model\n",
    "\n",
    "coef = pd.DataFrame(lr.coef_.T,columns=lr.classes_,index=X.columns)\n",
    "\n",
    "coef['importance'] = coef.mean(1)\n",
    "\n",
    "coef.sort_values(by='importance',ascending=False)[:20]"
   ]
  },
  {
   "cell_type": "code",
   "execution_count": 82,
   "metadata": {},
   "outputs": [
    {
     "name": "stdout",
     "output_type": "stream",
     "text": [
      "Fitting 5 folds for each of 484 candidates, totalling 2420 fits\n"
     ]
    },
    {
     "name": "stderr",
     "output_type": "stream",
     "text": [
      "[Parallel(n_jobs=1)]: Using backend SequentialBackend with 1 concurrent workers.\n"
     ]
    },
    {
     "name": "stdout",
     "output_type": "stream",
     "text": [
      "{'max_depth': None, 'max_features': None, 'min_samples_split': 2}\n"
     ]
    },
    {
     "name": "stderr",
     "output_type": "stream",
     "text": [
      "[Parallel(n_jobs=1)]: Done 2420 out of 2420 | elapsed:    6.6s finished\n"
     ]
    }
   ],
   "source": [
    "# Setting a grid search on the decision tree model \n",
    "\n",
    "dtc_params = {\n",
    "    'max_depth': list(range(1, 11))+[None],\n",
    "    'max_features': [None, 1, 2, 3],\n",
    "    'min_samples_split': [2, 3, 4, 5, 10, 15, 20, 25, 30, 40, 50]\n",
    "}\n",
    "\n",
    "# set the gridsearch\n",
    "model = DecisionTreeClassifier(random_state=1)\n",
    "dtc_gs = GridSearchCV(model, dtc_params, cv=5, verbose=1, iid=False)\n",
    "\n",
    "# use the gridearch model to fit the data\n",
    "dtc_gs.fit(X_train, y_train)\n",
    "\n",
    "print(dtc_gs.best_params_)"
   ]
  },
  {
   "cell_type": "code",
   "execution_count": 83,
   "metadata": {},
   "outputs": [
    {
     "name": "stdout",
     "output_type": "stream",
     "text": [
      "Train score:  0.9914040114613181\n",
      "Train CV score:  0.7048187162188818\n",
      "Test score:  0.7393162393162394\n",
      "Test CV score:  0.6061277350903358\n"
     ]
    }
   ],
   "source": [
    "# Fitting a decision tree model using best params\n",
    "\n",
    "DTC = DecisionTreeClassifier(criterion='gini',\n",
    "                                    max_depth=None,\n",
    "                                    max_features=None,\n",
    "                                    min_samples_split=2,\n",
    "                                    random_state=1)\n",
    "DTC.fit(X_train, y_train)\n",
    "\n",
    "print(\"Train score: \", DTC.score(X_train, y_train))\n",
    "print(\"Train CV score: \", cross_val_score(DTC, X_train, y_train, cv=5).mean())\n",
    "print(\"Test score: \", DTC.score(X_test, y_test))\n",
    "print(\"Test CV score: \", cross_val_score(DTC, X_test, y_test, cv=5).mean())"
   ]
  },
  {
   "cell_type": "code",
   "execution_count": 84,
   "metadata": {},
   "outputs": [
    {
     "data": {
      "text/plain": [
       "array(['High', 'HighMid', 'Low', 'LowMid'], dtype=object)"
      ]
     },
     "execution_count": 84,
     "metadata": {},
     "output_type": "execute_result"
    }
   ],
   "source": [
    "DTC.classes_"
   ]
  },
  {
   "cell_type": "code",
   "execution_count": 85,
   "metadata": {},
   "outputs": [
    {
     "data": {
      "text/html": [
       "<div>\n",
       "<style scoped>\n",
       "    .dataframe tbody tr th:only-of-type {\n",
       "        vertical-align: middle;\n",
       "    }\n",
       "\n",
       "    .dataframe tbody tr th {\n",
       "        vertical-align: top;\n",
       "    }\n",
       "\n",
       "    .dataframe thead th {\n",
       "        text-align: right;\n",
       "    }\n",
       "</style>\n",
       "<table border=\"1\" class=\"dataframe\">\n",
       "  <thead>\n",
       "    <tr style=\"text-align: right;\">\n",
       "      <th></th>\n",
       "      <th>importance</th>\n",
       "    </tr>\n",
       "  </thead>\n",
       "  <tbody>\n",
       "    <tr>\n",
       "      <th>engineer</th>\n",
       "      <td>0.067299</td>\n",
       "    </tr>\n",
       "    <tr>\n",
       "      <th>data</th>\n",
       "      <td>0.049270</td>\n",
       "    </tr>\n",
       "    <tr>\n",
       "      <th>software</th>\n",
       "      <td>0.047850</td>\n",
       "    </tr>\n",
       "    <tr>\n",
       "      <th>senior</th>\n",
       "      <td>0.039813</td>\n",
       "    </tr>\n",
       "    <tr>\n",
       "      <th>Location_London</th>\n",
       "      <td>0.033579</td>\n",
       "    </tr>\n",
       "    <tr>\n",
       "      <th>statistician</th>\n",
       "      <td>0.031353</td>\n",
       "    </tr>\n",
       "    <tr>\n",
       "      <th>analyst</th>\n",
       "      <td>0.026973</td>\n",
       "    </tr>\n",
       "    <tr>\n",
       "      <th>research</th>\n",
       "      <td>0.023823</td>\n",
       "    </tr>\n",
       "    <tr>\n",
       "      <th>graduate</th>\n",
       "      <td>0.022349</td>\n",
       "    </tr>\n",
       "    <tr>\n",
       "      <th>devops</th>\n",
       "      <td>0.021724</td>\n",
       "    </tr>\n",
       "    <tr>\n",
       "      <th>Company_Harnham</th>\n",
       "      <td>0.020690</td>\n",
       "    </tr>\n",
       "    <tr>\n",
       "      <th>Company_Red Berry Innovations</th>\n",
       "      <td>0.020482</td>\n",
       "    </tr>\n",
       "    <tr>\n",
       "      <th>learning</th>\n",
       "      <td>0.018076</td>\n",
       "    </tr>\n",
       "    <tr>\n",
       "      <th>health</th>\n",
       "      <td>0.017859</td>\n",
       "    </tr>\n",
       "    <tr>\n",
       "      <th>scientist</th>\n",
       "      <td>0.017690</td>\n",
       "    </tr>\n",
       "    <tr>\n",
       "      <th>Company_Centers for Disease Control and Prevention</th>\n",
       "      <td>0.016277</td>\n",
       "    </tr>\n",
       "    <tr>\n",
       "      <th>lead</th>\n",
       "      <td>0.016233</td>\n",
       "    </tr>\n",
       "    <tr>\n",
       "      <th>Location_Anchorage, AK</th>\n",
       "      <td>0.015010</td>\n",
       "    </tr>\n",
       "    <tr>\n",
       "      <th>director</th>\n",
       "      <td>0.013732</td>\n",
       "    </tr>\n",
       "    <tr>\n",
       "      <th>quantitative</th>\n",
       "      <td>0.013603</td>\n",
       "    </tr>\n",
       "  </tbody>\n",
       "</table>\n",
       "</div>"
      ],
      "text/plain": [
       "                                                    importance\n",
       "engineer                                              0.067299\n",
       "data                                                  0.049270\n",
       "software                                              0.047850\n",
       "senior                                                0.039813\n",
       "Location_London                                       0.033579\n",
       "statistician                                          0.031353\n",
       "analyst                                               0.026973\n",
       "research                                              0.023823\n",
       "graduate                                              0.022349\n",
       "devops                                                0.021724\n",
       "Company_Harnham                                       0.020690\n",
       "Company_Red Berry Innovations                         0.020482\n",
       "learning                                              0.018076\n",
       "health                                                0.017859\n",
       "scientist                                             0.017690\n",
       "Company_Centers for Disease Control and Prevention    0.016277\n",
       "lead                                                  0.016233\n",
       "Location_Anchorage, AK                                0.015010\n",
       "director                                              0.013732\n",
       "quantitative                                          0.013603"
      ]
     },
     "execution_count": 85,
     "metadata": {},
     "output_type": "execute_result"
    }
   ],
   "source": [
    "# Displaying features importance for the decision tree model\n",
    "\n",
    "feature_importances = pd.DataFrame(DTC.feature_importances_,\n",
    "                                   index=X.columns,\n",
    "                                   columns=['importance'])\n",
    "\n",
    "feature_importances.sort_values(by='importance', ascending=False)[:20]"
   ]
  },
  {
   "cell_type": "markdown",
   "metadata": {},
   "source": [
    "### Model evaluation:\n",
    "\n",
    "Your boss would rather tell a client incorrectly that they would get a lower salary job than tell a client incorrectly that they would get a high salary job. Adjust one of your models to ease his mind, and explain what it is doing and any tradeoffs.\n",
    "\n",
    "\n",
    "- Use cross-validation to evaluate your models.\n",
    "- Evaluate the accuracy, AUC, precision and recall of the models.\n",
    "- Plot the ROC and precision-recall curves for at least one of your models."
   ]
  },
  {
   "cell_type": "code",
   "execution_count": 117,
   "metadata": {},
   "outputs": [
    {
     "name": "stdout",
     "output_type": "stream",
     "text": [
      "              precision    recall  f1-score   support\n",
      "\n",
      "        High       0.80      0.65      0.72        43\n",
      "     HighMid       0.79      0.61      0.69        36\n",
      "         Low       0.70      0.86      0.77        86\n",
      "      LowMid       0.69      0.65      0.67        69\n",
      "\n",
      "    accuracy                           0.72       234\n",
      "   macro avg       0.74      0.69      0.71       234\n",
      "weighted avg       0.73      0.72      0.72       234\n",
      "\n"
     ]
    }
   ],
   "source": [
    "# Getting the \n",
    "predictions = lr.predict(X_test)\n",
    "print(metrics.classification_report(y_test, predictions))\n"
   ]
  },
  {
   "cell_type": "code",
   "execution_count": 109,
   "metadata": {},
   "outputs": [
    {
     "name": "stdout",
     "output_type": "stream",
     "text": [
      "[[26  4  6  7]\n",
      " [ 0 22  9  5]\n",
      " [ 3  0 74  9]\n",
      " [ 3  1 19 46]]\n"
     ]
    }
   ],
   "source": [
    "# Getting the confusion matrix\n",
    "\n",
    "confusion_matrix = metrics.confusion_matrix(y_test, predictions)\n",
    "print(confusion_matrix)"
   ]
  },
  {
   "cell_type": "code",
   "execution_count": 118,
   "metadata": {},
   "outputs": [],
   "source": [
    "probabilities = lr.predict_proba(X_test)"
   ]
  },
  {
   "cell_type": "code",
   "execution_count": 91,
   "metadata": {},
   "outputs": [],
   "source": [
    "import scikitplot as skplt\n",
    "from matplotlib.colors import ListedColormap\n",
    "import seaborn as sns\n",
    "sns.set(font_scale=1.5)\n",
    "%config InlineBackend.figure_format = 'retina'\n",
    "%matplotlib inline\n",
    "cmap = ListedColormap(sns.color_palette(\"husl\", len(lr.classes_)))"
   ]
  },
  {
   "cell_type": "code",
   "execution_count": 120,
   "metadata": {},
   "outputs": [
    {
     "data": {
      "image/png": "[encoded data removed]",
      "text/plain": [
       "<Figure size 432x288 with 1 Axes>"
      ]
     },
     "metadata": {
      "image/png": {
       "height": 286,
       "width": 400
      },
      "needs_background": "light"
     },
     "output_type": "display_data"
    }
   ],
   "source": [
    "# Plotting precision_recall curve using test results\n",
    "\n",
    "skplt.metrics.plot_precision_recall(y_test, probabilities, cmap=cmap)\n",
    "plt.show()"
   ]
  },
  {
   "cell_type": "code",
   "execution_count": 93,
   "metadata": {},
   "outputs": [
    {
     "data": {
      "image/png": "[encoded data removed]",
      "text/plain": [
       "<Figure size 432x288 with 1 Axes>"
      ]
     },
     "metadata": {
      "image/png": {
       "height": 279,
       "width": 393
      },
      "needs_background": "light"
     },
     "output_type": "display_data"
    }
   ],
   "source": [
    "# Plotting the ROC curve using test results\n",
    "\n",
    "skplt.metrics.plot_roc(y_test, probabilities, cmap=cmap)\n",
    "plt.show()"
   ]
  },
  {
   "cell_type": "markdown",
   "metadata": {},
   "source": [
    "Overall the area under the curves are acceptable. The Low mid class has the weakest scores on both curves but we focus on the high and high mid scores which are good. The model is biased but we won't add more features at this point. Changing the threshold didn't result in any improvements."
   ]
  },
  {
   "cell_type": "markdown",
   "metadata": {
    "focus": false,
    "id": "4fb29de2-5b98-474c-a4ad-5170b72b9aea"
   },
   "source": [
    "<img src=\"http://imgur.com/xDpSobf.png\" style=\"float: left; margin: 25px 15px 0px 0px; height: 25px\">\n",
    "\n",
    "### Bonus:\n",
    "\n",
    "- Answer the salary discussion by using your model to explain the tradeoffs between detecting high vs low salary positions. \n",
    "- Discuss the differences and explain when you want a high-recall or a high-precision model in this scenario.\n",
    "- Obtain the ROC/precision-recall curves for the different models you studied (at least the tuned model of each category) and compare."
   ]
  },
  {
   "cell_type": "code",
   "execution_count": 445,
   "metadata": {
    "focus": false,
    "id": "068dc1cf-7fd7-4f27-a1f1-7f0a5a221d29"
   },
   "outputs": [],
   "source": [
    "## YOUR CODE HERE"
   ]
  },
  {
   "cell_type": "markdown",
   "metadata": {},
   "source": [
    "### Summarize your results in an executive summary written for a non-technical audience.\n",
    "   \n",
    "- Writeups should be at least 500-1000 words, defining any technical terms, explaining your approach, as well as any risks and limitations."
   ]
  },
  {
   "cell_type": "code",
   "execution_count": 446,
   "metadata": {},
   "outputs": [],
   "source": [
    "## YOUR TEXT HERE IN MARKDOWN FORMAT "
   ]
  },
  {
   "cell_type": "markdown",
   "metadata": {},
   "source": [
    "<img src=\"http://imgur.com/xDpSobf.png\" style=\"float: left; margin: 25px 15px 0px 0px; height: 25px\">\n",
    "\n",
    "### BONUS\n",
    "\n",
    "Convert your executive summary into a public blog post of at least 500 words, in which you document your approach in a tutorial for other aspiring data scientists. Link to this in your notebook."
   ]
  },
  {
   "cell_type": "code",
   "execution_count": 447,
   "metadata": {},
   "outputs": [],
   "source": [
    "## YOUR LINK HERE IN MARKDOWN FORMAT "
   ]
  }
 ],
 "metadata": {
  "kernelspec": {
   "display_name": "Python 3",
   "language": "python",
   "name": "python3"
  },
  "language_info": {
   "codemirror_mode": {
    "name": "ipython",
    "version": 3
   },
   "file_extension": ".py",
   "mimetype": "text/x-python",
   "name": "python",
   "nbconvert_exporter": "python",
   "pygments_lexer": "ipython3",
   "version": "3.7.3"
  },
  "toc": {
   "base_numbering": 1,
   "nav_menu": {},
   "number_sections": false,
   "sideBar": true,
   "skip_h1_title": true,
   "title_cell": "Table of Contents",
   "title_sidebar": "Contents",
   "toc_cell": false,
   "toc_position": {},
   "toc_section_display": "block",
   "toc_window_display": false
  }
 },
 "nbformat": 4,
 "nbformat_minor": 1
}
